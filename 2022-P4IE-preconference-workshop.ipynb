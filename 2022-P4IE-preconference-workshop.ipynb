{
  "cells": [
    {
      "cell_type": "markdown",
      "metadata": {
        "id": "3uuATYYtzkB2"
      },
      "source": [
        "<font size='10' color = 'E3A440'>**Pre-conference Workshop on Python**</font>\n",
        "=======\n",
        "<font color = 'E3A440'>*Pratical introduction to the analysis of unstructured data*</font>\n",
        "=============\n",
        "\n",
        "This tutorial is a short hands-on workshop to introduce the analysis of unstructured data for innovation studies. \n",
        "\n",
        "Structure of the workshop:\n",
        "1. Presentation of sections 1 and 2 in a plenary mode (20 minutes)\n",
        "2. Individual work on section 3 (20 minutes)\n",
        "3. Group work on section 4 (60 minutes)\n",
        "4. Plenary session with groups presentations (20 minutes)\n",
        "\n",
        "This tutorial cannot be considered exhaustive of the domain of textual data analysis. \n",
        "\n",
        "### Authors: \n",
        "- Mikaël Héroux-Vaillancourt <mikael.heroux-vaillancourt@polymtl.ca>\n",
        "- Davide Pulizzotto <davide.pulizzotto@polymtl.ca>\n",
        "- Pietro Cruciata <pietro.cruciata@polymtl.ca>\n",
        "- Nicolas Sacchetti <nicolas.sacchetti@polymtl.ca>\n",
        "- Geneviève Ratelle <genevieve.ratelle@gmail.com> \n",
        "\n",
        "### Table of Contents\n",
        "\n",
        "- [Section 0. Introduction](#introduction)\n",
        "- [Section 1. Data Pre-Processing](#pre-processing)\n",
        "- [Section 2. Descriptive statistics](#desc-stat)\n",
        "- [Section 3. Analysis](#analysis)\n",
        "- [Section 4. Exercise](#exercie)"
      ]
    },
    {
      "cell_type": "markdown",
      "metadata": {
        "id": "232GZfpEzkB5"
      },
      "source": [
        "<a id='introduction'></a>\n",
        "# <font size = '6' color='E3A440'>Section 0. Introduction</font>\n",
        "\n",
        "This workshop is based on the research work of **Mikaël Héroux-Vaillancourt** presented at the [P4IE Conference - Measuring Metrics that Matter](https://event.fourwaves.com/p4ie/pages), which will take place  on 9-10-11 May 2022 at the *Hilton Garden Inn*, in Ottawa.\n",
        "\n",
        "Here the [link]() to get the presentation of Mikaël Héroux-Vaillancourt.\n",
        "\n",
        "In order to succeed in this workshop, a few concepts have to be underlined:\n",
        "\n",
        "1. This study is an exploratory analysis of several companies which obtained a [BCorp certification](https://www.bcorporation.net/en-us/).\n",
        "2. The textual data analyzed come from a web scraping step of the snapshots found on [Wayback Machine](https://archive.org/web/) of all those companies of point 1.\n",
        "3. The main objective is to group the B Corp companies by similarities between their key activities.\n",
        "\n",
        "### Abstract of the Study\n",
        "In this exploratory study, we used the web content of 1,110 enterprises audited and certified as B Corp to better understand the context that would lead organizations to undertake this process. After scraping and cleaning the data, we processed it in order to  generate clusters using the k-means algorithm. Our results show 20 clusters where we can easily see key activities, sectors and B Corp signalling. This is intended as an introduction to NLP tools to hopefully be used as an inspiration for your own research.\n",
        "\n",
        "### Glossary of the workshop\n",
        "\n",
        "Below is a list of some terms used in this workshop:\n",
        "\n",
        "1. <font color='E3A440'><b>Dataframe</b></font>: a data structure that organizes data into a 2-dimensional table of rows and columns\n",
        "2. <font color='E3A440'><b>Metadata</b></font>: it is information about an unstructured block of data (i.e., the author of a paper is metadata of the text of that paper).\n",
        "3. <font color='E3A440'><b>Token</b></font>: each sequence of character which constitutes an independent linguistic unit, that is a word (i.e., each occurrence of the verb eat is a different token).\n",
        "4. <font color='E3A440'><b>Type</b></font>: The unique string of character which represents several occurrences of the same linguistic unit or word (i.e., the string 'eat' is the type for each token of the verb to eat).\n",
        "5. <font color='E3A440'><b>POS tag</b></font>:  a process which aims to assign parts of speech to each word of a given text\n",
        "6. <font color='E3A440'><b>Stopwords</b></font>: it refers to words that are very low semantic content such as articles (the, an), modals (would, must), etc. \n",
        "7. <font color='E3A440'><b>Lemmatization</b></font>:  in linguistics is the process of grouping together the inflected forms of a word so they can be analysed as a single item, identified by the word's lemma, or dictionary form\n",
        "8. <font color='E3A440'><b>Document-Term Matrix (DTM) and vectorization</b></font>: the DTM is a matrix where rows represent segments of text and columns are filled by linguistic features of those segments of text. Vectorization is the process that transforms raw texts in a matrix.\n",
        "9. <font color='E3A440'><b>Weighting</b></font>: it is the weight a mathematical function provides for each linguistic feature of each segment of text (i.e., Term frequency, Tf-Idf, BM25, etc.)\n",
        "10. <font color='E3A440'><b>K-means clustering</b></font>: an unsupervised statistic method aiming to partition *n* observations into *k* clusters based on their proximity to the centroid.\n",
        "\n",
        "\n",
        "### Some Basic Concepts\n",
        "The main step in text mining is to convert unstructured textual data into a mathematical model to be used in statistical learning. Thus, we need to create a <font color='E3A440'>**Document-Term matrix**</font>, a matrix $n \\times w$, where $n$ is the number of text segments and $w$ is the number of textual features selected.The textual feature can have different nature. In the simplest model, these features correspond to the set of types that resume each token of the corpus. In other terms, $w$ is the number of features that characterize a segment of text. The matrix is generally represented as follows:  \n",
        " \n",
        "$$X = \\begin{bmatrix} \n",
        "x_{11} & x_{12} & \\ldots & x_{1w} \\\\\n",
        "\\vdots & \\vdots       &  \\ddots      & \\vdots \\\\ \n",
        "x_{n1} & x_{12} & \\ldots & x_{nw} \\\\\n",
        "\\end{bmatrix}\n",
        "$$ \n",
        " \n",
        "\\\\\n",
        "When we apply a <font color='E3A440'>**clustering algorithm**</font> to this matrix, we want to group rows in a homogeneous set of clusters. This means to minimize the intra-class inertia or the pairwise squared deviations of points in the same cluster:\n",
        "\n",
        "$$ \\underset{s}{\\arg\\min}\\sum_{i=1}^{k}\\frac{1}{\\vert S_i\\vert}\\sum_\\limits{x,y \\in S_i}\\Vert x-y \\Vert^2$$\n",
        "\n",
        "This kind of algorithms aims to create a vector $Y$ of size $n$, containing the <font color='E3A440'>**cluster label**</font> assigned to each segment of text from $1$ to $k$.\n",
        "\n",
        "$$\n",
        "Y = \\begin{bmatrix} \n",
        "c_1 \\\\\n",
        "c_2 \\\\\n",
        "\\vdots \\\\ \n",
        "c_n\n",
        "\\end{bmatrix}$$\n",
        "\n",
        "Thus, $Y_1$ corresponds to the cluster label given at $X_1$. Generally, $k$ is the main parameters of a clustering algorithm which represents the number of cluster into which group text segments."
      ]
    },
    {
      "cell_type": "markdown",
      "metadata": {
        "id": "QRKQ8i7BzkB7"
      },
      "source": [
        "## 0.1 Preparation of Colab Virtual Machine\n",
        "\n",
        "In order to work correctly on Colab, we need to prepare the environment by executing two main steps:\n",
        "1. Download data from the GitHub project \n",
        "2. Install packages to run code of this workshop"
      ]
    },
    {
      "cell_type": "code",
      "execution_count": 13,
      "metadata": {
        "id": "P9mMQQWJzkB7",
        "colab": {
          "base_uri": "https://localhost:8080/"
        },
        "outputId": "70e8507f-7e30-4561-939c-5d3f2482d7a5"
      },
      "outputs": [
        {
          "output_type": "stream",
          "name": "stdout",
          "text": [
            "Cloning into 'TEST_PRECONFERENCE'...\n",
            "remote: Enumerating objects: 457, done.\u001b[K\n",
            "remote: Counting objects: 100% (205/205), done.\u001b[K\n",
            "remote: Compressing objects: 100% (169/169), done.\u001b[K\n",
            "remote: Total 457 (delta 87), reused 117 (delta 35), pack-reused 252\u001b[K\n",
            "Receiving objects: 100% (457/457), 78.97 MiB | 11.86 MiB/s, done.\n",
            "Resolving deltas: 100% (225/225), done.\n"
          ]
        }
      ],
      "source": [
        "# Downloading of data from the GitHub project\n",
        "!rm -rf TEST_PRECONFERENCE/\n",
        "!git clone https://github.com/puli83/TEST_PRECONFERENCE"
      ]
    },
    {
      "cell_type": "code",
      "source": [
        "# Installation of packages\n",
        "!pip install pickle5\n",
        "!pip install nltk\n",
        "!python -m spacy download en_core_web_sm"
      ],
      "metadata": {
        "id": "GHzhKocKltaY",
        "outputId": "d93037a9-00fb-4b63-a2d7-60aab971ca99",
        "colab": {
          "base_uri": "https://localhost:8080/"
        }
      },
      "execution_count": 14,
      "outputs": [
        {
          "output_type": "stream",
          "name": "stdout",
          "text": [
            "Requirement already satisfied: pickle5 in /usr/local/lib/python3.7/dist-packages (0.0.12)\n",
            "Requirement already satisfied: nltk in /usr/local/lib/python3.7/dist-packages (3.2.5)\n",
            "Requirement already satisfied: six in /usr/local/lib/python3.7/dist-packages (from nltk) (1.15.0)\n",
            "Collecting en_core_web_sm==2.2.5\n",
            "  Downloading https://github.com/explosion/spacy-models/releases/download/en_core_web_sm-2.2.5/en_core_web_sm-2.2.5.tar.gz (12.0 MB)\n",
            "\u001b[K     |████████████████████████████████| 12.0 MB 4.0 MB/s \n",
            "\u001b[?25hRequirement already satisfied: spacy>=2.2.2 in /usr/local/lib/python3.7/dist-packages (from en_core_web_sm==2.2.5) (2.2.4)\n",
            "Requirement already satisfied: wasabi<1.1.0,>=0.4.0 in /usr/local/lib/python3.7/dist-packages (from spacy>=2.2.2->en_core_web_sm==2.2.5) (0.9.1)\n",
            "Requirement already satisfied: preshed<3.1.0,>=3.0.2 in /usr/local/lib/python3.7/dist-packages (from spacy>=2.2.2->en_core_web_sm==2.2.5) (3.0.6)\n",
            "Requirement already satisfied: numpy>=1.15.0 in /usr/local/lib/python3.7/dist-packages (from spacy>=2.2.2->en_core_web_sm==2.2.5) (1.21.6)\n",
            "Requirement already satisfied: blis<0.5.0,>=0.4.0 in /usr/local/lib/python3.7/dist-packages (from spacy>=2.2.2->en_core_web_sm==2.2.5) (0.4.1)\n",
            "Requirement already satisfied: thinc==7.4.0 in /usr/local/lib/python3.7/dist-packages (from spacy>=2.2.2->en_core_web_sm==2.2.5) (7.4.0)\n",
            "Requirement already satisfied: srsly<1.1.0,>=1.0.2 in /usr/local/lib/python3.7/dist-packages (from spacy>=2.2.2->en_core_web_sm==2.2.5) (1.0.5)\n",
            "Requirement already satisfied: cymem<2.1.0,>=2.0.2 in /usr/local/lib/python3.7/dist-packages (from spacy>=2.2.2->en_core_web_sm==2.2.5) (2.0.6)\n",
            "Requirement already satisfied: plac<1.2.0,>=0.9.6 in /usr/local/lib/python3.7/dist-packages (from spacy>=2.2.2->en_core_web_sm==2.2.5) (1.1.3)\n",
            "Requirement already satisfied: murmurhash<1.1.0,>=0.28.0 in /usr/local/lib/python3.7/dist-packages (from spacy>=2.2.2->en_core_web_sm==2.2.5) (1.0.7)\n",
            "Requirement already satisfied: tqdm<5.0.0,>=4.38.0 in /usr/local/lib/python3.7/dist-packages (from spacy>=2.2.2->en_core_web_sm==2.2.5) (4.64.0)\n",
            "Requirement already satisfied: requests<3.0.0,>=2.13.0 in /usr/local/lib/python3.7/dist-packages (from spacy>=2.2.2->en_core_web_sm==2.2.5) (2.23.0)\n",
            "Requirement already satisfied: catalogue<1.1.0,>=0.0.7 in /usr/local/lib/python3.7/dist-packages (from spacy>=2.2.2->en_core_web_sm==2.2.5) (1.0.0)\n",
            "Requirement already satisfied: setuptools in /usr/local/lib/python3.7/dist-packages (from spacy>=2.2.2->en_core_web_sm==2.2.5) (57.4.0)\n",
            "Requirement already satisfied: importlib-metadata>=0.20 in /usr/local/lib/python3.7/dist-packages (from catalogue<1.1.0,>=0.0.7->spacy>=2.2.2->en_core_web_sm==2.2.5) (4.11.3)\n",
            "Requirement already satisfied: zipp>=0.5 in /usr/local/lib/python3.7/dist-packages (from importlib-metadata>=0.20->catalogue<1.1.0,>=0.0.7->spacy>=2.2.2->en_core_web_sm==2.2.5) (3.8.0)\n",
            "Requirement already satisfied: typing-extensions>=3.6.4 in /usr/local/lib/python3.7/dist-packages (from importlib-metadata>=0.20->catalogue<1.1.0,>=0.0.7->spacy>=2.2.2->en_core_web_sm==2.2.5) (4.2.0)\n",
            "Requirement already satisfied: chardet<4,>=3.0.2 in /usr/local/lib/python3.7/dist-packages (from requests<3.0.0,>=2.13.0->spacy>=2.2.2->en_core_web_sm==2.2.5) (3.0.4)\n",
            "Requirement already satisfied: certifi>=2017.4.17 in /usr/local/lib/python3.7/dist-packages (from requests<3.0.0,>=2.13.0->spacy>=2.2.2->en_core_web_sm==2.2.5) (2021.10.8)\n",
            "Requirement already satisfied: idna<3,>=2.5 in /usr/local/lib/python3.7/dist-packages (from requests<3.0.0,>=2.13.0->spacy>=2.2.2->en_core_web_sm==2.2.5) (2.10)\n",
            "Requirement already satisfied: urllib3!=1.25.0,!=1.25.1,<1.26,>=1.21.1 in /usr/local/lib/python3.7/dist-packages (from requests<3.0.0,>=2.13.0->spacy>=2.2.2->en_core_web_sm==2.2.5) (1.24.3)\n",
            "\u001b[38;5;2m✔ Download and installation successful\u001b[0m\n",
            "You can now load the model via spacy.load('en_core_web_sm')\n",
            "Requirement already satisfied: emoji in /usr/local/lib/python3.7/dist-packages (1.7.0)\n"
          ]
        }
      ]
    },
    {
      "cell_type": "markdown",
      "metadata": {
        "id": "jmzFMxo-zkB8"
      },
      "source": [
        "## 0.2 Import packages\n",
        "\n",
        "We import the following packages that contain the functions needed to accomplish our task: \n",
        "- `re` package for REGEX\n",
        "- `matplotlib` package for plotting\n",
        "- `numpy` package for mathematical operations and data optimization\n",
        "- `pandas` package for the manipulation of data \n",
        "- `sklearn` (scikit-learn) package for machine learning modelling\n",
        "- `spacy` package for Natural Language Processing, containing pre-trained models\n",
        "- `nltk` package for Natural Language Processing, including over 50 corpora, and several other resources "
      ]
    },
    {
      "cell_type": "code",
      "source": [
        "# Import packages\n",
        "import pandas as pd\n",
        "import numpy as np\n",
        "import scipy\n",
        "import datetime\n",
        "import time\n",
        "import re\n",
        "import os\n",
        "import pickle5 as pickle\n",
        "import spacy\n",
        "import nltk\n",
        "from nltk.corpus import stopwords\n",
        "from sklearn.feature_extraction.text import CountVectorizer, TfidfTransformer\n",
        "from wordcloud import WordCloud\n",
        "import matplotlib.pyplot as plt\n",
        "import seaborn as sns"
      ],
      "metadata": {
        "id": "tlI8PkH18Ofi"
      },
      "execution_count": 15,
      "outputs": []
    },
    {
      "cell_type": "markdown",
      "source": [
        "## 0.3 Definition of custom functions\n",
        "In the next chunk of code, we define the functions that we need to reach the goal of the workshop. These functions will not be explained in detail since their comprehension is not essential to complete the workshop."
      ],
      "metadata": {
        "id": "KNlCfnZ79Ec5"
      }
    },
    {
      "cell_type": "code",
      "source": [
        "def prepare_data_for_WC(DTM, vocabulary_dtm):\n",
        "    # compute total frequency for each word\n",
        "    values_words = sum(DTM)\n",
        "    # values_words = sum(tfidf_matrix)\n",
        "    # verify type result and prepare data for wordcloud\n",
        "    if type(values_words) is np.ndarray:\n",
        "        values_words = [float(value) for value in np.nditer(values_words)]\n",
        "    elif type(values_words) is scipy.sparse.csr.csr_matrix:\n",
        "        values_words = [float(value) for value in np.nditer(values_words.todense())]\n",
        "    else:\n",
        "        print(\"Matrix in argument DTM has to be one of these two data classes:  'scipy.sparse.csr.csr_matrix' or 'numpy.ndarray'\")\n",
        "    ##Retrieve the word fromthe vocaboulary and sorting them based on the frequency\n",
        "    list_mots = sorted(vocabulary_dtm.items(), key= lambda x:x[1])\n",
        "    list_mots = [word for (word,idx) in  list_mots]\n",
        "    words = zip(list_mots, values_words)\n",
        "    words = sorted(words, key= lambda x:x[1], reverse=True)\n",
        "    ## prepare data structure for wordcloud\n",
        "    result_for_WC = {}\n",
        "    #iterating over the tuples lists\n",
        "    for (key, value) in words:\n",
        "        result_for_WC[key] = value\n",
        "    #\n",
        "    return result_for_WC\n",
        "\n",
        "def lexical_keyness(DTM, cls_kmeans, vocabulary_vectorize, n_cluster = 0):\n",
        "    import math\n",
        "    # This code ref takes inspiration from this python module : https://pypi.org/project/corpus-toolkit/\n",
        "    # and its main script:  https://github.com/kristopherkyle/corpus_toolkit/blob/master/corpus_toolkit/corpus_tools.py\n",
        "    # which is based on this paper: https://aclanthology.org/J93-1003/\n",
        "\n",
        "    cluster_keyness = n_cluster\n",
        "    df_freq_target = pd.DataFrame(np.asarray(DTM[cls_kmeans.labels_ == cluster_keyness].sum(0).T).reshape(-1))#, columns = [word for (word,idx) in sorted(vectorized.vocabulary_.items(), key= lambda x:x[1])]))\n",
        "    df_freq_target.index = [word for (word,idx) in sorted(vocabulary_vectorize.items(), key= lambda x:x[1])]\n",
        "    df_freq_target.index\n",
        "    df_freq_target.columns = ['freq1']\n",
        "    df_freq_target['freq2'] = np.asarray(DTM[~(cls_kmeans.labels_ == cluster_keyness)].sum(0).T).reshape(-1)\n",
        "    #\n",
        "    df_freq_target['tot'] = df_freq_target['freq1'] + df_freq_target['freq2']\n",
        "    #\n",
        "    df_freq_target['freq1'] = df_freq_target['freq1'].apply(lambda x: 0.0000001 if x == 0 else x).astype(float)\n",
        "    df_freq_target['freq2'] = df_freq_target['freq2'].apply(lambda x: 0.0000001 if x == 0 else x).astype(float)\n",
        "    #\n",
        "    df_freq_target['freq1_norm'] = df_freq_target['freq1']/df_freq_target['freq1'].sum() * 1000000\n",
        "    df_freq_target['freq2_norm'] = df_freq_target['freq2']/df_freq_target['freq2'].sum() * 1000000\n",
        "    #\n",
        "    df_freq_target['fraction'] = df_freq_target['freq1_norm'] / df_freq_target['freq2_norm']\n",
        "    df_freq_target['Log-likelihood Ratio'] = df_freq_target['fraction'].apply(math.log2)\n",
        "    return df_freq_target\n",
        "\n",
        "def Clustering_kmeans(DTM, reduce_lsa = False, n_comp_lsa= 300, n_clusters = 2,  **kwargs):\n",
        "    \"\"\"\n",
        "    Paramaters:\n",
        "    DTM;  Matrice to pass under sklearn classifiers\n",
        "    n_clusters = 2; the number of cluster to generate.\n",
        "    reduce_lsa = False; If True, a SVD is executed on the DTM before to execute the clustering\n",
        "    n_comp_lsa= 300; Number of component to keep after SVD on DTM.\n",
        "    **kwargs; Arguments for Kmeans method of sklearn.cluster. For exemple :\n",
        "    random_state = 1234,\n",
        "    max_iter = 300,\n",
        "    n_init = 20,\n",
        "    tol = .000001,\n",
        "    init = \"k-means++\",\n",
        "    n_jobs = -1,\n",
        "    precomputeDistances = True\n",
        "    \"\"\"\n",
        "    import datetime\n",
        "    from sklearn.cluster import KMeans\n",
        "    from sklearn import metrics\n",
        "    from sklearn.pipeline import make_pipeline\n",
        "    from sklearn.preprocessing import Normalizer\n",
        "    \n",
        "    ## dimensionality reduction\n",
        "    if reduce_lsa == True:\n",
        "        from sklearn.decomposition import TruncatedSVD\n",
        "        svd = TruncatedSVD(n_comp_lsa,\n",
        "                           n_iter = 100,\n",
        "                           random_state = kwargs['random_state'])\n",
        "        #\n",
        "        X_lsa = svd.fit_transform(DTM)\n",
        "        explained_variance = svd.explained_variance_ratio_.sum()\n",
        "        print(\"Explained variance of the SVD step: {}%\".format(\n",
        "            int(explained_variance * 100)))\n",
        "        #\n",
        "        DTM = X_lsa\n",
        "    # Normalize samples individually to unit norm. Scaling inputs to unit norms is a common operation for text classification or clustering for instance.\n",
        "    DTM = Normalizer().transform(DTM)\n",
        "    cls_kmeans = KMeans(n_clusters = n_clusters,\n",
        "                        random_state = kwargs['random_state'],\n",
        "                        max_iter = kwargs['max_iter'],\n",
        "                        n_init = kwargs['n_init'],\n",
        "                        tol = kwargs['tol'],\n",
        "                        init = kwargs['init'])\n",
        "    \n",
        "    cluster_labels = cls_kmeans.fit_predict(DTM)\n",
        "    ## silhouette\n",
        "    silhouette_avg = metrics.silhouette_score(DTM, cluster_labels)\n",
        "    print(\"For n_clusters = %i;\\t The silhouette_avg is : %f5\" %(n_clusters, silhouette_avg))\n",
        "    #\n",
        "    cls_kmeans.DTM_ = DTM\n",
        "    return cls_kmeans\n",
        "\n",
        "def wordcloud_par_cluster(wordcloud, DTM, cls_kmeans, vocab, first_n_words=10, figsize=(18, 16), fontsize=32, plot_wordcloud = True, lst_clust = [], title_in_plot = \"Clust_\"):\n",
        "\n",
        "        \"\"\"\n",
        "        wordcloud; A WordCloud function.\n",
        "        DTM; A Docuemnt-Term Matrix\n",
        "        vocab; It is a vocabulary from skllarn vectorizer\n",
        "        first_n_words = 10; How many words to print\n",
        "        figsize = (18, 16); Size of the plot. (this is the argument of this line plt.figure(figsize=figsize))\n",
        "        fontsize = 32; Size of title font\n",
        "        lst_clust = []; The list of cluster to plot. If empty, all the clusters are plotted\n",
        "        title_in_plot = \"Clust_\"; title to put on top of plot \\n\n",
        "        \"\"\"\n",
        "        import numpy\n",
        "        import scipy\n",
        "        \n",
        "        if not lst_clust:\n",
        "            lst_clust = list(range(cls_kmeans.n_clusters))\n",
        "\n",
        "        for x in lst_clust:\n",
        "            DTM_temp = DTM[cls_kmeans.labels_ == x]\n",
        "            result_for_WC= prepare_data_for_WC(DTM_temp, vocab)\n",
        "            ###\n",
        "            if plot_wordcloud == True:\n",
        "                plot = wordcloud.generate_from_frequencies(result_for_WC)\n",
        "                plt.figure(figsize=figsize)\n",
        "                plt.imshow(plot)\n",
        "                plt.title(title_in_plot + str(x) + '  N. of documents=' + str(DTM_temp.shape[0]),\n",
        "                        fontsize = fontsize,\n",
        "                        bbox=dict(facecolor='red', alpha=0.5))\n",
        "                plt.axis('off')\n",
        "                plt.show()\n",
        "            print(f\"Most frequent words for cluster {x} of size {str(DTM_temp.shape[0])} docs: \", list(result_for_WC)[0:first_n_words])\n",
        "\n",
        "def plot_data_by_cluster(DTM, cls_kmeans, figsize = (16,10) ):\n",
        "    ## Reduction of dimension to 2 for visualisation reasons\n",
        "    from sklearn.manifold import TSNE\n",
        "    time_start = time.time()\n",
        "    tsne = TSNE(n_components=2, verbose=1, perplexity=30, n_iter=1000,metric='cosine', learning_rate=10, random_state = 794)\n",
        "    reduc_dim_results = tsne.fit_transform(DTM)\n",
        "    print('t-SNE done! Time elapsed: {} seconds'.format(time.time()-time_start))\n",
        "\n",
        "    ## Create data structure for plotting\n",
        "    df_reduction = pd.DataFrame()\n",
        "    df_reduction['y'] =  cls_kmeans.labels_\n",
        "    df_reduction['1-dim'] = reduc_dim_results[:,0]\n",
        "    df_reduction['2-dim'] = reduc_dim_results[:,1]\n",
        "\n",
        "    ## Generate the plot\n",
        "    import seaborn as sns\n",
        "    import colorcet as cc\n",
        "    plt.figure(figsize = figsize)\n",
        "    sns.scatterplot(data = df_reduction,\n",
        "                    x=\"1-dim\",\n",
        "                    y=\"2-dim\",\n",
        "                    hue=\"y\",\n",
        "                    palette = sns.color_palette(cc.glasbey, n_colors = cls_kmeans.n_clusters),)\n",
        "\n",
        "    plt.show()\n",
        "\n",
        "def print_KWIC_clusters(data, DTM, cls_kmeans, vocab, k_to_analyze = 0, n_words = 3, n_segms_per_docuemnt = 5, n_documents = 3, left_windows = 50, right_windows = 50):\n",
        "    DTM_temp = DTM[cls_kmeans.labels_ == k_to_analyze]\n",
        "    result_for_WC= prepare_data_for_WC(DTM_temp, vocab)\n",
        "    words = list(result_for_WC)[0:n_words]\n",
        "    print(f\"The following words are used for the Keyword In Context extraction: {words}\")\n",
        "    df_temp = data[data[\"cluster_labels\"] == k_to_analyze].sort_values(by='Cosine_of_related_cluster', ascending= False).iloc[0:n_documents]\n",
        "    for idx, row in df_temp.iterrows():\n",
        "        n_company = row['company_name']\n",
        "        for x in [f\"Company : {n_company}.\" + f\" Segment number: {str(y)}.\" + ' Segment: ' + '**'.join(x) for y,x in enumerate(re.findall(\"(.{0,\" + str(left_windows) +\"})(\" + \"|\".join(words)+ \")(.{0,\"+ str(right_windows) + \"})\", row[\"text_web_page\"]))][0:n_segms_per_docuemnt]:\n",
        "            print(x)"
      ],
      "metadata": {
        "id": "ORZsrIP9lm7U"
      },
      "execution_count": 16,
      "outputs": []
    },
    {
      "cell_type": "markdown",
      "source": [
        "## 0.4 Import data\n",
        "\n"
      ],
      "metadata": {
        "id": "ebi993i_8XPA"
      }
    },
    {
      "cell_type": "markdown",
      "source": [
        "The following code sets the path from which to import data."
      ],
      "metadata": {
        "id": "CGayi-cExJSl"
      }
    },
    {
      "cell_type": "code",
      "source": [
        "ROOT_DIR='TEST_PRECONFERENCE/'\n",
        "DATA_DIR=os.path.join(ROOT_DIR, 'Data')"
      ],
      "metadata": {
        "id": "E6Th_5mB8rAh"
      },
      "execution_count": 17,
      "outputs": []
    },
    {
      "cell_type": "markdown",
      "source": [
        "---\n",
        "We need to import the `.csv` file with the company’s data. The data is imported in a tabular format (such as MS Excel) called **dataframe** and managed by `pandas`. We named the variable containing data as follows `df_data_bcorp`"
      ],
      "metadata": {
        "id": "Xsjk2gvXOmol"
      }
    },
    {
      "cell_type": "code",
      "source": [
        "df_data_bcorp = pd.read_csv(os.path.join(DATA_DIR, 'BCorp_companies_Web_Data.csv'))"
      ],
      "metadata": {
        "id": "OS5_Fn13MTMT"
      },
      "execution_count": 18,
      "outputs": []
    },
    {
      "cell_type": "markdown",
      "source": [
        "---\n",
        "The dataset has *1110* rows and *129* columns."
      ],
      "metadata": {
        "id": "SmzMy4Lf68rA"
      }
    },
    {
      "cell_type": "code",
      "source": [
        "df_data_bcorp.shape"
      ],
      "metadata": {
        "id": "fxp4AwWh7Ffv",
        "colab": {
          "base_uri": "https://localhost:8080/"
        },
        "outputId": "d33a821e-e940-45b4-fd28-9d04056029af"
      },
      "execution_count": 19,
      "outputs": [
        {
          "output_type": "execute_result",
          "data": {
            "text/plain": [
              "(1110, 129)"
            ]
          },
          "metadata": {},
          "execution_count": 19
        }
      ]
    },
    {
      "cell_type": "markdown",
      "source": [
        "---\n",
        "Further exploring some rows, we focus on two columns: \n",
        "\n",
        "+ **company_id** contains the domain of each BCorp companies under study\n",
        "+ **text_web_page** contains a combination of all those pages founded in Wayback Machine for each company."
      ],
      "metadata": {
        "id": "zj32jGwz7Min"
      }
    },
    {
      "cell_type": "code",
      "source": [
        "df_data_bcorp.head()"
      ],
      "metadata": {
        "id": "_n2JxRkq7Ypn",
        "outputId": "2713d1d9-4693-4e86-c402-c2cb7b57f255",
        "colab": {
          "base_uri": "https://localhost:8080/",
          "height": 629
        }
      },
      "execution_count": 20,
      "outputs": [
        {
          "output_type": "execute_result",
          "data": {
            "text/plain": [
              "           website          company_id         company_name  \\\n",
              "0        17ways.co  001C000001MVoIdIAL              17 Ways   \n",
              "1   1908brands.com  001C000001CH8v6IAD          1908 Brands   \n",
              "2      3877.design  0013b00001qH9GUAA0               //3877   \n",
              "3  3degreesinc.com  0018000000WXBTeAAP  3Degrees Group Inc.   \n",
              "4    3dplaneta.com  0013b00001rIV8YAAW           3D Planeta   \n",
              "\n",
              "  date_first_certified date_certified current_status  \\\n",
              "0           2016-12-12     2021-05-27      certified   \n",
              "1           2014-04-21     2019-09-06      certified   \n",
              "2           2020-05-13     2020-05-13      certified   \n",
              "3           2012-08-16     2020-08-21      certified   \n",
              "4           2021-07-21     2021-07-21      certified   \n",
              "\n",
              "                                         description  \\\n",
              "0  The UN's Sustainable Development Goals (SDGs) ...   \n",
              "1  1908 Brands, Inc. was founded in 2010 by Steve...   \n",
              "2  //3877 is a boutique design firm focused on hi...   \n",
              "3  3Degrees makes it possible for businesses and ...   \n",
              "4  3D Planeta is the earth intelligence company. ...   \n",
              "\n",
              "                            industry             industry_category  \\\n",
              "0                              Other  Business Products & Services   \n",
              "1               Home & Personal Care  Consumer Products & Services   \n",
              "2       Architecture/Design/Planning                      Building   \n",
              "3          Sustainability Consulting  Business Products & Services   \n",
              "4  IT Software & Services/Web Design  Business Products & Services   \n",
              "\n",
              "                               products_and_services  ...  \\\n",
              "0                                 Impact Marketplace  ...   \n",
              "1  1908 Brands develops and manufactures natural ...  ...   \n",
              "2                      Architecture, Interior Design  ...   \n",
              "3  Sustainability, Renewable Energy, Carbon, and ...  ...   \n",
              "4                                      SaaS platform  ...   \n",
              "\n",
              "  ia_workers_it_management_worker_communication  \\\n",
              "0                                           NaN   \n",
              "1                                           NaN   \n",
              "2                                           NaN   \n",
              "3                                           NaN   \n",
              "4                                           NaN   \n",
              "\n",
              "  ia_workers_it_occupational_health_safety ia_workers_it_training_education  \\\n",
              "0                                      NaN                              NaN   \n",
              "1                                      NaN                              NaN   \n",
              "2                                      NaN                              NaN   \n",
              "3                                      NaN                              NaN   \n",
              "4                                      NaN                              NaN   \n",
              "\n",
              "  ia_workers_it_worker_benefits ia_workers_it_worker_owned  \\\n",
              "0                           NaN                        NaN   \n",
              "1                           NaN                        NaN   \n",
              "2                           NaN                        NaN   \n",
              "3                           NaN                        NaN   \n",
              "4                           NaN                        NaN   \n",
              "\n",
              "  ia_workers_it_worker_ownership  ia_workers_it_workforce_development  \\\n",
              "0                            NaN                                  NaN   \n",
              "1                            NaN                                  NaN   \n",
              "2                            NaN                                  NaN   \n",
              "3                            NaN                                  NaN   \n",
              "4                            NaN                                  NaN   \n",
              "\n",
              "   certification_cycle  ID_certification  \\\n",
              "0                    1              4228   \n",
              "1                    1              3300   \n",
              "2                    1              5223   \n",
              "3                    1              1267   \n",
              "4                    1               972   \n",
              "\n",
              "                                       text_web_page  \n",
              "0  Explore how you can make every B2B purchase co...  \n",
              "1  We're a parent company founded on a promise to...  \n",
              "2  Opening Date: August 2019 Address: 1921 8th St...  \n",
              "3  Making urgent corporate utility global bold cl...  \n",
              "4  Near-time multidimensional analysis and intell...  \n",
              "\n",
              "[5 rows x 129 columns]"
            ],
            "text/html": [
              "\n",
              "  <div id=\"df-1654bdde-d6d9-4db7-87c7-42db7e72efb5\">\n",
              "    <div class=\"colab-df-container\">\n",
              "      <div>\n",
              "<style scoped>\n",
              "    .dataframe tbody tr th:only-of-type {\n",
              "        vertical-align: middle;\n",
              "    }\n",
              "\n",
              "    .dataframe tbody tr th {\n",
              "        vertical-align: top;\n",
              "    }\n",
              "\n",
              "    .dataframe thead th {\n",
              "        text-align: right;\n",
              "    }\n",
              "</style>\n",
              "<table border=\"1\" class=\"dataframe\">\n",
              "  <thead>\n",
              "    <tr style=\"text-align: right;\">\n",
              "      <th></th>\n",
              "      <th>website</th>\n",
              "      <th>company_id</th>\n",
              "      <th>company_name</th>\n",
              "      <th>date_first_certified</th>\n",
              "      <th>date_certified</th>\n",
              "      <th>current_status</th>\n",
              "      <th>description</th>\n",
              "      <th>industry</th>\n",
              "      <th>industry_category</th>\n",
              "      <th>products_and_services</th>\n",
              "      <th>...</th>\n",
              "      <th>ia_workers_it_management_worker_communication</th>\n",
              "      <th>ia_workers_it_occupational_health_safety</th>\n",
              "      <th>ia_workers_it_training_education</th>\n",
              "      <th>ia_workers_it_worker_benefits</th>\n",
              "      <th>ia_workers_it_worker_owned</th>\n",
              "      <th>ia_workers_it_worker_ownership</th>\n",
              "      <th>ia_workers_it_workforce_development</th>\n",
              "      <th>certification_cycle</th>\n",
              "      <th>ID_certification</th>\n",
              "      <th>text_web_page</th>\n",
              "    </tr>\n",
              "  </thead>\n",
              "  <tbody>\n",
              "    <tr>\n",
              "      <th>0</th>\n",
              "      <td>17ways.co</td>\n",
              "      <td>001C000001MVoIdIAL</td>\n",
              "      <td>17 Ways</td>\n",
              "      <td>2016-12-12</td>\n",
              "      <td>2021-05-27</td>\n",
              "      <td>certified</td>\n",
              "      <td>The UN's Sustainable Development Goals (SDGs) ...</td>\n",
              "      <td>Other</td>\n",
              "      <td>Business Products &amp; Services</td>\n",
              "      <td>Impact Marketplace</td>\n",
              "      <td>...</td>\n",
              "      <td>NaN</td>\n",
              "      <td>NaN</td>\n",
              "      <td>NaN</td>\n",
              "      <td>NaN</td>\n",
              "      <td>NaN</td>\n",
              "      <td>NaN</td>\n",
              "      <td>NaN</td>\n",
              "      <td>1</td>\n",
              "      <td>4228</td>\n",
              "      <td>Explore how you can make every B2B purchase co...</td>\n",
              "    </tr>\n",
              "    <tr>\n",
              "      <th>1</th>\n",
              "      <td>1908brands.com</td>\n",
              "      <td>001C000001CH8v6IAD</td>\n",
              "      <td>1908 Brands</td>\n",
              "      <td>2014-04-21</td>\n",
              "      <td>2019-09-06</td>\n",
              "      <td>certified</td>\n",
              "      <td>1908 Brands, Inc. was founded in 2010 by Steve...</td>\n",
              "      <td>Home &amp; Personal Care</td>\n",
              "      <td>Consumer Products &amp; Services</td>\n",
              "      <td>1908 Brands develops and manufactures natural ...</td>\n",
              "      <td>...</td>\n",
              "      <td>NaN</td>\n",
              "      <td>NaN</td>\n",
              "      <td>NaN</td>\n",
              "      <td>NaN</td>\n",
              "      <td>NaN</td>\n",
              "      <td>NaN</td>\n",
              "      <td>NaN</td>\n",
              "      <td>1</td>\n",
              "      <td>3300</td>\n",
              "      <td>We're a parent company founded on a promise to...</td>\n",
              "    </tr>\n",
              "    <tr>\n",
              "      <th>2</th>\n",
              "      <td>3877.design</td>\n",
              "      <td>0013b00001qH9GUAA0</td>\n",
              "      <td>//3877</td>\n",
              "      <td>2020-05-13</td>\n",
              "      <td>2020-05-13</td>\n",
              "      <td>certified</td>\n",
              "      <td>//3877 is a boutique design firm focused on hi...</td>\n",
              "      <td>Architecture/Design/Planning</td>\n",
              "      <td>Building</td>\n",
              "      <td>Architecture, Interior Design</td>\n",
              "      <td>...</td>\n",
              "      <td>NaN</td>\n",
              "      <td>NaN</td>\n",
              "      <td>NaN</td>\n",
              "      <td>NaN</td>\n",
              "      <td>NaN</td>\n",
              "      <td>NaN</td>\n",
              "      <td>NaN</td>\n",
              "      <td>1</td>\n",
              "      <td>5223</td>\n",
              "      <td>Opening Date: August 2019 Address: 1921 8th St...</td>\n",
              "    </tr>\n",
              "    <tr>\n",
              "      <th>3</th>\n",
              "      <td>3degreesinc.com</td>\n",
              "      <td>0018000000WXBTeAAP</td>\n",
              "      <td>3Degrees Group Inc.</td>\n",
              "      <td>2012-08-16</td>\n",
              "      <td>2020-08-21</td>\n",
              "      <td>certified</td>\n",
              "      <td>3Degrees makes it possible for businesses and ...</td>\n",
              "      <td>Sustainability Consulting</td>\n",
              "      <td>Business Products &amp; Services</td>\n",
              "      <td>Sustainability, Renewable Energy, Carbon, and ...</td>\n",
              "      <td>...</td>\n",
              "      <td>NaN</td>\n",
              "      <td>NaN</td>\n",
              "      <td>NaN</td>\n",
              "      <td>NaN</td>\n",
              "      <td>NaN</td>\n",
              "      <td>NaN</td>\n",
              "      <td>NaN</td>\n",
              "      <td>1</td>\n",
              "      <td>1267</td>\n",
              "      <td>Making urgent corporate utility global bold cl...</td>\n",
              "    </tr>\n",
              "    <tr>\n",
              "      <th>4</th>\n",
              "      <td>3dplaneta.com</td>\n",
              "      <td>0013b00001rIV8YAAW</td>\n",
              "      <td>3D Planeta</td>\n",
              "      <td>2021-07-21</td>\n",
              "      <td>2021-07-21</td>\n",
              "      <td>certified</td>\n",
              "      <td>3D Planeta is the earth intelligence company. ...</td>\n",
              "      <td>IT Software &amp; Services/Web Design</td>\n",
              "      <td>Business Products &amp; Services</td>\n",
              "      <td>SaaS platform</td>\n",
              "      <td>...</td>\n",
              "      <td>NaN</td>\n",
              "      <td>NaN</td>\n",
              "      <td>NaN</td>\n",
              "      <td>NaN</td>\n",
              "      <td>NaN</td>\n",
              "      <td>NaN</td>\n",
              "      <td>NaN</td>\n",
              "      <td>1</td>\n",
              "      <td>972</td>\n",
              "      <td>Near-time multidimensional analysis and intell...</td>\n",
              "    </tr>\n",
              "  </tbody>\n",
              "</table>\n",
              "<p>5 rows × 129 columns</p>\n",
              "</div>\n",
              "      <button class=\"colab-df-convert\" onclick=\"convertToInteractive('df-1654bdde-d6d9-4db7-87c7-42db7e72efb5')\"\n",
              "              title=\"Convert this dataframe to an interactive table.\"\n",
              "              style=\"display:none;\">\n",
              "        \n",
              "  <svg xmlns=\"http://www.w3.org/2000/svg\" height=\"24px\"viewBox=\"0 0 24 24\"\n",
              "       width=\"24px\">\n",
              "    <path d=\"M0 0h24v24H0V0z\" fill=\"none\"/>\n",
              "    <path d=\"M18.56 5.44l.94 2.06.94-2.06 2.06-.94-2.06-.94-.94-2.06-.94 2.06-2.06.94zm-11 1L8.5 8.5l.94-2.06 2.06-.94-2.06-.94L8.5 2.5l-.94 2.06-2.06.94zm10 10l.94 2.06.94-2.06 2.06-.94-2.06-.94-.94-2.06-.94 2.06-2.06.94z\"/><path d=\"M17.41 7.96l-1.37-1.37c-.4-.4-.92-.59-1.43-.59-.52 0-1.04.2-1.43.59L10.3 9.45l-7.72 7.72c-.78.78-.78 2.05 0 2.83L4 21.41c.39.39.9.59 1.41.59.51 0 1.02-.2 1.41-.59l7.78-7.78 2.81-2.81c.8-.78.8-2.07 0-2.86zM5.41 20L4 18.59l7.72-7.72 1.47 1.35L5.41 20z\"/>\n",
              "  </svg>\n",
              "      </button>\n",
              "      \n",
              "  <style>\n",
              "    .colab-df-container {\n",
              "      display:flex;\n",
              "      flex-wrap:wrap;\n",
              "      gap: 12px;\n",
              "    }\n",
              "\n",
              "    .colab-df-convert {\n",
              "      background-color: #E8F0FE;\n",
              "      border: none;\n",
              "      border-radius: 50%;\n",
              "      cursor: pointer;\n",
              "      display: none;\n",
              "      fill: #1967D2;\n",
              "      height: 32px;\n",
              "      padding: 0 0 0 0;\n",
              "      width: 32px;\n",
              "    }\n",
              "\n",
              "    .colab-df-convert:hover {\n",
              "      background-color: #E2EBFA;\n",
              "      box-shadow: 0px 1px 2px rgba(60, 64, 67, 0.3), 0px 1px 3px 1px rgba(60, 64, 67, 0.15);\n",
              "      fill: #174EA6;\n",
              "    }\n",
              "\n",
              "    [theme=dark] .colab-df-convert {\n",
              "      background-color: #3B4455;\n",
              "      fill: #D2E3FC;\n",
              "    }\n",
              "\n",
              "    [theme=dark] .colab-df-convert:hover {\n",
              "      background-color: #434B5C;\n",
              "      box-shadow: 0px 1px 3px 1px rgba(0, 0, 0, 0.15);\n",
              "      filter: drop-shadow(0px 1px 2px rgba(0, 0, 0, 0.3));\n",
              "      fill: #FFFFFF;\n",
              "    }\n",
              "  </style>\n",
              "\n",
              "      <script>\n",
              "        const buttonEl =\n",
              "          document.querySelector('#df-1654bdde-d6d9-4db7-87c7-42db7e72efb5 button.colab-df-convert');\n",
              "        buttonEl.style.display =\n",
              "          google.colab.kernel.accessAllowed ? 'block' : 'none';\n",
              "\n",
              "        async function convertToInteractive(key) {\n",
              "          const element = document.querySelector('#df-1654bdde-d6d9-4db7-87c7-42db7e72efb5');\n",
              "          const dataTable =\n",
              "            await google.colab.kernel.invokeFunction('convertToInteractive',\n",
              "                                                     [key], {});\n",
              "          if (!dataTable) return;\n",
              "\n",
              "          const docLinkHtml = 'Like what you see? Visit the ' +\n",
              "            '<a target=\"_blank\" href=https://colab.research.google.com/notebooks/data_table.ipynb>data table notebook</a>'\n",
              "            + ' to learn more about interactive tables.';\n",
              "          element.innerHTML = '';\n",
              "          dataTable['output_type'] = 'display_data';\n",
              "          await google.colab.output.renderOutput(dataTable, element);\n",
              "          const docLink = document.createElement('div');\n",
              "          docLink.innerHTML = docLinkHtml;\n",
              "          element.appendChild(docLink);\n",
              "        }\n",
              "      </script>\n",
              "    </div>\n",
              "  </div>\n",
              "  "
            ]
          },
          "metadata": {},
          "execution_count": 20
        }
      ]
    },
    {
      "cell_type": "markdown",
      "source": [
        "---\n",
        "Below, we give a list of some important metadata to explore:"
      ],
      "metadata": {
        "id": "cTlRTjB3R6Fr"
      }
    },
    {
      "cell_type": "code",
      "source": [
        "df_data_bcorp[['website', 'company_name', 'date_certified', 'description', 'industry','sector',\n",
        "       'country', 'state', 'city', 'assessment_year', 'overall_score']]\n"
      ],
      "metadata": {
        "id": "-a-NYE6ZSIeV",
        "outputId": "0cacaf4e-21aa-4db9-9062-0da6ddd12d8b",
        "colab": {
          "base_uri": "https://localhost:8080/",
          "height": 1000
        }
      },
      "execution_count": 21,
      "outputs": [
        {
          "output_type": "execute_result",
          "data": {
            "text/plain": [
              "                     website             company_name date_certified  \\\n",
              "0                  17ways.co                  17 Ways     2021-05-27   \n",
              "1             1908brands.com              1908 Brands     2019-09-06   \n",
              "2                3877.design                   //3877     2020-05-13   \n",
              "3            3degreesinc.com      3Degrees Group Inc.     2020-08-21   \n",
              "4              3dplaneta.com               3D Planeta     2021-07-21   \n",
              "...                      ...                      ...            ...   \n",
              "1105  zenithcommissioning.ca     Zenith Commissioning     2019-10-16   \n",
              "1106           zeusjones.com               Zeus Jones     2020-09-23   \n",
              "1107               zevin.com   Zevin Asset Management     2020-01-16   \n",
              "1108           zgstories.com   ZG Communications Inc.     2017-04-20   \n",
              "1109      zipcodeeastbay.com  Zip Code East Bay, Inc.     2018-03-16   \n",
              "\n",
              "                                            description  \\\n",
              "0     The UN's Sustainable Development Goals (SDGs) ...   \n",
              "1     1908 Brands, Inc. was founded in 2010 by Steve...   \n",
              "2     //3877 is a boutique design firm focused on hi...   \n",
              "3     3Degrees makes it possible for businesses and ...   \n",
              "4     3D Planeta is the earth intelligence company. ...   \n",
              "...                                                 ...   \n",
              "1105  Zenith Commissioning envisions a world where a...   \n",
              "1106  Zeus Jones is a design and innovation company ...   \n",
              "1107  Zevin Asset Management is a majority women-own...   \n",
              "1108  ZG Communications is a boutique marketing agen...   \n",
              "1109  With a focus on building community through rea...   \n",
              "\n",
              "                                 industry  \\\n",
              "0                                   Other   \n",
              "1                    Home & Personal Care   \n",
              "2            Architecture/Design/Planning   \n",
              "3               Sustainability Consulting   \n",
              "4       IT Software & Services/Web Design   \n",
              "...                                   ...   \n",
              "1105                                  NaN   \n",
              "1106  Marketing & Communications Services   \n",
              "1107                   Investment Advisor   \n",
              "1108  Marketing & Communications Services   \n",
              "1109                                Other   \n",
              "\n",
              "                                          sector        country  \\\n",
              "0                                        Service  United States   \n",
              "1                               Wholesale/Retail  United States   \n",
              "2     Service with Minor Environmental Footprint  United States   \n",
              "3                               Wholesale/Retail  United States   \n",
              "4     Service with Minor Environmental Footprint         Canada   \n",
              "...                                          ...            ...   \n",
              "1105  Service with Minor Environmental Footprint         Canada   \n",
              "1106  Service with Minor Environmental Footprint  United States   \n",
              "1107  Service with Minor Environmental Footprint  United States   \n",
              "1108  Service with Minor Environmental Footprint         Canada   \n",
              "1109  Service with Minor Environmental Footprint  United States   \n",
              "\n",
              "                     state           city  assessment_year  overall_score  \n",
              "0                     Ohio     Cincinnati             2021           85.5  \n",
              "1                 Colorado        Boulder             2019           80.1  \n",
              "2     District of Columbia     Washington             2020           83.4  \n",
              "3               California  San Francisco             2020          104.0  \n",
              "4            New Brunswick    Fredericton             2020           81.8  \n",
              "...                    ...            ...              ...            ...  \n",
              "1105      British Columbia      Vancouver             2019           85.7  \n",
              "1106             Minnesota    Minneapolis             2019           86.5  \n",
              "1107         Massachusetts         Boston             2019          131.8  \n",
              "1108      British Columbia      Vancouver             2017          111.7  \n",
              "1109            California     Kensington             2018           88.1  \n",
              "\n",
              "[1110 rows x 11 columns]"
            ],
            "text/html": [
              "\n",
              "  <div id=\"df-140c11c7-404d-4774-b9a3-7ab41c7b7f39\">\n",
              "    <div class=\"colab-df-container\">\n",
              "      <div>\n",
              "<style scoped>\n",
              "    .dataframe tbody tr th:only-of-type {\n",
              "        vertical-align: middle;\n",
              "    }\n",
              "\n",
              "    .dataframe tbody tr th {\n",
              "        vertical-align: top;\n",
              "    }\n",
              "\n",
              "    .dataframe thead th {\n",
              "        text-align: right;\n",
              "    }\n",
              "</style>\n",
              "<table border=\"1\" class=\"dataframe\">\n",
              "  <thead>\n",
              "    <tr style=\"text-align: right;\">\n",
              "      <th></th>\n",
              "      <th>website</th>\n",
              "      <th>company_name</th>\n",
              "      <th>date_certified</th>\n",
              "      <th>description</th>\n",
              "      <th>industry</th>\n",
              "      <th>sector</th>\n",
              "      <th>country</th>\n",
              "      <th>state</th>\n",
              "      <th>city</th>\n",
              "      <th>assessment_year</th>\n",
              "      <th>overall_score</th>\n",
              "    </tr>\n",
              "  </thead>\n",
              "  <tbody>\n",
              "    <tr>\n",
              "      <th>0</th>\n",
              "      <td>17ways.co</td>\n",
              "      <td>17 Ways</td>\n",
              "      <td>2021-05-27</td>\n",
              "      <td>The UN's Sustainable Development Goals (SDGs) ...</td>\n",
              "      <td>Other</td>\n",
              "      <td>Service</td>\n",
              "      <td>United States</td>\n",
              "      <td>Ohio</td>\n",
              "      <td>Cincinnati</td>\n",
              "      <td>2021</td>\n",
              "      <td>85.5</td>\n",
              "    </tr>\n",
              "    <tr>\n",
              "      <th>1</th>\n",
              "      <td>1908brands.com</td>\n",
              "      <td>1908 Brands</td>\n",
              "      <td>2019-09-06</td>\n",
              "      <td>1908 Brands, Inc. was founded in 2010 by Steve...</td>\n",
              "      <td>Home &amp; Personal Care</td>\n",
              "      <td>Wholesale/Retail</td>\n",
              "      <td>United States</td>\n",
              "      <td>Colorado</td>\n",
              "      <td>Boulder</td>\n",
              "      <td>2019</td>\n",
              "      <td>80.1</td>\n",
              "    </tr>\n",
              "    <tr>\n",
              "      <th>2</th>\n",
              "      <td>3877.design</td>\n",
              "      <td>//3877</td>\n",
              "      <td>2020-05-13</td>\n",
              "      <td>//3877 is a boutique design firm focused on hi...</td>\n",
              "      <td>Architecture/Design/Planning</td>\n",
              "      <td>Service with Minor Environmental Footprint</td>\n",
              "      <td>United States</td>\n",
              "      <td>District of Columbia</td>\n",
              "      <td>Washington</td>\n",
              "      <td>2020</td>\n",
              "      <td>83.4</td>\n",
              "    </tr>\n",
              "    <tr>\n",
              "      <th>3</th>\n",
              "      <td>3degreesinc.com</td>\n",
              "      <td>3Degrees Group Inc.</td>\n",
              "      <td>2020-08-21</td>\n",
              "      <td>3Degrees makes it possible for businesses and ...</td>\n",
              "      <td>Sustainability Consulting</td>\n",
              "      <td>Wholesale/Retail</td>\n",
              "      <td>United States</td>\n",
              "      <td>California</td>\n",
              "      <td>San Francisco</td>\n",
              "      <td>2020</td>\n",
              "      <td>104.0</td>\n",
              "    </tr>\n",
              "    <tr>\n",
              "      <th>4</th>\n",
              "      <td>3dplaneta.com</td>\n",
              "      <td>3D Planeta</td>\n",
              "      <td>2021-07-21</td>\n",
              "      <td>3D Planeta is the earth intelligence company. ...</td>\n",
              "      <td>IT Software &amp; Services/Web Design</td>\n",
              "      <td>Service with Minor Environmental Footprint</td>\n",
              "      <td>Canada</td>\n",
              "      <td>New Brunswick</td>\n",
              "      <td>Fredericton</td>\n",
              "      <td>2020</td>\n",
              "      <td>81.8</td>\n",
              "    </tr>\n",
              "    <tr>\n",
              "      <th>...</th>\n",
              "      <td>...</td>\n",
              "      <td>...</td>\n",
              "      <td>...</td>\n",
              "      <td>...</td>\n",
              "      <td>...</td>\n",
              "      <td>...</td>\n",
              "      <td>...</td>\n",
              "      <td>...</td>\n",
              "      <td>...</td>\n",
              "      <td>...</td>\n",
              "      <td>...</td>\n",
              "    </tr>\n",
              "    <tr>\n",
              "      <th>1105</th>\n",
              "      <td>zenithcommissioning.ca</td>\n",
              "      <td>Zenith Commissioning</td>\n",
              "      <td>2019-10-16</td>\n",
              "      <td>Zenith Commissioning envisions a world where a...</td>\n",
              "      <td>NaN</td>\n",
              "      <td>Service with Minor Environmental Footprint</td>\n",
              "      <td>Canada</td>\n",
              "      <td>British Columbia</td>\n",
              "      <td>Vancouver</td>\n",
              "      <td>2019</td>\n",
              "      <td>85.7</td>\n",
              "    </tr>\n",
              "    <tr>\n",
              "      <th>1106</th>\n",
              "      <td>zeusjones.com</td>\n",
              "      <td>Zeus Jones</td>\n",
              "      <td>2020-09-23</td>\n",
              "      <td>Zeus Jones is a design and innovation company ...</td>\n",
              "      <td>Marketing &amp; Communications Services</td>\n",
              "      <td>Service with Minor Environmental Footprint</td>\n",
              "      <td>United States</td>\n",
              "      <td>Minnesota</td>\n",
              "      <td>Minneapolis</td>\n",
              "      <td>2019</td>\n",
              "      <td>86.5</td>\n",
              "    </tr>\n",
              "    <tr>\n",
              "      <th>1107</th>\n",
              "      <td>zevin.com</td>\n",
              "      <td>Zevin Asset Management</td>\n",
              "      <td>2020-01-16</td>\n",
              "      <td>Zevin Asset Management is a majority women-own...</td>\n",
              "      <td>Investment Advisor</td>\n",
              "      <td>Service with Minor Environmental Footprint</td>\n",
              "      <td>United States</td>\n",
              "      <td>Massachusetts</td>\n",
              "      <td>Boston</td>\n",
              "      <td>2019</td>\n",
              "      <td>131.8</td>\n",
              "    </tr>\n",
              "    <tr>\n",
              "      <th>1108</th>\n",
              "      <td>zgstories.com</td>\n",
              "      <td>ZG Communications Inc.</td>\n",
              "      <td>2017-04-20</td>\n",
              "      <td>ZG Communications is a boutique marketing agen...</td>\n",
              "      <td>Marketing &amp; Communications Services</td>\n",
              "      <td>Service with Minor Environmental Footprint</td>\n",
              "      <td>Canada</td>\n",
              "      <td>British Columbia</td>\n",
              "      <td>Vancouver</td>\n",
              "      <td>2017</td>\n",
              "      <td>111.7</td>\n",
              "    </tr>\n",
              "    <tr>\n",
              "      <th>1109</th>\n",
              "      <td>zipcodeeastbay.com</td>\n",
              "      <td>Zip Code East Bay, Inc.</td>\n",
              "      <td>2018-03-16</td>\n",
              "      <td>With a focus on building community through rea...</td>\n",
              "      <td>Other</td>\n",
              "      <td>Service with Minor Environmental Footprint</td>\n",
              "      <td>United States</td>\n",
              "      <td>California</td>\n",
              "      <td>Kensington</td>\n",
              "      <td>2018</td>\n",
              "      <td>88.1</td>\n",
              "    </tr>\n",
              "  </tbody>\n",
              "</table>\n",
              "<p>1110 rows × 11 columns</p>\n",
              "</div>\n",
              "      <button class=\"colab-df-convert\" onclick=\"convertToInteractive('df-140c11c7-404d-4774-b9a3-7ab41c7b7f39')\"\n",
              "              title=\"Convert this dataframe to an interactive table.\"\n",
              "              style=\"display:none;\">\n",
              "        \n",
              "  <svg xmlns=\"http://www.w3.org/2000/svg\" height=\"24px\"viewBox=\"0 0 24 24\"\n",
              "       width=\"24px\">\n",
              "    <path d=\"M0 0h24v24H0V0z\" fill=\"none\"/>\n",
              "    <path d=\"M18.56 5.44l.94 2.06.94-2.06 2.06-.94-2.06-.94-.94-2.06-.94 2.06-2.06.94zm-11 1L8.5 8.5l.94-2.06 2.06-.94-2.06-.94L8.5 2.5l-.94 2.06-2.06.94zm10 10l.94 2.06.94-2.06 2.06-.94-2.06-.94-.94-2.06-.94 2.06-2.06.94z\"/><path d=\"M17.41 7.96l-1.37-1.37c-.4-.4-.92-.59-1.43-.59-.52 0-1.04.2-1.43.59L10.3 9.45l-7.72 7.72c-.78.78-.78 2.05 0 2.83L4 21.41c.39.39.9.59 1.41.59.51 0 1.02-.2 1.41-.59l7.78-7.78 2.81-2.81c.8-.78.8-2.07 0-2.86zM5.41 20L4 18.59l7.72-7.72 1.47 1.35L5.41 20z\"/>\n",
              "  </svg>\n",
              "      </button>\n",
              "      \n",
              "  <style>\n",
              "    .colab-df-container {\n",
              "      display:flex;\n",
              "      flex-wrap:wrap;\n",
              "      gap: 12px;\n",
              "    }\n",
              "\n",
              "    .colab-df-convert {\n",
              "      background-color: #E8F0FE;\n",
              "      border: none;\n",
              "      border-radius: 50%;\n",
              "      cursor: pointer;\n",
              "      display: none;\n",
              "      fill: #1967D2;\n",
              "      height: 32px;\n",
              "      padding: 0 0 0 0;\n",
              "      width: 32px;\n",
              "    }\n",
              "\n",
              "    .colab-df-convert:hover {\n",
              "      background-color: #E2EBFA;\n",
              "      box-shadow: 0px 1px 2px rgba(60, 64, 67, 0.3), 0px 1px 3px 1px rgba(60, 64, 67, 0.15);\n",
              "      fill: #174EA6;\n",
              "    }\n",
              "\n",
              "    [theme=dark] .colab-df-convert {\n",
              "      background-color: #3B4455;\n",
              "      fill: #D2E3FC;\n",
              "    }\n",
              "\n",
              "    [theme=dark] .colab-df-convert:hover {\n",
              "      background-color: #434B5C;\n",
              "      box-shadow: 0px 1px 3px 1px rgba(0, 0, 0, 0.15);\n",
              "      filter: drop-shadow(0px 1px 2px rgba(0, 0, 0, 0.3));\n",
              "      fill: #FFFFFF;\n",
              "    }\n",
              "  </style>\n",
              "\n",
              "      <script>\n",
              "        const buttonEl =\n",
              "          document.querySelector('#df-140c11c7-404d-4774-b9a3-7ab41c7b7f39 button.colab-df-convert');\n",
              "        buttonEl.style.display =\n",
              "          google.colab.kernel.accessAllowed ? 'block' : 'none';\n",
              "\n",
              "        async function convertToInteractive(key) {\n",
              "          const element = document.querySelector('#df-140c11c7-404d-4774-b9a3-7ab41c7b7f39');\n",
              "          const dataTable =\n",
              "            await google.colab.kernel.invokeFunction('convertToInteractive',\n",
              "                                                     [key], {});\n",
              "          if (!dataTable) return;\n",
              "\n",
              "          const docLinkHtml = 'Like what you see? Visit the ' +\n",
              "            '<a target=\"_blank\" href=https://colab.research.google.com/notebooks/data_table.ipynb>data table notebook</a>'\n",
              "            + ' to learn more about interactive tables.';\n",
              "          element.innerHTML = '';\n",
              "          dataTable['output_type'] = 'display_data';\n",
              "          await google.colab.output.renderOutput(dataTable, element);\n",
              "          const docLink = document.createElement('div');\n",
              "          docLink.innerHTML = docLinkHtml;\n",
              "          element.appendChild(docLink);\n",
              "        }\n",
              "      </script>\n",
              "    </div>\n",
              "  </div>\n",
              "  "
            ]
          },
          "metadata": {},
          "execution_count": 21
        }
      ]
    },
    {
      "cell_type": "markdown",
      "source": [
        "# <font size = '6' color='E3A440'>Section 1: Data Pre-Processing </font>\n",
        "This section presents the main aspects of a classical pre-processing step of textual data. The main objective of this step is to organize unstructured data into a structure that can be digestible in a statistical learning process. In other words, this process allows transforming the text into vectors and is divided into three main operations:\n",
        " 1. Morphological Analysis\n",
        " 2. Filter of lexical features\n",
        " 3. Vectorization of lexical features"
      ],
      "metadata": {
        "id": "4CJuakgp8BhK"
      }
    },
    {
      "cell_type": "markdown",
      "source": [
        "## 1.1 Cleaning of metadata\n",
        "In this section, we provide a data cleaning step for our dataset. Since the state of Québec is written on two forms, one with accent and one without it, this issue generates two values for the same data.\n",
        "Thus, we replace each \"é\"  with a simple \"e\"."
      ],
      "metadata": {
        "id": "gD6_woCdorMc"
      }
    },
    {
      "cell_type": "code",
      "source": [
        "df_data_bcorp['state'] = df_data_bcorp['state'].str.replace(\"é\",\"e\")\n",
        "df_data_bcorp['city'] = df_data_bcorp['city'].apply(lambda x: \"Montreal\" if re.match(\"mont\", x,  re.IGNORECASE) else x)"
      ],
      "metadata": {
        "id": "h7YZLu4goyaU"
      },
      "execution_count": 86,
      "outputs": []
    },
    {
      "cell_type": "markdown",
      "source": [
        "## 1.2 Morphological Analysis\n",
        "An important operation during the pre-processing of unstructured textual data is to detect the <font color = 'E3A440'>**Morphological features**</font> of words. This allows understanding of the roles that words have in their contexts. This operation is composed of two parts:\n",
        "1. Part-of-Speech tagging, generally known as POS tagging\n",
        "2. Lemmatisation, which consists in the reduction of a word to his lemma\n",
        "\n",
        "These two sub-operations can be executed by different types of algorithms. We use a neural network pre-trained model using the module named `spacy`. In particular, we use the function `nlp.pipe()` to generate a list of preprocessed documents. This function has several arguments and it takes a list of string characters to be executed. Each element of this list is a textual segment or a document. "
      ],
      "metadata": {
        "id": "CfUdgcOHzFV6"
      }
    },
    {
      "cell_type": "markdown",
      "source": [
        "In this first chunk of code, we load from `spacy` the pre-trained model  called <font color=\"#CE9178\">en_core_web_sm</font> ([More info](https://spacy.io/models/en)).   "
      ],
      "metadata": {
        "id": "GNOg27M0jUiX"
      }
    },
    {
      "cell_type": "code",
      "source": [
        "nlp = spacy.load('en_core_web_sm')"
      ],
      "metadata": {
        "id": "hcxxLkyh-4Cb"
      },
      "execution_count": 23,
      "outputs": []
    },
    {
      "cell_type": "markdown",
      "source": [
        "---\n",
        "In this second chunk, we apply the <font color = 'E3A440'>NLP pipeline</font> to our textual data contained in the **text_combined** column, and this, by using the `nlp.pipe()` function. \n",
        "\n",
        "Thus, we generate the `preprocessed_docs` variable, namely a list containing preprocessed text of all the documents. We can observe the first document with `preprocessed_docs[0]`, the second with `preprocessed_docs[1]`, the third with `preprocessed_docs[2]`, etc.\n",
        "\n",
        "Each element of the list `preprocessed_docs`, contains a list of words analyzed with `spacy`.\n"
      ],
      "metadata": {
        "id": "B9SKcfPxPvpb"
      }
    },
    {
      "cell_type": "code",
      "source": [
        "t0 = datetime.datetime.now() # line of code to register a timestamp \n",
        "df_data_bcorp[\"text_preprocessed\"] = list(nlp.pipe(df_data_bcorp[\"text_web_page\"], disable = [\"tok2vec\",'parser','ner']))\n",
        "print(str(datetime.datetime.now() - t0)) # line of code to print the elapsed time from t0"
      ],
      "metadata": {
        "colab": {
          "base_uri": "https://localhost:8080/"
        },
        "outputId": "f39aab0f-84c7-4d1f-867d-49377faf8c94",
        "id": "rVAjPpkiUgAG"
      },
      "execution_count": 24,
      "outputs": [
        {
          "output_type": "stream",
          "name": "stdout",
          "text": [
            "0:00:22.284763\n"
          ]
        }
      ]
    },
    {
      "cell_type": "markdown",
      "source": [
        "---\n",
        "In the next chunk, we look at the first document in his **original format**"
      ],
      "metadata": {
        "id": "LrzGwAk0_0vh"
      }
    },
    {
      "cell_type": "code",
      "source": [
        "# Print first segment of the corpus\n",
        "print(df_data_bcorp.iloc[0][\"text_web_page\"])"
      ],
      "metadata": {
        "colab": {
          "base_uri": "https://localhost:8080/"
        },
        "id": "yeiIr4ECXX82",
        "outputId": "12dfa3d0-66ea-4f52-8e83-492ef782ae4f"
      },
      "execution_count": 25,
      "outputs": [
        {
          "output_type": "stream",
          "name": "stdout",
          "text": [
            "Explore how you can make every B2B purchase count towards UN's Sustainable Development Goals (SDGs). 17 Ways connects SDG impact companies and multinationals for purpose-driven purchasing. Post a need and choose suppliers based on the products or services they offer and on the SDG areas you want to impact. You can also choose to search/sort by certifications. Appropriate companies will be alerted about your opportunity, but your information will be kept secure so you can decide how to engage and you won't be overwhelmed by potential suppliers. Now it's easy to be found by companies looking to purchase from businesses that are aligned with the SDG areas your company is working to impact. And 17 Ways helps you connect with other like-minded companies to create partnerships and do business together. The UN's Sustainable Development Goals (SDGs) outline 17 Ways companies can contribute to a sustainable planet and society. All the companies on 17 Ways choose which of the SDGs align with their mission. Many companies are additionally identified by third party certifications; we are actively working with these certifiers to develop measurement and reporting tools. Explore our marketplace filled with 17 Ways to make an impact with every purchase. Fill out this simple form Get ready to receive applications from users matching your request.\n"
          ]
        }
      ]
    },
    {
      "cell_type": "markdown",
      "source": [
        "---\n",
        "Below, we look at the **preprocessed version** of this first document. In particular, we print three attributes for each word of the first document:\n",
        "1. `word.text`, which corresponds to the original version of the word, which is called **token**.\n",
        "2. `word.pos_`, which corresponds to the POS tag predicted for that word.\n",
        "3. `word.lemma_`, which corresponds to the lemma of the token.\n",
        "\n",
        "For pedagogical reasons, we only look at the first 10 words.\n"
      ],
      "metadata": {
        "id": "igbdW_Pc_8hn"
      }
    },
    {
      "cell_type": "code",
      "source": [
        "# Print morphosyntactic analysis of the first sentence of the corpus. Each element is separated by a vertical line |\n",
        "for idx, word in enumerate(df_data_bcorp[\"text_preprocessed\"].iloc[0]):\n",
        "    print(\"Token: \", word.text, \" | \", \"POS tag: \", word.pos_,\" | \", \"Lemma of the token: \", word.lemma_)\n",
        "    # Break loop after the first 10 words -> idx==10\n",
        "    if idx == 10:\n",
        "        break"
      ],
      "metadata": {
        "colab": {
          "base_uri": "https://localhost:8080/"
        },
        "id": "pXZrHo9ETUiv",
        "outputId": "98e40b61-b1a2-47c9-e347-12a228e49886"
      },
      "execution_count": 26,
      "outputs": [
        {
          "output_type": "stream",
          "name": "stdout",
          "text": [
            "Token:  Explore  |  POS tag:  VERB  |  Lemma of the token:  explore\n",
            "Token:  how  |  POS tag:  ADV  |  Lemma of the token:  how\n",
            "Token:  you  |  POS tag:  PRON  |  Lemma of the token:  -PRON-\n",
            "Token:  can  |  POS tag:  VERB  |  Lemma of the token:  can\n",
            "Token:  make  |  POS tag:  VERB  |  Lemma of the token:  make\n",
            "Token:  every  |  POS tag:  DET  |  Lemma of the token:  every\n",
            "Token:  B2B  |  POS tag:  NOUN  |  Lemma of the token:  b2b\n",
            "Token:  purchase  |  POS tag:  NOUN  |  Lemma of the token:  purchase\n",
            "Token:  count  |  POS tag:  NOUN  |  Lemma of the token:  count\n",
            "Token:  towards  |  POS tag:  ADP  |  Lemma of the token:  towards\n",
            "Token:  UN  |  POS tag:  PROPN  |  Lemma of the token:  UN\n"
          ]
        }
      ]
    },
    {
      "cell_type": "markdown",
      "source": [
        "## 1.3 Filter of lexical features\n",
        "\n",
        "In this section, we perform several pre-processing steps to transform the text to a format that can be understood and analyzed by our methods. \n",
        "1.   <font color = 'E3A440'>Eliminating stopwords</font> : removing the low-level information from our text in order to give more focus to the important information\n",
        "2.   <font color = 'E3A440'>Keeping a selected list of POS tags</font>, that is adverb, adjective, noun and verb\n"
      ],
      "metadata": {
        "id": "DW_cSk1TAayz"
      }
    },
    {
      "cell_type": "markdown",
      "source": [
        "In the following chunk, we load the list of English **stopwords** from the package `nltk`. Since the list is customizable, we add the verb \"would\" that is not among the modal verbs included in this list. "
      ],
      "metadata": {
        "id": "a0Y3jeyUg3X6"
      }
    },
    {
      "cell_type": "code",
      "source": [
        "# download default list of stopword\n",
        "nltk.download('stopwords')\n",
        "# add a custom word to the stopword list\n",
        "stopwords_list = set(stopwords.words('english') + ['would'])"
      ],
      "metadata": {
        "id": "W7TCJHpej-RP",
        "colab": {
          "base_uri": "https://localhost:8080/"
        },
        "outputId": "f3914412-b7b5-4ba5-cfb4-9d78ac13b04f"
      },
      "execution_count": 27,
      "outputs": [
        {
          "output_type": "stream",
          "name": "stdout",
          "text": [
            "[nltk_data] Downloading package stopwords to /root/nltk_data...\n",
            "[nltk_data]   Unzipping corpora/stopwords.zip.\n"
          ]
        }
      ]
    },
    {
      "cell_type": "markdown",
      "source": [
        "---\n",
        "In the following chunk of code, we will use the previous list of stopwords to filter words and the POS tag analysis to select only the words that are adverbs, adjectives, nouns and verbs to further highlight the part of speech meaningful for our task."
      ],
      "metadata": {
        "id": "fiIwdtOEdfGz"
      }
    },
    {
      "cell_type": "code",
      "source": [
        "for idx, row in df_data_bcorp.iterrows():\n",
        "    print(f\"Sentence n. {idx}\")\n",
        "    print(\"Original :\\t \",row['text_web_page'])\n",
        "    print(\"Preprocessed:\\t \", [w.lemma_.lower() for w in row['text_preprocessed'] if w.pos_ in [\"ADV\", \"ADJ\", \"NOUN\", \"VERB\"]  and w.text.lower() not in stopwords_list])\n",
        "    if idx == 5:\n",
        "        break"
      ],
      "metadata": {
        "id": "qgVCsYwTAX8C",
        "colab": {
          "base_uri": "https://localhost:8080/"
        },
        "outputId": "7774c883-cf24-4d99-f77c-366e5a7e18ba"
      },
      "execution_count": 28,
      "outputs": [
        {
          "output_type": "stream",
          "name": "stdout",
          "text": [
            "Sentence n. 0\n",
            "Original :\t  Explore how you can make every B2B purchase count towards UN's Sustainable Development Goals (SDGs). 17 Ways connects SDG impact companies and multinationals for purpose-driven purchasing. Post a need and choose suppliers based on the products or services they offer and on the SDG areas you want to impact. You can also choose to search/sort by certifications. Appropriate companies will be alerted about your opportunity, but your information will be kept secure so you can decide how to engage and you won't be overwhelmed by potential suppliers. Now it's easy to be found by companies looking to purchase from businesses that are aligned with the SDG areas your company is working to impact. And 17 Ways helps you connect with other like-minded companies to create partnerships and do business together. The UN's Sustainable Development Goals (SDGs) outline 17 Ways companies can contribute to a sustainable planet and society. All the companies on 17 Ways choose which of the SDGs align with their mission. Many companies are additionally identified by third party certifications; we are actively working with these certifiers to develop measurement and reporting tools. Explore our marketplace filled with 17 Ways to make an impact with every purchase. Fill out this simple form Get ready to receive applications from users matching your request.\n",
            "Preprocessed:\t  ['explore', 'make', 'b2b', 'purchase', 'count', 'connect', 'impact', 'company', 'multinational', 'purpose', 'drive', 'purchasing', 'post', 'need', 'choose', 'supplier', 'base', 'product', 'service', 'offer', 'area', 'want', 'impact', 'also', 'choose', 'search', 'sort', 'certification', 'appropriate', 'company', 'alert', 'opportunity', 'information', 'keep', 'secure', 'decide', 'engage', 'will', 'overwhelm', 'potential', 'supplier', 'easy', 'find', 'company', 'look', 'purchase', 'business', 'align', 'area', 'company', 'work', 'impact', 'help', 'connect', 'like', 'minded', 'company', 'create', 'partnership', 'business', 'together', 'outline', 'company', 'contribute', 'sustainable', 'planet', 'society', 'company', 'way', 'choose', 'sdg', 'align', 'mission', 'many', 'company', 'additionally', 'identify', 'third', 'party', 'certification', 'actively', 'work', 'certifier', 'develop', 'measurement', 'reporting', 'tool', 'explore', 'marketplace', 'fill', 'way', 'make', 'impact', 'purchase', 'fill', 'simple', 'form', 'ready', 'receive', 'application', 'user', 'match', 'request']\n",
            "Sentence n. 1\n",
            "Original :\t  We're a parent company founded on a promise to make home better. Not just your home, but our home — the world we all share. So show us your dirtiest, hungriest jobs — we're up to the task. Together, we can make our home better. One room, one brand at a time. We remember when you had to choose between cleaning performance and a non-toxic home. Those days are long gone. Get your hands (and clothes and pans and floors) dirty. These impressively powerful, naturally clean products will tackle any mess. We know the kitchen is the heart of your home. Let us help you stock it with the freshest, healthiest, and most delicious ingredients. These tasty sauces are fresh ingredients meets old world flavor in one convenient jar. We believe snacks should do more than check the boxes, they should pass the \"can I have another one?\" test, too. From fertility and pregnancy to nursing and beyond, our products are crafted by food lovers and backed by experts to keep you safe and satisfied through every stage of motherhood. A champion of better for all, we were frustrated by the lack of yummy snacks for special diets. Then we found these rockstar goodies. Snacks are always too something. You get the idea. Finally, a snack that's just right.\n",
            "Preprocessed:\t  ['parent', 'company', 'found', 'promise', 'make', 'home', 'better', 'home', 'home', 'world', 'share', 'show', 'dirty', 'hungry', 'job', 'task', 'together', 'make', 'home', 'better', 'room', 'brand', 'time', 'remember', 'choose', 'clean', 'performance', 'non', '-', 'toxic', 'home', 'day', 'long', 'go', 'hand', 'clothe', 'pan', 'floor', 'dirty', 'impressively', 'powerful', 'naturally', 'clean', 'product', 'tackle', 'mess', 'know', 'kitchen', 'heart', 'home', 'let', 'help', 'stock', 'fresh', 'healthy', 'delicious', 'ingredient', 'tasty', 'sauce', 'fresh', 'ingredient', 'meet', 'old', 'world', 'flavor', 'convenient', 'jar', 'believe', 'snack', 'check', 'box', 'pass', 'one', 'test', 'fertility', 'pregnancy', 'nursing', 'beyond', 'product', 'craft', 'food', 'lover', 'back', 'expert', 'keep', 'safe', 'satisfied', 'stage', 'motherhood', 'champion', 'well', 'frustrate', 'lack', 'yummy', 'snack', 'special', 'diet', 'find', 'rockstar', 'goody', 'snack', 'always', 'get', 'idea', 'finally', 'snack', 'right']\n",
            "Sentence n. 2\n",
            "Original :\t  Opening Date: August 2019 Address: 1921 8th St NW #115, Washington,... Location: 98 District Square SW, Washington, DC 20024 Open Date:February 2018... Location: 1221 Van Street SE Setting: Within feet of the D.C.'s... Location: 4121 Wilson BLVD Suite 102B, Arlington, VA 22203 Project Type:... Address: 901 North Saint Asaph Street, Alexandria, VA, 22314 Seat Count,... Location: 1837 M Street NW, Washington D.C. Location: 1401 New York Avenue NW, Washington DC 20005 Setting: The... Location: Columbia, South Carolina Date project completed: Summer 2018 Photography: The Rohm Group Project... Location: 82 I Street SE, Washington, DC 20003 Completed: Spring, 2017 Project... Location: Annapolis, Maryland Completed: Summer 2018 Project Description: An ambitious renovation project by... The result of a collaboration between D.C.-based architecture and interior design... Tasked with repurposing Washington DC's historic Equitable Bank Building and transforming... Location: White Marsh, MD Date project completed: Fall 2017 Total size: 3,650 sq. ft. and... Location: Potomac, Maryland Date project completed: Fall 2017 Project Description: Residence7801 is a... Location: Fort Worth, Texas Date project completed: Fall 2016 Project Description: Interior design for... Location: Virginia Beach, Virginia Date project completed: Winter 2016 Project Description: Full Renovation... Location: Charleston, South Carolina Date project completed: Fall 2016 Interior Design: P3 Design Collective... Location: Washington, DC Date project completed: Winter 2017 Total square footage: 7,930 sq. ft. PACERS RUNNING CLARENDON //3877 worked hand in hand with Pacers to bring in elements... Location: 1090 I St NW, Washington, DC 20001 Owner: Momofuku CCDC... Location: Washington, DC Owner: Danielle Vogel Date project completed: December 2015 Total square footage: Photographer: Ronald... Location: Washington, DC Date project completed: Spring 2016 Project Description: Phoenix Park Hotel, Washington,... Project Location: Washington, DC Date project completed: Spring 2015 Project Description: The Randolph... Location: Denver, CO Owner: AppleREIT Total Square Footage: 3,850 sq. ft. Location: Fairfax, VA Owner: AppleREIT Date project completed: Fall 2014 Total square footage: 40,000 sq.... Location: Washington, DC Owner: Anne Mahlum Date project completed: Spring 2014 Total square... Project Location: Reston, VA Date project completed: Spring 2010 Project Description:... Location: 1901 14th Street NW Owner: Matchbox Food Group Date project completed: November... Location: Various European Locations Owner: Marriott Project Description: Moxy is a new economy-focused... Location: Washington, DC Owner: 3 Stars Brewing Date project completed: Fall 2015... Project Location: Washington, DC Date project completed: Spring 2010 Project Description: Residence156... Location: New York, NY Owner: The Atwood Kitchen + Bar Room... Project Location: Gaithersburg, MD Owner: Baywood Hotels Date project completed: Spring... Project Location: Washington, DC Date project completed: Spring 2015 Project Description: 2917... Project Location: Washington, DC Date project completed: Fall 2010 Project Description: In... Location: Various United States Locations Owner: Marriott Project Description: //3877 was tasked with... Project Location: Washington, DC Project Description: Mansion History The Patterson Mansion... Restaurant Location: Washington, DC Date project completed: Fall 2012 Photographer: Daniel... Project Location: College Park, MD Owner: Baywood Hotels Services Provided: Architecture... Location: Arlington, VA Owner: Anne Mahlum Date project completed: Summer 2014 Total... Project Location: Washington, DC Developer: Property Alchemist Date project completed: Fall 2014 Millwork: Cabinet... Location: Alexandria, VA Owner: Carluccio's Date project completed: Fall 2014 Total... Project Location: Washington, DC Owner: Sundaram Development Date project completed: Fall 2013... Location: Washington, DC Owner: Anne Mahlum Date project completed: Fall 2013 Total square... Location: Washington, DC Owner: Danielle Vogel Date project completed: April 2013 Total square... Restaurant Location: Washington, DC Restaurant Type: Sit Down Dining and Retail... Location: Washington, DC Owner: Capital City Care Date project completed: Spring 2013... Easy is not to be underestimated. Design is not just a visual thing, it's a thought process, a skill. Ultimately design is a tool to enhance our humanity. You were once wild here. Never half-ass two things. When you have a choice between being right and being kind, choose kind. Dr. Work hard & be nice to people. The Results \"//3877 has the creativity to make every space a show place and the architectural depth to make every set a plans a well thought out, buildable design\" \"//3877 has the creativity to make every space a show place and the architectural depth to make every set a plans a well thought out, buildable design\" \"To say that working with //3877 was an outstanding experience is almost an understatement. The cooperation and sensitivity that David Shove-Brown and Ryan Petyak exhibited on our project and towards our concerns was exemplary. As skilled listeners, they invested the time to learn our project goals and then execute that vision in their design and project management. I sincerely believe that the phenomenal success of our project is largely attributed to their attention and efforts. Additionally, they made the work fun. They are a dynamite team that I thoroughly enjoyed working with and I only wish that I could clone them for future projects in other cities!\" \"//3877's vision and execution provides for the perfect balance of cutting edge contemporary while maintaining the character of historic details. They have become the cornerstone partner for my commercial and residential development firm because of that unique and talented approach.\" \"//3877's vision and execution provides for the perfect balance of cutting edge contemporary while maintaining the character of historic details. They have become the cornerstone partner for my commercial and residential development firm because of that unique and talented approach.\" \"We've been working with //3877 for a number of years now on numerous projects and have found David and his team to be a pleasure to work with. I recommend them often and without reservation.\" \"We've been working with //3877 for a number of years now on numerous projects and have found David and his team to be a pleasure to work with. I recommend them often and without reservation.\" \"//3877 is so more than an architecture firm. Their designs are brilliant, cost effective, and beautiful. Their team is incredibly attentive and responsive and they make every effort to ensure that the daunting task of completing a build out is as simple and easy as possible.\" \"//3877 is so more than an architecture firm. Their team is incredibly attentive and responsive and they make every effort to ensure that the daunting task of completing a build out is as simple and easy as possible.\" \"It has been my pleasure to have //3877 as our Architect for the past 2 years. I could not be happier. In my forty years of design and construction I have never seen a more talented and caring design team. The skills they bring ensure the highest level of design and quality. I am particularly impressed with the thought that went into the build and co-ordination with the client, design team and contractor. What began as another Architect – Owner relationship soon developed into partnership and friendship. I look forward to our partnership as we move down the Eastern Seaboard, South and South West with new Veterinary Hospitals.\n",
            "Preprocessed:\t  ['opening', 'date', 'address', '8th', 'location', 'open', 'location', 'setting', 'foot', 'location', 'address', 'location', 'set', 'location', 'project', 'complete', 'summer', 'location', 'spring', 'location', 'complete', 'ambitious', 'renovation', 'project', 'result', 'collaboration', 'd.c.-based', 'architecture', 'interior', 'design', 'task', 'repurpose', 'historic', 'transforming', 'location', 'project', 'complete', 'fall', 'total', 'size', 'location', 'project', 'complete', 'fall', 'description', 'location', 'project', 'complete', 'fall', 'interior', 'design', 'location', 'project', 'complete', 'winter', 'full', 'renovation', 'location', 'project', 'complete', 'fall', 'location', 'project', 'complete', 'winter', 'total', 'square', 'footage', 'pacer', 'work', 'hand', 'hand', 'pacer', 'bring', 'element', 'location', 'owner', 'momofuku', 'location', 'project', 'complete', 'total', 'square', 'footage', 'photographer', 'location', 'project', 'complete', 'spring', 'project', 'complete', 'spring', 'location', 'location', 'project', 'complete', 'fall', 'total', 'square', 'footage', 'location', 'project', 'complete', 'spring', 'total', 'square', 'project', 'complete', 'spring', 'location', 'project', 'complete', 'location', 'various', 'new', 'economy', 'focus', 'location', 'project', 'complete', 'fall', 'project', 'complete', 'spring', 'location', 'project', 'complete', 'spring', 'project', 'complete', 'spring', 'project', 'complete', 'fall', 'location', 'task', 'mansion', 'history', 'project', 'complete', 'fall', 'photographer', 'provide', 'architecture', 'location', 'project', 'complete', 'summer', 'total', 'developer', 'project', 'complete', 'fall', 'location', 'project', 'complete', 'fall', 'total', 'project', 'complete', 'fall', 'location', 'project', 'complete', 'fall', 'total', 'square', 'location', 'project', 'complete', 'total', 'square', 'sit', 'dining', 'location', 'project', 'complete', 'spring', 'easy', 'underestimate', 'design', 'visual', 'thing', 'thought', 'process', 'skill', 'ultimately', 'design', 'tool', 'enhance', 'humanity', 'wild', 'never', 'half', 'ass', 'thing', 'choice', 'right', 'kind', 'choose', 'kind', 'hard', 'nice', 'people', 'result', 'creativity', 'make', 'space', 'show', 'place', 'architectural', 'depth', 'make', 'set', 'plan', 'well', 'think', 'buildable', 'design', 'creativity', 'make', 'space', 'show', 'place', 'architectural', 'depth', 'make', 'set', 'plan', 'well', 'think', 'buildable', 'design', 'say', 'work', 'outstanding', 'experience', 'almost', 'understatement', 'cooperation', 'sensitivity', 'exhibit', 'project', 'concern', 'exemplary', 'skilled', 'listener', 'invest', 'time', 'learn', 'project', 'goal', 'execute', 'vision', 'design', 'project', 'management', 'sincerely', 'believe', 'phenomenal', 'success', 'project', 'largely', 'attribute', 'attention', 'effort', 'additionally', 'make', 'work', 'fun', 'dynamite', 'team', 'thoroughly', 'enjoy', 'work', 'wish', 'could', 'clone', 'future', 'project', 'city', 'vision', 'execution', 'provide', 'perfect', 'balance', 'cut', 'edge', 'contemporary', 'maintain', 'character', 'historic', 'detail', 'become', 'cornerstone', 'partner', 'commercial', 'residential', 'development', 'firm', 'unique', 'talented', 'approach', 'vision', 'execution', 'provide', 'perfect', 'balance', 'cut', 'edge', 'contemporary', 'maintain', 'character', 'historic', 'detail', 'become', 'cornerstone', 'partner', 'commercial', 'residential', 'development', 'firm', 'unique', 'talented', 'approach', 'work', 'number', 'year', 'numerous', 'project', 'find', 'team', 'pleasure', 'work', 'recommend', 'often', 'reservation', 'work', 'number', 'year', 'numerous', 'project', 'find', 'team', 'pleasure', 'work', 'recommend', 'often', 'reservation', 'architecture', 'firm', 'design', 'brilliant', 'cost', 'effective', 'beautiful', 'team', 'incredibly', 'attentive', 'responsive', 'make', 'effort', 'ensure', 'daunting', 'task', 'complete', 'build', 'simple', 'easy', 'possible', 'architecture', 'firm', 'team', 'incredibly', 'attentive', 'responsive', 'make', 'effort', 'ensure', 'daunting', 'task', 'complete', 'build', 'simple', 'easy', 'possible', 'pleasure', 'architect', 'past', 'year', 'could', 'happy', 'year', 'design', 'construction', 'never', 'see', 'talented', 'care', 'design', 'team', 'skill', 'bring', 'ensure', 'high', 'level', 'design', 'quality', 'particularly', 'impressed', 'thought', 'go', 'build', 'co', '-', 'ordination', 'client', 'design', 'team', 'contractor', 'begin', 'architect', 'owner', 'relationship', 'soon', 'develop', 'partnership', 'friendship', 'look', 'forward', 'partnership', 'move', 'new']\n",
            "Sentence n. 3\n",
            "Original :\t  Making urgent corporate utility global bold climate action possible 3Degrees helps organizations around the world implement renewable energy, transportation decarbonization, and other climate solutions. How Verisk is Successfully Addressing Emissions from its International Energy Load 3Degrees crafted a cost-competitive plan for Verisk to address its global greenhouse gas emissions through a diverse portfolio of high-quality energy attribute certificates (EACs) and carbon offsets. Tackling the Decarbonization of Transportation As the largest emitter of greenhouse gases in the U.S., the transportation sector is exactly where we need to focus our collective efforts to reduce emissions. The solution that will have the biggest impact: transitioning to low-carbon transportation fuels. How Mondelez International is Reducing its Global GHG Emissions Mondelēz International enlisted 3Degrees to develop a global strategy roadmap and implement a new VPPA to help the company meet its ambitious emissions reduction goal. Companies Partner on Largest Renewable Energy Aggregation to Date 3Degrees helped four leading companies leverage their collective buying power in an innovative renewable energy aggregation, demonstrating how corporate energy buyers of all sizes can successfully purchase renewable energy directly from new renewable projects. Maximizing the Value of Your Green Power Programs Fully optimized green power programs provide a huge opportunity for utilities. When designed and implemented well, these programs offer numerous benefits. Invest in verified carbon offset projects Take immediate action on your Scope 1 (direct) and Scope 3 (indirect) GHG emissions, including transportation emissions, by investing in carbon offset projects. Support renewable energy on a local and global scale Reduce the environmental impact of your global energy use through high-quality, country-specific instruments like RECs, GOs, I-RECs, and TIGRs. Meet your emissions reduction and climate goals Whether you are just getting started on your sustainability journey or are a sophisticated energy buyer, meet your climate and renewable energy goals with customized, best-fit solutions. Offer utility voluntary renewable energy programs Create value for your utility and your customers with a suite of well-designed voluntary programs, including green power, community solar, green tariff, and renewable natural gas programs. Reduce the impact of transportation emissions Address the impact of your transportation-related emissions with a customized program of decarbonization solutions that incorporates Low Carbon Fuel Standard (LCFS) support, fleet decarbonization consulting, and carbon offset project investment within the transportation sector. Etsy has a long-standing track record of working to reduce our environmental footprint. Our carbon neutral shipping initiative is a major milestone within our larger commitment to act urgently and aggressively in the fight against climate change. The signing of this VPPA is a major advancement towards achieving our aggressive global emissions reduction goals. We have worked hand-in-hand with the 3Degrees team for more than a decade; in that time they have helped us make our Blue Sky renewable energy program one of the top renewable energy programs in the country. 3Degrees' expertise in program design and implementation has allowed us to continually evolve the Blue Sky program to keep it relevant to customers, the renewable energy market, and to the utility. We are updating our events calendar. Please check back soon.\n",
            "Preprocessed:\t  ['make', 'urgent', 'corporate', 'utility', 'global', 'bold', 'climate', 'action', 'possible', 'help', 'organization', 'world', 'implement', 'renewable', 'energy', 'transportation', 'decarbonization', 'climate', 'solution', 'successfully', 'address', 'emission', 'craft', 'cost', 'competitive', 'plan', 'address', 'global', 'greenhouse', 'gas', 'emission', 'diverse', 'portfolio', 'high', 'quality', 'energy', 'attribute', 'certificate', 'carbon', 'offset', 'tackle', 'decarbonization', 'large', 'emitter', 'greenhouse', 'gas', 'transportation', 'sector', 'exactly', 'need', 'focus', 'collective', 'effort', 'reduce', 'emission', 'solution', 'big', 'impact', 'transition', 'low', 'carbon', 'transportation', 'fuel', 'reduce', 'global', 'enlist', 'develop', 'global', 'strategy', 'roadmap', 'implement', 'new', 'help', 'company', 'meet', 'ambitious', 'emission', 'reduction', 'goal', 'company', 'large', 'renewable', 'energy', 'help', 'lead', 'company', 'leverage', 'collective', 'buying', 'power', 'innovative', 'renewable', 'energy', 'aggregation', 'demonstrate', 'corporate', 'energy', 'buyer', 'size', 'successfully', 'purchase', 'renewable', 'energy', 'directly', 'new', 'renewable', 'project', 'maximize', 'value', 'fully', 'optimize', 'green', 'power', 'program', 'provide', 'huge', 'opportunity', 'utility', 'design', 'implement', 'well', 'program', 'offer', 'numerous', 'benefit', 'invest', 'verified', 'carbon', 'offset', 'project', 'take', 'immediate', 'action', 'scope', 'direct', 'indirect', 'emission', 'include', 'transportation', 'emission', 'invest', 'carbon', 'offset', 'project', 'support', 'renewable', 'energy', 'local', 'global', 'scale', 'reduce', 'environmental', 'impact', 'global', 'energy', 'use', 'high', 'quality', 'country', 'specific', 'instrument', 'rec', 'go', 'meet', 'emission', 'reduction', 'climate', 'goal', 'get', 'start', 'sustainability', 'journey', 'sophisticated', 'energy', 'buyer', 'meet', 'climate', 'renewable', 'energy', 'goal', 'customized', 'best', 'fit', 'solution', 'offer', 'utility', 'voluntary', 'renewable', 'energy', 'program', 'create', 'value', 'utility', 'customer', 'suite', 'well', 'design', 'voluntary', 'program', 'include', 'green', 'power', 'community', 'solar', 'green', 'tariff', 'renewable', 'natural', 'gas', 'program', 'reduce', 'impact', 'transportation', 'emission', 'address', 'impact', 'transportation', 'relate', 'emission', 'customized', 'program', 'decarbonization', 'solution', 'incorporate', 'support', 'fleet', 'decarbonization', 'consulting', 'carbon', 'offset', 'project', 'investment', 'transportation', 'sector', 'long', 'stand', 'track', 'record', 'work', 'reduce', 'environmental', 'footprint', 'carbon', 'neutral', 'shipping', 'initiative', 'major', 'milestone', 'large', 'commitment', 'act', 'urgently', 'aggressively', 'fight', 'climate', 'change', 'signing', 'major', 'advancement', 'achieve', 'aggressive', 'global', 'emission', 'reduction', 'goal', 'work', 'hand', 'hand', 'team', 'decade', 'time', 'help', 'make', 'renewable', 'energy', 'program', 'top', 'renewable', 'energy', 'program', 'country', 'expertise', 'program', 'design', 'implementation', 'allow', 'continually', 'evolve', 'program', 'keep', 'relevant', 'customer', 'renewable', 'energy', 'market', 'utility', 'update', 'event', 'calendar', 'check', 'back', 'soon']\n",
            "Sentence n. 4\n",
            "Original :\t  Near-time multidimensional analysis and intelligence gathering to quickly map safe routes, recovery and risk mitigation. The Intelligent Eye 3D Planeta's patented technology fuses 2D satellite and aerial images of the earth to create volumetric 3D images. Imagine a digital map, but instead of seeing the earth in 2D or simulated 3D, you saw an actual 3D image. That's 3D Planeta's starting point. We contribute at least one percent of annual sales to local environmental causes as part of this global alliance of businesses financially committed to creating a healthy planet. We are actively working on three of the 17 SDGs, the global call to action to support greener, more inclusive economies, and stronger, more resilient societies. Enter your email: Invalid value © 2020 3D Planeta. Necessary cookies are absolutely essential for the website to function properly. This category only includes cookies that ensures basic functionalities and security features of the website. These cookies do not store any personal information. Any cookies that may not be particularly necessary for the website to function and is used specifically to collect user personal data via analytics, ads, other embedded contents are termed as non-necessary cookies. It is mandatory to procure user consent prior to running these cookies on your website.\n",
            "Preprocessed:\t  ['near', 'time', 'multidimensional', 'analysis', 'intelligence', 'gathering', 'quickly', 'map', 'safe', 'route', 'recovery', 'risk', 'mitigation', '3d', 'patented', 'technology', 'fuse', 'satellite', 'aerial', 'image', 'earth', 'create', 'volumetric', '3d', 'image', 'imagine', 'digital', 'map', 'instead', 'see', 'earth', '2d', 'simulate', '3d', 'see', 'actual', '3d', 'image', '3d', 'starting', 'point', 'contribute', 'least', 'percent', 'annual', 'sale', 'local', 'environmental', 'cause', 'part', 'global', 'alliance', 'business', 'financially', 'commit', 'create', 'healthy', 'planet', 'actively', 'work', 'sdg', 'global', 'call', 'action', 'support', 'inclusive', 'economy', 'strong', 'resilient', 'society', 'enter', 'email', 'invalid', 'value', '3d', 'necessary', 'cookie', 'absolutely', 'essential', 'website', 'function', 'properly', 'category', 'include', 'cookie', 'ensure', 'basic', 'functionality', 'security', 'feature', 'website', 'cookie', 'store', 'personal', 'information', 'cookie', 'may', 'particularly', 'necessary', 'website', 'function', 'use', 'specifically', 'collect', 'user', 'personal', 'datum', 'analytic', 'ad', 'embed', 'content', 'term', 'non', '-', 'necessary', 'cookie', 'mandatory', 'procure', 'user', 'consent', 'prior', 'run', 'cookie', 'website']\n",
            "Sentence n. 5\n",
            "Original :\t  WHAT WE DO 3 Phases Renewables is a leading supplier of comprehensive renewable energy solutions. DIRECT ACCESS 3 Phases Renewables allows you to choose your renewable energy content at rates that are cost-competitive with your current utility's. DISTRIBUTED GENERATION 3 Phases Renewables is experienced in the design, financing, construction and operation of a variety of types of On-site generation systems. RENEWABLE ENERGY CREDITS 3 Phases Renewables purchases and sells Green-e certified RECs. Our REC program follows strict auditable procedures so that you can be assured that your REC purchase will legitimately further your environmental initiatives. By purchasing renewable power via Direct Access, the City avoids nearly 18,000 metric tons of carbon. Our commitment to sustainability starts at the workplace, but our greatest impact is achieved through the services we offer. Mike Mazur, Founder 3 Phases Renewables tops the list with the highest percentage of renewable power delivered.\n",
            "Preprocessed:\t  ['leading', 'supplier', 'comprehensive', 'renewable', 'energy', 'solution', 'direct', 'acces', 'allow', 'choose', 'renewable', 'energy', 'content', 'rate', 'cost', 'competitive', 'current', 'utility', 'distribute', 'generation', 'experience', 'design', 'financing', 'construction', 'operation', 'variety', 'type', 'site', 'generation', 'system', 'credit', 'phase', 'purchase', 'sell', 'e', 'certify', 'rec', 'program', 'follow', 'strict', 'auditable', 'procedure', 'assure', 'purchase', 'legitimately', 'environmental', 'initiative', 'purchase', 'renewable', 'power', 'avoid', 'nearly', 'metric', 'ton', 'carbon', 'commitment', 'sustainability', 'start', 'workplace', 'great', 'impact', 'achieve', 'service', 'offer', 'top', 'list', 'high', 'percentage', 'renewable', 'power', 'deliver']\n"
          ]
        }
      ]
    },
    {
      "cell_type": "markdown",
      "source": [
        "---\n",
        "We apply this filtering operation to the whole dataset, saving result into a new column named `text_cleaned`. How you can see, we only choose POS tag that correspond at one of the elements of this list `[\"ADV\", \"ADJ\", \"NOUN\", \"VERB\"]`. \n",
        "This column will be used for the next pre-processing step, which is vectorization.\n",
        "Below, we provide the list of POS tag used by `spacy`."
      ],
      "metadata": {
        "id": "L6q3eVffLvyD"
      }
    },
    {
      "cell_type": "markdown",
      "source": [
        "| **POS** | **DESCRIPTION**           | **EXAMPLES**                                      |\n",
        "| ------- | ------------------------- | ------------------------------------------------- |\n",
        "| ADJ     | adjective                 | big, old, green, incomprehensible, first      |\n",
        "| ADP     | adposition                | in, to, during                                |\n",
        "| ADV     | adverb                    | very, tomorrow, down, where, there            |\n",
        "| AUX     | auxiliary                 | is, has (done), will (do), should (do)        |\n",
        "| CONJ    | conjunction               | and, or, but                                  |\n",
        "| CCONJ   | coordinating conjunction  | and, or, but                                  |\n",
        "| DET     | determiner                | a, an, the                                    |\n",
        "| INTJ    | interjection              | psst, ouch, bravo, hello                      |\n",
        "| NOUN    | noun                      | girl, cat, tree, air, beauty                  |\n",
        "| NUM     | numeral                   | 1, 2017, one, seventy-seven, IV, MMXIV        |\n",
        "| PART    | particle                  | ’s, not                                      |\n",
        "| PRON    | pronoun                   | I, you, he, she, myself, themselves, somebody |\n",
        "| PROPN   | proper noun               | Mary, John, London, NATO, HBO                 |\n",
        "| PUNCT   | punctuation               | ., (, ), ?                                    |\n",
        "| SCONJ   | subordinating conjunction | if, while, that                               |\n",
        "| SYM     | symbol                    | $, %, §, ©, +, −, ×, ÷, =, :)               |\n",
        "| VERB    | verb                      | run, runs, running, eat, ate, eating          |\n",
        "| X       | other                     | sfpksdpsxmsa                                  |\n",
        "| SPACE   | space                     |                                                   |"
      ],
      "metadata": {
        "id": "fnSX4FQPPi9k"
      }
    },
    {
      "cell_type": "code",
      "source": [
        "# initialize empty lists\n",
        "text_cleaned = []\n",
        "spacy_lst_object = []\n",
        "# iterate over each preprocessed document\n",
        "for idx, row in df_data_bcorp.iterrows(): \n",
        "    # keep only the lemma for each token that has been tagged as one of these POS tags [\"ADV\", \"ADJ\", \"NOUN\", \"VERB\"] AND its lemma IS NOT contained in the stopwords_list AND its lemma has more than 1 character\n",
        "    text = [w.lemma_.lower() for w in row['text_preprocessed'] if w.pos_ in [\"ADV\", \"ADJ\", \"NOUN\", \"VERB\"] and w.lemma_.lower() not in stopwords_list and len(w.lemma_.lower())> 1]\n",
        "    text_cleaned.append(text)\n",
        "   \n",
        "df_data_bcorp[\"text_cleaned\"] = text_cleaned"
      ],
      "metadata": {
        "id": "4DSCDScJee8_"
      },
      "execution_count": 29,
      "outputs": []
    },
    {
      "cell_type": "markdown",
      "source": [
        "## 1.4 Vectorization of lexical features\n",
        "\n",
        "In the following section, we create the <font color = 'E3A440'>Document-Term Matrix (DTM)</font> that will be used in our model. \n",
        "\n",
        "The vectorization process consists in transforming a collection of text documents into a matrix of word counts. The following chunk of code is used to set the parameters of the matrix that we will create.\n",
        "Pay attention to the following arguments:\n",
        "1. `min_df`\n",
        "2. `max_df`\n",
        "3. `stop_words`"
      ],
      "metadata": {
        "id": "-A2m2Np-heiK"
      }
    },
    {
      "cell_type": "code",
      "source": [
        "def identity_tokenizer(text):\n",
        "    return text\n",
        "\n",
        "# Transforming the word in frequencies\n",
        "vectorized = CountVectorizer(lowercase = False, # Convert all characters to lowercase before tokenizing\n",
        "                             min_df = 5, # Ignore terms that have a document frequency strictly lower than the given threshold \n",
        "                             max_df = 450, # Ignore terms that have a document frequency strictly higher than the given threshold (corpus-specific stop words)\n",
        "                             stop_words = stopwords_list, # Remove the list of words provided\n",
        "                             ngram_range = (1, 1), # Get the lower and upper boundary of the range of n-values for different word n-grams or char n-grams to be extracted\n",
        "                             tokenizer=identity_tokenizer) # Override the string tokenization step while preserving the preprocessing and n-grams generation steps"
      ],
      "metadata": {
        "id": "rh0pO9WIgApa"
      },
      "execution_count": 30,
      "outputs": []
    },
    {
      "cell_type": "markdown",
      "source": [
        "---\n",
        "In the following chunk of code, we create a `DTM` with frequency weights. Thus, we assign the result of the vectorization process to the variable named `freq_term_DTM`."
      ],
      "metadata": {
        "id": "YWC7liMKMr62"
      }
    },
    {
      "cell_type": "code",
      "source": [
        "freq_term_DTM = vectorized.fit_transform(df_data_bcorp[\"text_cleaned\"])"
      ],
      "metadata": {
        "id": "fZru5J1zglsC",
        "colab": {
          "base_uri": "https://localhost:8080/"
        },
        "outputId": "69038f63-8f1b-4c4b-f8d3-102f8f744a2f"
      },
      "execution_count": 31,
      "outputs": [
        {
          "output_type": "stream",
          "name": "stderr",
          "text": [
            "/usr/local/lib/python3.7/dist-packages/sklearn/feature_extraction/text.py:401: UserWarning: Your stop_words may be inconsistent with your preprocessing. Tokenizing the stop words generated tokens [\"'\", 'b', 'c', 'e', 'f', 'g', 'h', 'j', 'l', 'n', 'p', 'r', 'u', 'v', 'w'] not in stop_words.\n",
            "  % sorted(inconsistent)\n"
          ]
        }
      ]
    },
    {
      "cell_type": "markdown",
      "source": [
        "---\n",
        "Thus, we print information about that matrix."
      ],
      "metadata": {
        "id": "qb2iPmcjTP3n"
      }
    },
    {
      "cell_type": "code",
      "source": [
        "freq_term_DTM"
      ],
      "metadata": {
        "id": "UzS-0TEEjveo",
        "colab": {
          "base_uri": "https://localhost:8080/"
        },
        "outputId": "2896bc38-11bb-48b9-c84f-7146ab2e9f45"
      },
      "execution_count": 32,
      "outputs": [
        {
          "output_type": "execute_result",
          "data": {
            "text/plain": [
              "<1110x2987 sparse matrix of type '<class 'numpy.int64'>'\n",
              "\twith 91115 stored elements in Compressed Sparse Row format>"
            ]
          },
          "metadata": {},
          "execution_count": 32
        }
      ]
    },
    {
      "cell_type": "markdown",
      "source": [
        "---\n",
        "In the next chunk of code, we create another matrix using `scikit-learn` but this time we use the <font color = 'E3A440'>Tf-IDF</font> as weighting scheme of each word. The Tf-IDF is calculated as follows:\n",
        "\n",
        "$\n",
        "\\begin{align}\n",
        "&\\text{Let}\\ t = \\text{Term}\\\\\n",
        "&\\text{Let}\\ IDF = \\text{Inverse Document Frequency}\\\\\n",
        "&    \\text{Let}\\ TF =\\text{Term Frequency}\\\\[2em]\n",
        "&    TF \\: =\\: \\frac{\\text{term frequency in document}}{\\text{total words in document}}\\\\[1em]\n",
        "&    IDF(t) \\: =\\: \\log_2\\left(\\frac{\\text{total documents in corpus}}{\\text{documents with term}}\\right)\n",
        "\\end{align}\n",
        "$\n",
        "\n",
        "Then Tf–IDF is calculated as :\n",
        "$$tfidf( t, d, D ) = tf( t, d ) \\times idf( t, D )$$"
      ],
      "metadata": {
        "id": "bTzg1vPTfKiA"
      }
    },
    {
      "cell_type": "markdown",
      "source": [
        "Thus, we assign the result of the Tf-IDF weighting to the variable named `tfidf_DTM`. "
      ],
      "metadata": {
        "id": "rXuvjwoeU_cH"
      }
    },
    {
      "cell_type": "code",
      "source": [
        "# Calculate the tfidf matrix\n",
        "tfidf = TfidfTransformer(norm='l1')\n",
        "tfidf_DTM = tfidf.fit_transform(freq_term_DTM)"
      ],
      "metadata": {
        "id": "1W4puzyXkA7K"
      },
      "execution_count": 33,
      "outputs": []
    },
    {
      "cell_type": "markdown",
      "source": [
        "<a id=\"desc-stat\"></a>\n",
        "# <font size = '6' color='f28c00'>Section 2: Descriptive Statistics</font>\n",
        "In this section, we explore the cleaned text of the web pages through descriptive analysis.\n",
        "\n"
      ],
      "metadata": {
        "id": "_jutXQxXmMtK"
      }
    },
    {
      "cell_type": "markdown",
      "source": [
        "## 2.1 Metadata\n",
        "In this section, we extract some statistics about the following metadata:\n",
        "1. `sector`\n",
        "2. `industry`\n",
        "3. `country`\n",
        "4. `state`\n",
        "5. `city`"
      ],
      "metadata": {
        "id": "JYFvlJB9prTT"
      }
    },
    {
      "cell_type": "code",
      "source": [
        "# We count the number of companies that we have grouping by the sector\n",
        "df_data_bcorp['sector'].value_counts()"
      ],
      "metadata": {
        "id": "QVmYHQylSkW0",
        "colab": {
          "base_uri": "https://localhost:8080/"
        },
        "outputId": "234806e5-3501-4cb7-ae28-f4ae651b882a"
      },
      "execution_count": 34,
      "outputs": [
        {
          "output_type": "execute_result",
          "data": {
            "text/plain": [
              "Service with Minor Environmental Footprint          606\n",
              "Wholesale/Retail                                    222\n",
              "Manufacturing                                       148\n",
              "Service with Significant Environmental Footprint     99\n",
              "Agriculture/Growers                                  30\n",
              "Service                                               5\n",
              "Name: sector, dtype: int64"
            ]
          },
          "metadata": {},
          "execution_count": 34
        }
      ]
    },
    {
      "cell_type": "code",
      "source": [
        "# We count the number of companies that we have grouping by the industry\n",
        "df_data_bcorp['industry'].value_counts()"
      ],
      "metadata": {
        "id": "e_ahE5nrWVHj",
        "colab": {
          "base_uri": "https://localhost:8080/"
        },
        "outputId": "e91b076d-433f-4641-c841-3963dc387eff"
      },
      "execution_count": 35,
      "outputs": [
        {
          "output_type": "execute_result",
          "data": {
            "text/plain": [
              "Food & Beverage                        148\n",
              "IT Software & Services/Web Design       91\n",
              "Marketing & Communications Services     85\n",
              "Other                                   71\n",
              "Home & Personal Care                    66\n",
              "                                      ... \n",
              "Other Business Products                  1\n",
              "Other Energy Generation                  1\n",
              "Consumer Rewards                         1\n",
              "Catering & Meeting/Event Management      1\n",
              "Energy Efficiency & Consulting           1\n",
              "Name: industry, Length: 65, dtype: int64"
            ]
          },
          "metadata": {},
          "execution_count": 35
        }
      ]
    },
    {
      "cell_type": "code",
      "source": [
        "# We count the number of companies that we have grouping by the state and the city\n",
        "df_data_bcorp.groupby(['state','city'])['company_id'].count()"
      ],
      "metadata": {
        "id": "9gD5J7hdUXB9",
        "outputId": "6a754147-ff92-443e-c088-47a1094c03d7",
        "colab": {
          "base_uri": "https://localhost:8080/"
        }
      },
      "execution_count": 52,
      "outputs": [
        {
          "output_type": "execute_result",
          "data": {
            "text/plain": [
              "state      city      \n",
              "Alabama    Huntsville     1\n",
              "           Mobile         1\n",
              "Alaska     Anchorage      1\n",
              "Alberta    Calgary       13\n",
              "           Edmonton       5\n",
              "                         ..\n",
              "Wisconsin  Milwaukee      3\n",
              "           Nashotah       1\n",
              "           Oneida         1\n",
              "Wyoming    Wilson         1\n",
              "Yukon      Whitehorse     1\n",
              "Name: company_id, Length: 459, dtype: int64"
            ]
          },
          "metadata": {},
          "execution_count": 52
        }
      ]
    },
    {
      "cell_type": "code",
      "source": [
        "# We count the number of companies that we have in Canada grouping by the state and the city\n",
        "df_data_bcorp[(df_data_bcorp.country=='Canada') & (df_data_bcorp.state.isin(['Ontario','Quebec','Alberta']))].groupby(['state','city'])['company_id'].count()"
      ],
      "metadata": {
        "id": "6Go1I-uRU1Il",
        "outputId": "9fa82fb1-0cd5-4056-889d-10aad1cc9134",
        "colab": {
          "base_uri": "https://localhost:8080/"
        }
      },
      "execution_count": 90,
      "outputs": [
        {
          "output_type": "execute_result",
          "data": {
            "text/plain": [
              "state    city               \n",
              "Alberta  Calgary                13\n",
              "         Edmonton                5\n",
              "Ontario  Almonte                 1\n",
              "         Aurora                  1\n",
              "         Barrie                  1\n",
              "         Beamsville              1\n",
              "         Cambridge               1\n",
              "         Cardinal                1\n",
              "         Collingwood             1\n",
              "         East York               1\n",
              "         Elmira                  1\n",
              "         Guelph                  6\n",
              "         Hamilton                1\n",
              "         Huntsville              2\n",
              "         Kitchener               4\n",
              "         London                  2\n",
              "         Mississauga             1\n",
              "         Mulmur                  1\n",
              "         Oakville                3\n",
              "         Oakville/Burlington     1\n",
              "         Ottawa                  2\n",
              "         Peterborough            1\n",
              "         Richmond Hill           1\n",
              "         Sarnia                  1\n",
              "         Toronto                37\n",
              "         Vankleek Hill           1\n",
              "         Vaughan                 2\n",
              "         Waterloo                2\n",
              "         Welland                 1\n",
              "         York                    1\n",
              "Quebec   Blainville              1\n",
              "         Chambly                 1\n",
              "         Laval                   1\n",
              "         Montreal               16\n",
              "         Quebec (QC)             1\n",
              "         Saint Laurent           1\n",
              "         Sherbrooke              1\n",
              "Name: company_id, dtype: int64"
            ]
          },
          "metadata": {},
          "execution_count": 90
        }
      ]
    },
    {
      "cell_type": "markdown",
      "source": [
        "---\n",
        "In the following chunk of code, we do some descriptive analysis of the metadata `overall_score` that is a score assign to each company by the BCorp organization. The highest is the score the more virtuous is the company"
      ],
      "metadata": {
        "id": "RKhqXDKTzkhg"
      }
    },
    {
      "cell_type": "markdown",
      "source": [
        "We get the mean of the `overall_score` grouping by the sector.\n"
      ],
      "metadata": {
        "id": "2y4Jv6wUqwFQ"
      }
    },
    {
      "cell_type": "code",
      "source": [
        "# groupby() execute the grouping step and .mean() is the function to average \n",
        "df_data_bcorp.groupby(['sector'])['overall_score'].mean()"
      ],
      "metadata": {
        "id": "aldDZhJ_lodG",
        "colab": {
          "base_uri": "https://localhost:8080/"
        },
        "outputId": "04066782-0719-497f-953b-be46ab1b2859"
      },
      "execution_count": 39,
      "outputs": [
        {
          "output_type": "execute_result",
          "data": {
            "text/plain": [
              "sector\n",
              "Agriculture/Growers                                 96.863333\n",
              "Manufacturing                                       94.621622\n",
              "Service                                             88.900000\n",
              "Service with Minor Environmental Footprint          97.692409\n",
              "Service with Significant Environmental Footprint    94.574747\n",
              "Wholesale/Retail                                    92.618468\n",
              "Name: overall_score, dtype: float64"
            ]
          },
          "metadata": {},
          "execution_count": 39
        }
      ]
    },
    {
      "cell_type": "markdown",
      "source": [
        "---\n",
        "In the next chunk of code, we create a box plot for each sector based on the `overall_score`."
      ],
      "metadata": {
        "id": "vjiTcy-t2_bm"
      }
    },
    {
      "cell_type": "code",
      "source": [
        "df_data_bcorp.boxplot('overall_score', by='sector', figsize=(24, 8))"
      ],
      "metadata": {
        "id": "BcjCQe-k4TsC",
        "outputId": "84a84594-8462-4180-da2f-a6e72b1f28cb",
        "colab": {
          "base_uri": "https://localhost:8080/",
          "height": 500
        }
      },
      "execution_count": 119,
      "outputs": [
        {
          "output_type": "stream",
          "name": "stderr",
          "text": [
            "/usr/local/lib/python3.7/dist-packages/matplotlib/cbook/__init__.py:1376: VisibleDeprecationWarning: Creating an ndarray from ragged nested sequences (which is a list-or-tuple of lists-or-tuples-or ndarrays with different lengths or shapes) is deprecated. If you meant to do this, you must specify 'dtype=object' when creating the ndarray.\n",
            "  X = np.atleast_1d(X.T if isinstance(X, np.ndarray) else np.asarray(X))\n"
          ]
        },
        {
          "output_type": "execute_result",
          "data": {
            "text/plain": [
              "<matplotlib.axes._subplots.AxesSubplot at 0x7f86867cc110>"
            ]
          },
          "metadata": {},
          "execution_count": 119
        },
        {
          "output_type": "display_data",
          "data": {
            "text/plain": [
              "<Figure size 1728x576 with 1 Axes>"
            ],
            "image/png": "[encoded data removed]"
          },
          "metadata": {
            "needs_background": "light"
          }
        }
      ]
    },
    {
      "cell_type": "markdown",
      "source": [
        "---\n",
        "We calculate the average of the `overall_score` of companies that we have in Canada grouping by the state"
      ],
      "metadata": {
        "id": "GC2nFFBJrJxY"
      }
    },
    {
      "cell_type": "code",
      "source": [
        "# df_data_bcorp[df_data_bcorp['country'] == 'Canada'] this part of code allow to select rows which have values 'Canada' in column 'country'\n",
        "df_data_bcorp[df_data_bcorp['country'] == 'Canada'].groupby(['state'])['overall_score'].mean()"
      ],
      "metadata": {
        "id": "zoeGASGXXAiM",
        "outputId": "d555085a-fa13-4808-df0d-147154ed6f62",
        "colab": {
          "base_uri": "https://localhost:8080/"
        }
      },
      "execution_count": 40,
      "outputs": [
        {
          "output_type": "execute_result",
          "data": {
            "text/plain": [
              "state\n",
              "Alberta                      100.094444\n",
              "British Columbia              98.853333\n",
              "Manitoba                      93.600000\n",
              "New Brunswick                 92.083333\n",
              "Newfoundland and Labrador    105.800000\n",
              "Nova Scotia                   97.280000\n",
              "Ontario                      100.915190\n",
              "Quebec                        89.768182\n",
              "Saskatchewan                  85.000000\n",
              "Yukon                        103.900000\n",
              "Name: overall_score, dtype: float64"
            ]
          },
          "metadata": {},
          "execution_count": 40
        }
      ]
    },
    {
      "cell_type": "markdown",
      "source": [
        "---\n",
        "Compare two values of a variable. i.e., two different industries of the column `industry`"
      ],
      "metadata": {
        "id": "kylMSdANsHnI"
      }
    },
    {
      "cell_type": "code",
      "source": [
        "# Selecting the industry sector to examine\n",
        "lst_states = [\"Ontario\", \"Quebec\", \"Alberta\"]\n",
        "###### Setting the parameters of the graph to plot\n",
        "for state_ in lst_states:\n",
        "  # Create a subset with the two sectors\n",
        "  subset = df_data_bcorp[df_data_bcorp['state'] == state_]\n",
        "  sns.distplot(subset['overall_score'], hist=False, kde=True, kde_kws={'linewidth': 3}, label = state_)\n",
        "## Plotting the graph of the two industry sectors under exam\n",
        "plt.legend(prop={'size': 9}, title='Sector')\n",
        "plt.title('Density Plot')\n",
        "plt.xlabel('Overall_score', size=12)\n",
        "plt.ylabel('Density', size=12)\n",
        "plt.xlim(0, 200)\n",
        "plt.gcf().set_size_inches(12, 8)\n",
        "plt.show()"
      ],
      "metadata": {
        "id": "0P-o_7lf1QfP",
        "colab": {
          "base_uri": "https://localhost:8080/",
          "height": 643
        },
        "outputId": "c61eaba4-fff4-4184-c1fd-e20e692a38cb"
      },
      "execution_count": 111,
      "outputs": [
        {
          "output_type": "stream",
          "name": "stderr",
          "text": [
            "/usr/local/lib/python3.7/dist-packages/seaborn/distributions.py:2619: FutureWarning: `distplot` is a deprecated function and will be removed in a future version. Please adapt your code to use either `displot` (a figure-level function with similar flexibility) or `kdeplot` (an axes-level function for kernel density plots).\n",
            "  warnings.warn(msg, FutureWarning)\n",
            "/usr/local/lib/python3.7/dist-packages/seaborn/distributions.py:2619: FutureWarning: `distplot` is a deprecated function and will be removed in a future version. Please adapt your code to use either `displot` (a figure-level function with similar flexibility) or `kdeplot` (an axes-level function for kernel density plots).\n",
            "  warnings.warn(msg, FutureWarning)\n",
            "/usr/local/lib/python3.7/dist-packages/seaborn/distributions.py:2619: FutureWarning: `distplot` is a deprecated function and will be removed in a future version. Please adapt your code to use either `displot` (a figure-level function with similar flexibility) or `kdeplot` (an axes-level function for kernel density plots).\n",
            "  warnings.warn(msg, FutureWarning)\n"
          ]
        },
        {
          "output_type": "display_data",
          "data": {
            "text/plain": [
              "<Figure size 864x576 with 1 Axes>"
            ],
            "image/png": "[encoded data removed]"
          },
          "metadata": {
            "needs_background": "light"
          }
        }
      ]
    },
    {
      "cell_type": "markdown",
      "source": [
        "## 2.2 Textual data"
      ],
      "metadata": {
        "id": "NkMeBy_FmvCJ"
      }
    },
    {
      "cell_type": "markdown",
      "source": [
        "In this section, we extract the word frequency from the cleaned web pages and we illustrate them through the wordcloud\n",
        "\n"
      ],
      "metadata": {
        "id": "f-cbYZiO477h"
      }
    },
    {
      "cell_type": "markdown",
      "source": [
        "---\n",
        "In the next chunk of code, we need to execute some intermediate operations to prepare data. Essentially, we compute total frequencies of words using the simple frequency weighting, which is stored in the `freq_term_DTM` matrix. "
      ],
      "metadata": {
        "id": "nci1xraEa9U-"
      }
    },
    {
      "cell_type": "code",
      "source": [
        "# get vocabulary\n",
        "vocab = vectorized.vocabulary_\n",
        "# compute the word frequency using freq_term_DTM\n",
        "data_WC = prepare_data_for_WC(freq_term_DTM, # Fill with the DTM\n",
        "                              vocab # Fill with the vocabulary from the vectorized\n",
        "                              )"
      ],
      "metadata": {
        "id": "FMmI4sX_711B"
      },
      "execution_count": 42,
      "outputs": []
    },
    {
      "cell_type": "markdown",
      "source": [
        "---\n",
        "Then, we generate the plot by using the result of the previous chunk, which was stored into the variable named `data_WC`."
      ],
      "metadata": {
        "id": "6CSnV3ou6Xwz"
      }
    },
    {
      "cell_type": "code",
      "source": [
        "# Create and generate a word cloud image:\n",
        "wordcloud = WordCloud().generate_from_frequencies(data_WC)\n",
        "# Display the generated image:\n",
        "plt.imshow(wordcloud, interpolation='bilinear')\n",
        "plt.axis(\"off\")\n",
        "plt.show()"
      ],
      "metadata": {
        "id": "HEJ_7ToIdYwo",
        "colab": {
          "base_uri": "https://localhost:8080/",
          "height": 198
        },
        "outputId": "8ecc22b3-55e3-4bb6-cab1-8be43bf8a7ad"
      },
      "execution_count": 43,
      "outputs": [
        {
          "output_type": "display_data",
          "data": {
            "text/plain": [
              "<Figure size 432x288 with 1 Axes>"
            ],
            "image/png": "[encoded data removed]"
          },
          "metadata": {
            "needs_background": "light"
          }
        }
      ]
    },
    {
      "cell_type": "markdown",
      "source": [
        "---\n",
        "Below, we show the wordcloud considering a specific industry."
      ],
      "metadata": {
        "id": "kIzdPakpceoQ"
      }
    },
    {
      "cell_type": "code",
      "source": [
        "vocab = vectorized.vocabulary_\n",
        "# select some rows according to the index corresponding to companies in a specific industry\n",
        "selected_index = df_data_bcorp[df_data_bcorp['industry'] == 'Marketing & Communications Services'].index\n",
        "selected_DTM = freq_term_DTM[selected_index]\n",
        "## Create and generate a word cloud image\n",
        "data_WC = prepare_data_for_WC(selected_DTM, vocab)\n",
        "wordcloud = WordCloud().generate_from_frequencies(data_WC)\n",
        "# Display the generated image\n",
        "plt.imshow(wordcloud, interpolation='bilinear')\n",
        "plt.figsize=(12, 10)\n",
        "plt.axis(\"off\")\n",
        "plt.show()"
      ],
      "metadata": {
        "id": "s_xIFZdv9bsS",
        "colab": {
          "base_uri": "https://localhost:8080/",
          "height": 198
        },
        "outputId": "45269534-04aa-4243-d771-03efca139ce6"
      },
      "execution_count": 44,
      "outputs": [
        {
          "output_type": "display_data",
          "data": {
            "text/plain": [
              "<Figure size 432x288 with 1 Axes>"
            ],
            "image/png": "[encoded data removed]"
          },
          "metadata": {
            "needs_background": "light"
          }
        }
      ]
    },
    {
      "cell_type": "markdown",
      "source": [
        "In the following chunk of code, we compute the total number of words contained in each company's `text_cleaned` column, and we show the differences between sectors."
      ],
      "metadata": {
        "id": "UJjmFznSYxbh"
      }
    },
    {
      "cell_type": "code",
      "source": [
        "# Creating a new column 'number_words_webpages' with the number of words for each article generated with the \"apply\" function apply the len to all the column   \n",
        "df_data_bcorp['number_words_webpages'] = df_data_bcorp[\"text_cleaned\"].apply(len)"
      ],
      "metadata": {
        "id": "PnywKacd4HJG"
      },
      "execution_count": 46,
      "outputs": []
    },
    {
      "cell_type": "markdown",
      "source": [
        "Execute code for plotting."
      ],
      "metadata": {
        "id": "kF-LjVu64KqP"
      }
    },
    {
      "cell_type": "code",
      "source": [
        "# Setting the parameters of the graph that we will plot below\n",
        "for sector in df_data_bcorp.sector.unique():\n",
        "  # Create a subset for each sector\n",
        "  subset = df_data_bcorp[df_data_bcorp.sector == sector]\n",
        "  sns.distplot(subset['number_words_webpages'],\n",
        "               hist=False,# Boolean value to plot a (normed) histogram.\n",
        "               kde=True, # Boolean value to plot a gaussian kernel density estimate\n",
        "               kde_kws={'linewidth': 3},\n",
        "               label=sector)\n",
        "# Plot the graph with the distribution of the number of words for each webpage in the different sectors\n",
        "plt.legend(prop={'size': 9}, title='Sector')\n",
        "plt.title('Density Plot for Each Sector')\n",
        "plt.xlabel('Number of words per webpage', size=12)\n",
        "plt.ylabel('Density', size=12)\n",
        "plt.xlim(0, 1500)\n",
        "plt.gcf().set_size_inches(8, 6)\n",
        "plt.show()"
      ],
      "metadata": {
        "id": "nJ0UUOFfYuN1",
        "colab": {
          "base_uri": "https://localhost:8080/",
          "height": 641
        },
        "outputId": "14d587f2-e2c3-487c-b721-e408b4dd21b2"
      },
      "execution_count": 110,
      "outputs": [
        {
          "output_type": "stream",
          "name": "stderr",
          "text": [
            "/usr/local/lib/python3.7/dist-packages/seaborn/distributions.py:2619: FutureWarning: `distplot` is a deprecated function and will be removed in a future version. Please adapt your code to use either `displot` (a figure-level function with similar flexibility) or `kdeplot` (an axes-level function for kernel density plots).\n",
            "  warnings.warn(msg, FutureWarning)\n",
            "/usr/local/lib/python3.7/dist-packages/seaborn/distributions.py:2619: FutureWarning: `distplot` is a deprecated function and will be removed in a future version. Please adapt your code to use either `displot` (a figure-level function with similar flexibility) or `kdeplot` (an axes-level function for kernel density plots).\n",
            "  warnings.warn(msg, FutureWarning)\n",
            "/usr/local/lib/python3.7/dist-packages/seaborn/distributions.py:2619: FutureWarning: `distplot` is a deprecated function and will be removed in a future version. Please adapt your code to use either `displot` (a figure-level function with similar flexibility) or `kdeplot` (an axes-level function for kernel density plots).\n",
            "  warnings.warn(msg, FutureWarning)\n",
            "/usr/local/lib/python3.7/dist-packages/seaborn/distributions.py:2619: FutureWarning: `distplot` is a deprecated function and will be removed in a future version. Please adapt your code to use either `displot` (a figure-level function with similar flexibility) or `kdeplot` (an axes-level function for kernel density plots).\n",
            "  warnings.warn(msg, FutureWarning)\n",
            "/usr/local/lib/python3.7/dist-packages/seaborn/distributions.py:2619: FutureWarning: `distplot` is a deprecated function and will be removed in a future version. Please adapt your code to use either `displot` (a figure-level function with similar flexibility) or `kdeplot` (an axes-level function for kernel density plots).\n",
            "  warnings.warn(msg, FutureWarning)\n",
            "/usr/local/lib/python3.7/dist-packages/seaborn/distributions.py:2619: FutureWarning: `distplot` is a deprecated function and will be removed in a future version. Please adapt your code to use either `displot` (a figure-level function with similar flexibility) or `kdeplot` (an axes-level function for kernel density plots).\n",
            "  warnings.warn(msg, FutureWarning)\n"
          ]
        },
        {
          "output_type": "display_data",
          "data": {
            "text/plain": [
              "<Figure size 576x432 with 1 Axes>"
            ],
            "image/png": "[encoded data removed]"
          },
          "metadata": {
            "needs_background": "light"
          }
        }
      ]
    },
    {
      "cell_type": "markdown",
      "source": [
        "Here, we execute  the same operation but considering the `country` and a specific `sector`."
      ],
      "metadata": {
        "id": "KO9_7D11w1Zy"
      }
    },
    {
      "cell_type": "code",
      "source": [
        "# Selecting the sector to represent in the plot\n",
        "sector_to_look = \"Agriculture/Growers\"\n",
        "data_MEF = df_data_bcorp[df_data_bcorp['sector']==sector_to_look]\n",
        "\n",
        "for country in data_MEF.country.unique():\n",
        "  # Create a subset with the different countries\n",
        "  subset = data_MEF[data_MEF.country == country]\n",
        "  sns.distplot(subset['number_words_webpages'], \n",
        "               hist=False, \n",
        "               kde=True, \n",
        "               kde_kws={'linewidth': 3}, \n",
        "               label=country)\n",
        "# Plot the graph highlighting the differences between the countries of the selected sector\n",
        "plt.legend(prop={'size': 14}, title='Country')\n",
        "plt.title(f'Density Plot for {sector_to_look} by country')\n",
        "plt.xlabel('Number of words per webpage', size=12)\n",
        "plt.ylabel('Density', size=12)\n",
        "plt.xlim(0, 800)\n",
        "plt.gcf().set_size_inches(8, 6)\n",
        "plt.show()"
      ],
      "metadata": {
        "id": "8hadxGPGXu99",
        "colab": {
          "base_uri": "https://localhost:8080/",
          "height": 498
        },
        "outputId": "2923a54a-2288-4121-b6a8-4489bd160ff3"
      },
      "execution_count": 109,
      "outputs": [
        {
          "output_type": "stream",
          "name": "stderr",
          "text": [
            "/usr/local/lib/python3.7/dist-packages/seaborn/distributions.py:2619: FutureWarning: `distplot` is a deprecated function and will be removed in a future version. Please adapt your code to use either `displot` (a figure-level function with similar flexibility) or `kdeplot` (an axes-level function for kernel density plots).\n",
            "  warnings.warn(msg, FutureWarning)\n",
            "/usr/local/lib/python3.7/dist-packages/seaborn/distributions.py:2619: FutureWarning: `distplot` is a deprecated function and will be removed in a future version. Please adapt your code to use either `displot` (a figure-level function with similar flexibility) or `kdeplot` (an axes-level function for kernel density plots).\n",
            "  warnings.warn(msg, FutureWarning)\n"
          ]
        },
        {
          "output_type": "display_data",
          "data": {
            "text/plain": [
              "<Figure size 576x432 with 1 Axes>"
            ],
            "image/png": "[encoded data removed]"
          },
          "metadata": {
            "needs_background": "light"
          }
        }
      ]
    },
    {
      "cell_type": "markdown",
      "metadata": {
        "id": "coHj_8ZazkCY"
      },
      "source": [
        "<a id=\"analysis\"></a>\n",
        "# Section 3: Analysis \n",
        "\n",
        "In this section, we run the *k-means* cluster algorithm on the dataset."
      ]
    },
    {
      "cell_type": "markdown",
      "source": [
        "## 3.1 Document clustering\n"
      ],
      "metadata": {
        "id": "dmlBLX-HQlCF"
      }
    },
    {
      "cell_type": "markdown",
      "source": [
        "As mentioned in section 1, the goal of the *k-means* cluster is to group rows in a homogeneous set of clusters minimizing the pairwise squared deviations of the data points in the same cluster. Below, an example of a *k-means* clusters with *k* = 5\n",
        "\n",
        "![k_mean_cluster.png](data:image/png;base64,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)\n",
        "\n",
        "(https://www.ml-science.com/k-means-clustering)\n"
      ],
      "metadata": {
        "id": "LfJmHL6KdA55"
      }
    },
    {
      "cell_type": "markdown",
      "source": [
        "In the chuck below, we execute the <font color = 'E3A440'>clustering algorithm</font> on the Tf-IDF matrix (`tfidf_DTM`), choosing `n_clusters`\n",
        " = `20` to generate 20 clusters. "
      ],
      "metadata": {
        "id": "WD3qeGa8yuZM"
      }
    },
    {
      "cell_type": "code",
      "source": [
        "result_kmeans = Clustering_kmeans(DTM = tfidf_DTM, # Matrice to pass under sklearn classifiers\n",
        "                               reduce_lsa = True,# a SVD is executed on the DTM before to execute the clustering\n",
        "                               n_comp_lsa= 300,# Number of component to keep after SVD on DTM.\n",
        "                               n_clusters = 20,# Number of cluster represented in the plot\n",
        "                               random_state = 8426, # Determines random number generation for centroid initialization\n",
        "                               max_iter = 1000, #Maximum number of iterations of the k-means algorithm for a single run\n",
        "                               n_init = 100,# Number of time the k-means algorithm will be run with different centroid seeds\n",
        "                               tol = 0.0001,# Relative tolerance with regards to Frobenius norm of the difference in the cluster centers of two consecutive iterations to declare convergence\n",
        "                               init = \"k-means++\")# selects initial cluster centers for k-mean clustering in a smart way to speed up convergence"
      ],
      "metadata": {
        "id": "5f-NGOycjFVS",
        "colab": {
          "base_uri": "https://localhost:8080/"
        },
        "outputId": "09c338d9-8572-4862-b97a-838af4ba5123"
      },
      "execution_count": 67,
      "outputs": [
        {
          "output_type": "stream",
          "name": "stdout",
          "text": [
            "Explained variance of the SVD step: 74%\n",
            "For n_clusters = 20;\t The silhouette_avg is : 0.0303365\n"
          ]
        }
      ]
    },
    {
      "cell_type": "markdown",
      "source": [
        "Count the number of documents for each cluster. Labels for clusters goes from `0` to *n*. In this case, form `0` to `19` (beause we have generated 20 clusters)."
      ],
      "metadata": {
        "id": "Q1_zbLVizeh0"
      }
    },
    {
      "cell_type": "code",
      "source": [
        "# Count the Number of Occurrences in a Python list using Counter\n",
        "from collections import Counter\n",
        "Counter(result_kmeans.labels_)"
      ],
      "metadata": {
        "id": "eZETT6-XplUh",
        "colab": {
          "base_uri": "https://localhost:8080/"
        },
        "outputId": "08d9afb1-2a11-435b-8b86-d16c026c7ff4"
      },
      "execution_count": 112,
      "outputs": [
        {
          "output_type": "execute_result",
          "data": {
            "text/plain": [
              "Counter({0: 66,\n",
              "         1: 49,\n",
              "         2: 98,\n",
              "         3: 40,\n",
              "         4: 66,\n",
              "         5: 27,\n",
              "         6: 68,\n",
              "         7: 30,\n",
              "         8: 24,\n",
              "         9: 63,\n",
              "         10: 19,\n",
              "         11: 19,\n",
              "         12: 67,\n",
              "         13: 27,\n",
              "         14: 23,\n",
              "         15: 42,\n",
              "         16: 38,\n",
              "         17: 239,\n",
              "         18: 34,\n",
              "         19: 71})"
            ]
          },
          "metadata": {},
          "execution_count": 112
        }
      ]
    },
    {
      "cell_type": "markdown",
      "source": [
        "## 3.2 Plot data grouped by clusters"
      ],
      "metadata": {
        "id": "xrZcx8ugkvlA"
      }
    },
    {
      "cell_type": "markdown",
      "source": [
        "In this subsection, we plot the result of the clustering in a 2D representation for a first look at our dataset and the partition."
      ],
      "metadata": {
        "id": "IU_3NTXadm0x"
      }
    },
    {
      "cell_type": "code",
      "source": [
        "plot_data_by_cluster(DTM = tfidf_DTM,\n",
        "                     cls_kmeans = result_kmeans,\n",
        "                     figsize = (16,10))"
      ],
      "metadata": {
        "id": "jjyNGiU8fJJj",
        "outputId": "439d8817-11ca-49dd-a0d1-1b3dd3664630",
        "colab": {
          "base_uri": "https://localhost:8080/",
          "height": 858
        }
      },
      "execution_count": 113,
      "outputs": [
        {
          "output_type": "stream",
          "name": "stderr",
          "text": [
            "/usr/local/lib/python3.7/dist-packages/sklearn/manifold/_t_sne.py:783: FutureWarning: The default initialization in TSNE will change from 'random' to 'pca' in 1.2.\n",
            "  FutureWarning,\n",
            "/usr/local/lib/python3.7/dist-packages/sklearn/manifold/_t_sne.py:827: FutureWarning: 'square_distances' has been introduced in 0.24 to help phase out legacy squaring behavior. The 'legacy' setting will be removed in 1.1 (renaming of 0.26), and the default setting will be changed to True. In 1.3, 'square_distances' will be removed altogether, and distances will be squared by default. Set 'square_distances'=True to silence this warning.\n",
            "  FutureWarning,\n"
          ]
        },
        {
          "output_type": "stream",
          "name": "stdout",
          "text": [
            "[t-SNE] Computing 91 nearest neighbors...\n",
            "[t-SNE] Indexed 1110 samples in 0.002s...\n",
            "[t-SNE] Computed neighbors for 1110 samples in 0.084s...\n",
            "[t-SNE] Computed conditional probabilities for sample 1000 / 1110\n",
            "[t-SNE] Computed conditional probabilities for sample 1110 / 1110\n",
            "[t-SNE] Mean sigma: 0.186202\n",
            "[t-SNE] KL divergence after 50 iterations with early exaggeration: 70.276031\n",
            "[t-SNE] KL divergence after 1000 iterations: 1.726095\n",
            "t-SNE done! Time elapsed: 6.118255853652954 seconds\n"
          ]
        },
        {
          "output_type": "display_data",
          "data": {
            "text/plain": [
              "<Figure size 1152x720 with 1 Axes>"
            ],
            "image/png": "[encoded data removed]"
          },
          "metadata": {
            "needs_background": "light"
          }
        }
      ]
    },
    {
      "cell_type": "markdown",
      "source": [
        "## 3.3 Wordcloud by cluster\n",
        "\n",
        "We use Tf-IDF weights to plot the <font color = 'E3A440'>most important words</font> for each cluster.\n",
        "\n",
        "To plot wordclouds images, switch to `True` the argument `plot_wordcloud` of the function in next chunk. \n",
        "\n",
        "If you want to look at a subset of cluster, put the labels of cluster into the empty list at the argument `lst_clust` (i.e., `lst_clust = [0, 5]`)"
      ],
      "metadata": {
        "id": "2TSBo--psyda"
      }
    },
    {
      "cell_type": "code",
      "source": [
        "wordcloud_par_cluster(wordcloud = WordCloud(), # WordCloud function. \n",
        "                      DTM = tfidf_DTM,# Document-Term Matrix \n",
        "                      cls_kmeans = result_kmeans, # Insert the result of a kmeans clustering\n",
        "                      vocab = vectorized.vocabulary_, # a vocabulary from scikitlearn vectorizer\n",
        "                      first_n_words=10,#  It indicates how many words to print\n",
        "                      figsize=(12, 10),\n",
        "                      fontsize=32,\n",
        "                      plot_wordcloud = False, # Switch to True if you want to plot wordclouds\n",
        "                      lst_clust = [], # Insert a list of integer to get info about a selected number of cluster. It shows info of all the clustrs if empty list\n",
        "                      title_in_plot = \"Clust_\")"
      ],
      "metadata": {
        "id": "40mECfJP4TK7",
        "outputId": "e91f5165-a7e8-4218-9285-93e48208ed3d",
        "colab": {
          "base_uri": "https://localhost:8080/"
        }
      },
      "execution_count": 114,
      "outputs": [
        {
          "output_type": "stream",
          "name": "stdout",
          "text": [
            "Most frequent words for cluster 0 of size 66 docs:  ['investment', 'financial', 'investor', 'client', 'value', 'management', 'invest', 'firm', 'investing', 'service']\n",
            "Most frequent words for cluster 1 of size 49 docs:  ['brand', 'agency', 'people', 'build', 'story', 'business', 'creative', 'organization', 'world', 'client']\n",
            "Most frequent words for cluster 2 of size 98 docs:  ['wine', 'water', 'people', 'product', 'use', 'world', 'good', 'year', 'plastic', 'experience']\n",
            "Most frequent words for cluster 3 of size 40 docs:  ['leader', 'leadership', 'organization', 'business', 'people', 'team', 'change', 'development', 'lead', 'coach']\n",
            "Most frequent words for cluster 4 of size 66 docs:  ['impact', 'community', 'organization', 'program', 'business', 'company', 'create', 'solution', 'diversity', 'learn']\n",
            "Most frequent words for cluster 5 of size 27 docs:  ['solar', 'energy', 'installation', 'panel', 'system', 'home', 'power', 'customer', 'renewable', 'clean']\n",
            "Most frequent words for cluster 6 of size 68 docs:  ['team', 'service', 'client', 'project', 'business', 'provide', 'firm', 'energy', 'company', 'need']\n",
            "Most frequent words for cluster 7 of size 30 docs:  ['marketing', 'digital', 'agency', 'strategy', 'seo', 'brand', 'campaign', 'content', 'team', 'medium']\n",
            "Most frequent words for cluster 8 of size 24 docs:  ['coffee', 'roast', 'roaster', 'trade', 'farmer', 'organic', 'specialty', 'origin', 'fair', 'good']\n",
            "Most frequent words for cluster 9 of size 63 docs:  ['product', 'natural', 'use', 'ingredient', 'skin', 'hair', 'organic', 'plant', 'care', 'healthy']\n",
            "Most frequent words for cluster 10 of size 19 docs:  ['beer', 'brewery', 'hop', 'community', 'local', 'art', 'food', 'live', 'craft', 'land']\n",
            "Most frequent words for cluster 11 of size 19 docs:  ['home', 'service', 'vision', 'contact', 'inspire', 'design', 'care', 'homeowner', 'healthy', 'energy']\n",
            "Most frequent words for cluster 12 of size 67 docs:  ['datum', 'technology', 'software', 'use', 'organization', 'web', 'solution', 'team', 'application', 'system']\n",
            "Most frequent words for cluster 13 of size 27 docs:  ['sustainability', 'business', 'carbon', 'climate', 'emission', 'corporate', 'reduce', 'company', 'action', 'program']\n",
            "Most frequent words for cluster 14 of size 23 docs:  ['health', 'care', 'treatment', 'mental', 'addiction', 'patient', 'disease', 'dental', 'service', 'employee']\n",
            "Most frequent words for cluster 15 of size 42 docs:  ['social', 'business', 'environmental', 'impact', 'purpose', 'good', 'organization', 'accountability', 'standard', 'drive']\n",
            "Most frequent words for cluster 16 of size 38 docs:  ['student', 'school', 'education', 'program', 'class', 'online', 'support', 'learning', 'university', 'skill']\n",
            "Most frequent words for cluster 17 of size 239 docs:  ['product', 'new', 'first', 'email', 'order', 'free', 'good', 'gift', 'design', 'sign']\n",
            "Most frequent words for cluster 18 of size 34 docs:  ['money', 'insurance', 'account', 'loan', 'call', 'financial', 'information', 'banking', 'access', 'service']\n",
            "Most frequent words for cluster 19 of size 71 docs:  ['food', 'organic', 'eat', 'ingredient', 'good', 'delicious', 'healthy', 'farmer', 'farm', 'flavor']\n"
          ]
        }
      ]
    },
    {
      "cell_type": "markdown",
      "source": [
        "## 3.4 Statistics for Lexical Keyness\n"
      ],
      "metadata": {
        "id": "6Thb9kfIO6mH"
      }
    },
    {
      "cell_type": "markdown",
      "source": [
        "A complementary analysis of the sum of Tf-IDF weights is <font color='f28c00'>keyness</font>.  This analysis gives the statistical significance of a keyword's frequency, in a given corpus, relative to a reference corpus.\n",
        "\n",
        "In our case, we compare all the words of the documents of a cluster against the other docuemnts of the corpus. The Log-likelihood Ratio return the lexical specificity of the word for the target cluster. \n",
        "\n",
        "Keyness is generally sensitive to low frequency. For this reason we can also sort Log-likelihood Ratio after having removed words with low frequency.\n",
        "\n",
        "A short description of the method is accessible [here](https://alvinntnu.github.io/NTNU_ENC2036_LECTURES/keyword-analysis.html#statistics-for-keyness)."
      ],
      "metadata": {
        "id": "QdOjyAwQN1bW"
      }
    },
    {
      "cell_type": "code",
      "source": [
        "df_keyness = lexical_keyness(DTM = freq_term_DTM, # DTM\n",
        "                             cls_kmeans = result_kmeans, # Fill with the result of a kmeans clustering\n",
        "                             vocabulary_vectorize = vectorized.vocabulary_, # \n",
        "                             n_cluster = 13) # Number of cluster for which look at the keyness of words\n",
        "# Belowe we choose a frequency threshold to reduce words having low frequency\n",
        "frequency_threshold = 10 # Insert your frequency threshold as integer\n",
        "df_keyness[df_keyness['tot'] > frequency_threshold]['Log-likelihood Ratio'].sort_values(ascending=False)"
      ],
      "metadata": {
        "id": "FeoqohmFdSIW",
        "colab": {
          "base_uri": "https://localhost:8080/"
        },
        "outputId": "e33e7395-f415-4e28-b079-429b18a5d699"
      },
      "execution_count": null,
      "outputs": [
        {
          "output_type": "execute_result",
          "data": {
            "text/plain": [
              "reduction          5.221001\n",
              "emission           4.893726\n",
              "sustainability     4.686883\n",
              "greenhouse         4.544472\n",
              "forest             4.462009\n",
              "                    ...    \n",
              "education        -25.131337\n",
              "mean             -25.140215\n",
              "always           -25.183805\n",
              "website          -25.299282\n",
              "healthy          -25.383944\n",
              "Name: Log-likelihood Ratio, Length: 2063, dtype: float64"
            ]
          },
          "metadata": {},
          "execution_count": 35
        }
      ]
    },
    {
      "cell_type": "markdown",
      "source": [
        "## 3.5 Cross-Analysis of the cluster results with the metadata\n",
        "\n",
        "We can use <font color = 'E3A440'>metadata</font> to explore clusters created by the Kmeans. \n",
        "\n",
        "In this subsection, we analyze the `overall_score` and the `sector` of the companies for each cluster. "
      ],
      "metadata": {
        "id": "PQgWZQPvzdBQ"
      }
    },
    {
      "cell_type": "markdown",
      "source": [
        "In the chunk below, we prepare data for analysis, by assigning clustering labels to each row in our original dataset. "
      ],
      "metadata": {
        "id": "2ol9xFY9d4VF"
      }
    },
    {
      "cell_type": "code",
      "source": [
        "# Create a new column to assign to each company the corresponding cluster\n",
        "df_data_bcorp['cluster_labels'] = result_kmeans.labels_"
      ],
      "metadata": {
        "id": "kTKKy_0x2ExY"
      },
      "execution_count": 115,
      "outputs": []
    },
    {
      "cell_type": "markdown",
      "source": [
        "---\n",
        "The following chunk of code calculates the mean of the `overall_score` of a specific cluster  (i.e, cluster number 10)"
      ],
      "metadata": {
        "id": "V8o9pdVL08X-"
      }
    },
    {
      "cell_type": "code",
      "source": [
        "# We compute the .mean() of the `overall_score`for cluster 10\n",
        "n_cluster = 10 # choose the number of cluster\n",
        "df_data_bcorp.loc[result_kmeans.labels_== n_cluster, 'overall_score'].mean()"
      ],
      "metadata": {
        "id": "zDTXpUcfzcGZ",
        "colab": {
          "base_uri": "https://localhost:8080/"
        },
        "outputId": "b6cead11-fdac-427c-b455-f3854650bbb3"
      },
      "execution_count": 117,
      "outputs": [
        {
          "output_type": "execute_result",
          "data": {
            "text/plain": [
              "99.26842105263158"
            ]
          },
          "metadata": {},
          "execution_count": 117
        }
      ]
    },
    {
      "cell_type": "markdown",
      "source": [
        "---\n",
        "The chunk of code below creates a box plot based on the `overall_score` for each cluster"
      ],
      "metadata": {
        "id": "LPsKYbsX1bIu"
      }
    },
    {
      "cell_type": "code",
      "source": [
        "df_data_bcorp.boxplot('overall_score', by='cluster_labels', figsize=(12, 8))"
      ],
      "metadata": {
        "id": "nzR1HpCL11ZQ",
        "outputId": "8b008f3d-6662-433b-f26a-60a7e03e1e3c",
        "colab": {
          "base_uri": "https://localhost:8080/",
          "height": 614
        }
      },
      "execution_count": 118,
      "outputs": [
        {
          "output_type": "stream",
          "name": "stderr",
          "text": [
            "/usr/local/lib/python3.7/dist-packages/matplotlib/cbook/__init__.py:1376: VisibleDeprecationWarning: Creating an ndarray from ragged nested sequences (which is a list-or-tuple of lists-or-tuples-or ndarrays with different lengths or shapes) is deprecated. If you meant to do this, you must specify 'dtype=object' when creating the ndarray.\n",
            "  X = np.atleast_1d(X.T if isinstance(X, np.ndarray) else np.asarray(X))\n"
          ]
        },
        {
          "output_type": "execute_result",
          "data": {
            "text/plain": [
              "<matplotlib.axes._subplots.AxesSubplot at 0x7f868d19acd0>"
            ]
          },
          "metadata": {},
          "execution_count": 118
        },
        {
          "output_type": "display_data",
          "data": {
            "text/plain": [
              "<Figure size 864x576 with 1 Axes>"
            ],
            "image/png": "[encoded data removed]"
          },
          "metadata": {
            "needs_background": "light"
          }
        }
      ]
    },
    {
      "cell_type": "markdown",
      "source": [
        "---\n",
        "Then, we calculate the mean of the `overall_score` for each cluster"
      ],
      "metadata": {
        "id": "hq8fr0_d3UrK"
      }
    },
    {
      "cell_type": "code",
      "source": [
        "import numpy as np\n",
        "# Prepare data\n",
        "mean_score_cluster = df_data_bcorp[['cluster_labels','overall_score']].groupby('cluster_labels').mean()\n",
        "df_data_bcorp[['cluster_labels','overall_score']].groupby('cluster_labels')\n",
        "######Setting the parameters of the graph to plot\n",
        "sns.barplot(x=mean_score_cluster.index, y=mean_score_cluster[\"overall_score\"])\n",
        "##Plotting the graph of the two industry sector under exam\n",
        "plt.legend(prop={'size': 9}, title='Cluster')\n",
        "# plt.title('Density Plot for Each Author')\n",
        "plt.xlabel('Clusters', size=12)\n",
        "plt.ylabel('Overall_score', size=12)\n",
        "plt.figure(figsize=(12, 10))\n",
        "plt.show()"
      ],
      "metadata": {
        "id": "N4ODDj5rmqZV",
        "colab": {
          "base_uri": "https://localhost:8080/",
          "height": 318
        },
        "outputId": "a2b5a552-d443-4feb-8a6b-d5cbee77d7cf"
      },
      "execution_count": 120,
      "outputs": [
        {
          "output_type": "stream",
          "name": "stderr",
          "text": [
            "No handles with labels found to put in legend.\n"
          ]
        },
        {
          "output_type": "display_data",
          "data": {
            "text/plain": [
              "<Figure size 432x288 with 1 Axes>"
            ],
            "image/png": "[encoded data removed]"
          },
          "metadata": {
            "needs_background": "light"
          }
        },
        {
          "output_type": "display_data",
          "data": {
            "text/plain": [
              "<Figure size 864x720 with 0 Axes>"
            ]
          },
          "metadata": {}
        }
      ]
    },
    {
      "cell_type": "markdown",
      "source": [
        "---\n",
        "Here, we extract the median of the `overall_score` for each cluster"
      ],
      "metadata": {
        "id": "bkebNwsa2Jwv"
      }
    },
    {
      "cell_type": "code",
      "source": [
        "df_data_bcorp[['cluster_labels','overall_score']].groupby('cluster_labels').median()"
      ],
      "metadata": {
        "id": "m44iuBgk3zTB"
      },
      "execution_count": null,
      "outputs": []
    },
    {
      "cell_type": "markdown",
      "source": [
        "Here, we get general descriptive statistics with the method `.describe()`."
      ],
      "metadata": {
        "id": "_4Lf3J3DMxKA"
      }
    },
    {
      "cell_type": "code",
      "source": [
        "df_data_bcorp[['cluster_labels','overall_score']].groupby('cluster_labels').describe()"
      ],
      "metadata": {
        "id": "4_QIbub_MsJJ",
        "outputId": "35cb0c20-6ea8-466e-9583-5bfbefa44b27",
        "colab": {
          "base_uri": "https://localhost:8080/",
          "height": 739
        }
      },
      "execution_count": 124,
      "outputs": [
        {
          "output_type": "execute_result",
          "data": {
            "text/plain": [
              "               overall_score                                               \\\n",
              "                       count        mean        std   min     25%     50%   \n",
              "cluster_labels                                                              \n",
              "0                       66.0  105.198485  21.141025  80.3  89.700   97.20   \n",
              "1                       49.0   90.924490  11.081771  80.1  83.600   88.60   \n",
              "2                       98.0   92.076531  13.499094  80.1  82.100   87.30   \n",
              "3                       40.0   95.505000  14.553120  80.2  84.500   90.50   \n",
              "4                       66.0  103.403030  17.809867  80.6  88.200  100.30   \n",
              "5                       27.0   98.662963  15.916227  80.1  86.700   95.20   \n",
              "6                       68.0   93.814706  15.526533  80.0  82.825   88.60   \n",
              "7                       30.0   89.036667   8.797040  80.1  82.075   85.95   \n",
              "8                       24.0   93.812500  15.892036  80.3  82.275   89.10   \n",
              "9                       63.0   91.468254  11.319806  80.1  82.400   88.40   \n",
              "10                      19.0   99.268421  17.598771  80.2  82.950   97.70   \n",
              "11                      19.0   96.005263  22.447061  80.0  80.550   87.10   \n",
              "12                      67.0   96.676119  17.128322  80.0  81.950   90.30   \n",
              "13                      27.0  103.214815  17.583771  81.2  89.250   97.10   \n",
              "14                      23.0   93.660870  12.043359  80.0  81.700   93.80   \n",
              "15                      42.0   97.883333  17.623431  80.0  83.325   92.50   \n",
              "16                      38.0   93.752632  13.279505  80.3  84.675   88.75   \n",
              "17                     239.0   94.544770  14.111523  80.0  83.700   89.60   \n",
              "18                      34.0  103.732353  18.482633  80.1  88.375  103.20   \n",
              "19                      71.0   95.208451  17.685052  80.2  82.500   88.10   \n",
              "\n",
              "                                \n",
              "                    75%    max  \n",
              "cluster_labels                  \n",
              "0               119.975  162.7  \n",
              "1                93.000  129.4  \n",
              "2                97.100  141.9  \n",
              "3               100.225  128.7  \n",
              "4               115.275  154.7  \n",
              "5               103.850  135.1  \n",
              "6                97.150  146.3  \n",
              "7                92.400  112.2  \n",
              "8               100.125  151.4  \n",
              "9                94.650  126.2  \n",
              "10              108.650  136.5  \n",
              "11               97.750  150.4  \n",
              "12              106.500  145.1  \n",
              "13              118.700  145.9  \n",
              "14              100.850  117.2  \n",
              "15              107.675  149.6  \n",
              "16              100.000  147.3  \n",
              "17              101.050  146.3  \n",
              "18              115.650  145.1  \n",
              "19              102.300  170.5  "
            ],
            "text/html": [
              "\n",
              "  <div id=\"df-afc3f8e7-80d5-454d-a6c2-c245e0acd717\">\n",
              "    <div class=\"colab-df-container\">\n",
              "      <div>\n",
              "<style scoped>\n",
              "    .dataframe tbody tr th:only-of-type {\n",
              "        vertical-align: middle;\n",
              "    }\n",
              "\n",
              "    .dataframe tbody tr th {\n",
              "        vertical-align: top;\n",
              "    }\n",
              "\n",
              "    .dataframe thead tr th {\n",
              "        text-align: left;\n",
              "    }\n",
              "\n",
              "    .dataframe thead tr:last-of-type th {\n",
              "        text-align: right;\n",
              "    }\n",
              "</style>\n",
              "<table border=\"1\" class=\"dataframe\">\n",
              "  <thead>\n",
              "    <tr>\n",
              "      <th></th>\n",
              "      <th colspan=\"8\" halign=\"left\">overall_score</th>\n",
              "    </tr>\n",
              "    <tr>\n",
              "      <th></th>\n",
              "      <th>count</th>\n",
              "      <th>mean</th>\n",
              "      <th>std</th>\n",
              "      <th>min</th>\n",
              "      <th>25%</th>\n",
              "      <th>50%</th>\n",
              "      <th>75%</th>\n",
              "      <th>max</th>\n",
              "    </tr>\n",
              "    <tr>\n",
              "      <th>cluster_labels</th>\n",
              "      <th></th>\n",
              "      <th></th>\n",
              "      <th></th>\n",
              "      <th></th>\n",
              "      <th></th>\n",
              "      <th></th>\n",
              "      <th></th>\n",
              "      <th></th>\n",
              "    </tr>\n",
              "  </thead>\n",
              "  <tbody>\n",
              "    <tr>\n",
              "      <th>0</th>\n",
              "      <td>66.0</td>\n",
              "      <td>105.198485</td>\n",
              "      <td>21.141025</td>\n",
              "      <td>80.3</td>\n",
              "      <td>89.700</td>\n",
              "      <td>97.20</td>\n",
              "      <td>119.975</td>\n",
              "      <td>162.7</td>\n",
              "    </tr>\n",
              "    <tr>\n",
              "      <th>1</th>\n",
              "      <td>49.0</td>\n",
              "      <td>90.924490</td>\n",
              "      <td>11.081771</td>\n",
              "      <td>80.1</td>\n",
              "      <td>83.600</td>\n",
              "      <td>88.60</td>\n",
              "      <td>93.000</td>\n",
              "      <td>129.4</td>\n",
              "    </tr>\n",
              "    <tr>\n",
              "      <th>2</th>\n",
              "      <td>98.0</td>\n",
              "      <td>92.076531</td>\n",
              "      <td>13.499094</td>\n",
              "      <td>80.1</td>\n",
              "      <td>82.100</td>\n",
              "      <td>87.30</td>\n",
              "      <td>97.100</td>\n",
              "      <td>141.9</td>\n",
              "    </tr>\n",
              "    <tr>\n",
              "      <th>3</th>\n",
              "      <td>40.0</td>\n",
              "      <td>95.505000</td>\n",
              "      <td>14.553120</td>\n",
              "      <td>80.2</td>\n",
              "      <td>84.500</td>\n",
              "      <td>90.50</td>\n",
              "      <td>100.225</td>\n",
              "      <td>128.7</td>\n",
              "    </tr>\n",
              "    <tr>\n",
              "      <th>4</th>\n",
              "      <td>66.0</td>\n",
              "      <td>103.403030</td>\n",
              "      <td>17.809867</td>\n",
              "      <td>80.6</td>\n",
              "      <td>88.200</td>\n",
              "      <td>100.30</td>\n",
              "      <td>115.275</td>\n",
              "      <td>154.7</td>\n",
              "    </tr>\n",
              "    <tr>\n",
              "      <th>5</th>\n",
              "      <td>27.0</td>\n",
              "      <td>98.662963</td>\n",
              "      <td>15.916227</td>\n",
              "      <td>80.1</td>\n",
              "      <td>86.700</td>\n",
              "      <td>95.20</td>\n",
              "      <td>103.850</td>\n",
              "      <td>135.1</td>\n",
              "    </tr>\n",
              "    <tr>\n",
              "      <th>6</th>\n",
              "      <td>68.0</td>\n",
              "      <td>93.814706</td>\n",
              "      <td>15.526533</td>\n",
              "      <td>80.0</td>\n",
              "      <td>82.825</td>\n",
              "      <td>88.60</td>\n",
              "      <td>97.150</td>\n",
              "      <td>146.3</td>\n",
              "    </tr>\n",
              "    <tr>\n",
              "      <th>7</th>\n",
              "      <td>30.0</td>\n",
              "      <td>89.036667</td>\n",
              "      <td>8.797040</td>\n",
              "      <td>80.1</td>\n",
              "      <td>82.075</td>\n",
              "      <td>85.95</td>\n",
              "      <td>92.400</td>\n",
              "      <td>112.2</td>\n",
              "    </tr>\n",
              "    <tr>\n",
              "      <th>8</th>\n",
              "      <td>24.0</td>\n",
              "      <td>93.812500</td>\n",
              "      <td>15.892036</td>\n",
              "      <td>80.3</td>\n",
              "      <td>82.275</td>\n",
              "      <td>89.10</td>\n",
              "      <td>100.125</td>\n",
              "      <td>151.4</td>\n",
              "    </tr>\n",
              "    <tr>\n",
              "      <th>9</th>\n",
              "      <td>63.0</td>\n",
              "      <td>91.468254</td>\n",
              "      <td>11.319806</td>\n",
              "      <td>80.1</td>\n",
              "      <td>82.400</td>\n",
              "      <td>88.40</td>\n",
              "      <td>94.650</td>\n",
              "      <td>126.2</td>\n",
              "    </tr>\n",
              "    <tr>\n",
              "      <th>10</th>\n",
              "      <td>19.0</td>\n",
              "      <td>99.268421</td>\n",
              "      <td>17.598771</td>\n",
              "      <td>80.2</td>\n",
              "      <td>82.950</td>\n",
              "      <td>97.70</td>\n",
              "      <td>108.650</td>\n",
              "      <td>136.5</td>\n",
              "    </tr>\n",
              "    <tr>\n",
              "      <th>11</th>\n",
              "      <td>19.0</td>\n",
              "      <td>96.005263</td>\n",
              "      <td>22.447061</td>\n",
              "      <td>80.0</td>\n",
              "      <td>80.550</td>\n",
              "      <td>87.10</td>\n",
              "      <td>97.750</td>\n",
              "      <td>150.4</td>\n",
              "    </tr>\n",
              "    <tr>\n",
              "      <th>12</th>\n",
              "      <td>67.0</td>\n",
              "      <td>96.676119</td>\n",
              "      <td>17.128322</td>\n",
              "      <td>80.0</td>\n",
              "      <td>81.950</td>\n",
              "      <td>90.30</td>\n",
              "      <td>106.500</td>\n",
              "      <td>145.1</td>\n",
              "    </tr>\n",
              "    <tr>\n",
              "      <th>13</th>\n",
              "      <td>27.0</td>\n",
              "      <td>103.214815</td>\n",
              "      <td>17.583771</td>\n",
              "      <td>81.2</td>\n",
              "      <td>89.250</td>\n",
              "      <td>97.10</td>\n",
              "      <td>118.700</td>\n",
              "      <td>145.9</td>\n",
              "    </tr>\n",
              "    <tr>\n",
              "      <th>14</th>\n",
              "      <td>23.0</td>\n",
              "      <td>93.660870</td>\n",
              "      <td>12.043359</td>\n",
              "      <td>80.0</td>\n",
              "      <td>81.700</td>\n",
              "      <td>93.80</td>\n",
              "      <td>100.850</td>\n",
              "      <td>117.2</td>\n",
              "    </tr>\n",
              "    <tr>\n",
              "      <th>15</th>\n",
              "      <td>42.0</td>\n",
              "      <td>97.883333</td>\n",
              "      <td>17.623431</td>\n",
              "      <td>80.0</td>\n",
              "      <td>83.325</td>\n",
              "      <td>92.50</td>\n",
              "      <td>107.675</td>\n",
              "      <td>149.6</td>\n",
              "    </tr>\n",
              "    <tr>\n",
              "      <th>16</th>\n",
              "      <td>38.0</td>\n",
              "      <td>93.752632</td>\n",
              "      <td>13.279505</td>\n",
              "      <td>80.3</td>\n",
              "      <td>84.675</td>\n",
              "      <td>88.75</td>\n",
              "      <td>100.000</td>\n",
              "      <td>147.3</td>\n",
              "    </tr>\n",
              "    <tr>\n",
              "      <th>17</th>\n",
              "      <td>239.0</td>\n",
              "      <td>94.544770</td>\n",
              "      <td>14.111523</td>\n",
              "      <td>80.0</td>\n",
              "      <td>83.700</td>\n",
              "      <td>89.60</td>\n",
              "      <td>101.050</td>\n",
              "      <td>146.3</td>\n",
              "    </tr>\n",
              "    <tr>\n",
              "      <th>18</th>\n",
              "      <td>34.0</td>\n",
              "      <td>103.732353</td>\n",
              "      <td>18.482633</td>\n",
              "      <td>80.1</td>\n",
              "      <td>88.375</td>\n",
              "      <td>103.20</td>\n",
              "      <td>115.650</td>\n",
              "      <td>145.1</td>\n",
              "    </tr>\n",
              "    <tr>\n",
              "      <th>19</th>\n",
              "      <td>71.0</td>\n",
              "      <td>95.208451</td>\n",
              "      <td>17.685052</td>\n",
              "      <td>80.2</td>\n",
              "      <td>82.500</td>\n",
              "      <td>88.10</td>\n",
              "      <td>102.300</td>\n",
              "      <td>170.5</td>\n",
              "    </tr>\n",
              "  </tbody>\n",
              "</table>\n",
              "</div>\n",
              "      <button class=\"colab-df-convert\" onclick=\"convertToInteractive('df-afc3f8e7-80d5-454d-a6c2-c245e0acd717')\"\n",
              "              title=\"Convert this dataframe to an interactive table.\"\n",
              "              style=\"display:none;\">\n",
              "        \n",
              "  <svg xmlns=\"http://www.w3.org/2000/svg\" height=\"24px\"viewBox=\"0 0 24 24\"\n",
              "       width=\"24px\">\n",
              "    <path d=\"M0 0h24v24H0V0z\" fill=\"none\"/>\n",
              "    <path d=\"M18.56 5.44l.94 2.06.94-2.06 2.06-.94-2.06-.94-.94-2.06-.94 2.06-2.06.94zm-11 1L8.5 8.5l.94-2.06 2.06-.94-2.06-.94L8.5 2.5l-.94 2.06-2.06.94zm10 10l.94 2.06.94-2.06 2.06-.94-2.06-.94-.94-2.06-.94 2.06-2.06.94z\"/><path d=\"M17.41 7.96l-1.37-1.37c-.4-.4-.92-.59-1.43-.59-.52 0-1.04.2-1.43.59L10.3 9.45l-7.72 7.72c-.78.78-.78 2.05 0 2.83L4 21.41c.39.39.9.59 1.41.59.51 0 1.02-.2 1.41-.59l7.78-7.78 2.81-2.81c.8-.78.8-2.07 0-2.86zM5.41 20L4 18.59l7.72-7.72 1.47 1.35L5.41 20z\"/>\n",
              "  </svg>\n",
              "      </button>\n",
              "      \n",
              "  <style>\n",
              "    .colab-df-container {\n",
              "      display:flex;\n",
              "      flex-wrap:wrap;\n",
              "      gap: 12px;\n",
              "    }\n",
              "\n",
              "    .colab-df-convert {\n",
              "      background-color: #E8F0FE;\n",
              "      border: none;\n",
              "      border-radius: 50%;\n",
              "      cursor: pointer;\n",
              "      display: none;\n",
              "      fill: #1967D2;\n",
              "      height: 32px;\n",
              "      padding: 0 0 0 0;\n",
              "      width: 32px;\n",
              "    }\n",
              "\n",
              "    .colab-df-convert:hover {\n",
              "      background-color: #E2EBFA;\n",
              "      box-shadow: 0px 1px 2px rgba(60, 64, 67, 0.3), 0px 1px 3px 1px rgba(60, 64, 67, 0.15);\n",
              "      fill: #174EA6;\n",
              "    }\n",
              "\n",
              "    [theme=dark] .colab-df-convert {\n",
              "      background-color: #3B4455;\n",
              "      fill: #D2E3FC;\n",
              "    }\n",
              "\n",
              "    [theme=dark] .colab-df-convert:hover {\n",
              "      background-color: #434B5C;\n",
              "      box-shadow: 0px 1px 3px 1px rgba(0, 0, 0, 0.15);\n",
              "      filter: drop-shadow(0px 1px 2px rgba(0, 0, 0, 0.3));\n",
              "      fill: #FFFFFF;\n",
              "    }\n",
              "  </style>\n",
              "\n",
              "      <script>\n",
              "        const buttonEl =\n",
              "          document.querySelector('#df-afc3f8e7-80d5-454d-a6c2-c245e0acd717 button.colab-df-convert');\n",
              "        buttonEl.style.display =\n",
              "          google.colab.kernel.accessAllowed ? 'block' : 'none';\n",
              "\n",
              "        async function convertToInteractive(key) {\n",
              "          const element = document.querySelector('#df-afc3f8e7-80d5-454d-a6c2-c245e0acd717');\n",
              "          const dataTable =\n",
              "            await google.colab.kernel.invokeFunction('convertToInteractive',\n",
              "                                                     [key], {});\n",
              "          if (!dataTable) return;\n",
              "\n",
              "          const docLinkHtml = 'Like what you see? Visit the ' +\n",
              "            '<a target=\"_blank\" href=https://colab.research.google.com/notebooks/data_table.ipynb>data table notebook</a>'\n",
              "            + ' to learn more about interactive tables.';\n",
              "          element.innerHTML = '';\n",
              "          dataTable['output_type'] = 'display_data';\n",
              "          await google.colab.output.renderOutput(dataTable, element);\n",
              "          const docLink = document.createElement('div');\n",
              "          docLink.innerHTML = docLinkHtml;\n",
              "          element.appendChild(docLink);\n",
              "        }\n",
              "      </script>\n",
              "    </div>\n",
              "  </div>\n",
              "  "
            ]
          },
          "metadata": {},
          "execution_count": 124
        }
      ]
    },
    {
      "cell_type": "markdown",
      "source": [
        "---\n",
        "Below, we generate a cross table of `sector` and `cluster_labels`. We use a ratio instead of simple frequency. Thus, we get the proportion of the sector for each cluster."
      ],
      "metadata": {
        "id": "bxAlllRBzDDS"
      }
    },
    {
      "cell_type": "code",
      "source": [
        "# Choose metadata to analyse\n",
        "nominal_metadata_to_analyse = 'sector'\n",
        "#\n",
        "df_test = pd.DataFrame(columns=set(df_data_bcorp[nominal_metadata_to_analyse])) \n",
        "for c_t_ in range(result_kmeans.n_clusters):\n",
        "    df_test.loc[c_t_] = df_data_bcorp.loc[result_kmeans.labels_== c_t_, nominal_metadata_to_analyse].value_counts()\n",
        "df_test = df_test.fillna(0)\n",
        "# Compute Ratio\n",
        "for col in df_test.columns:\n",
        "    df_test[col] = df_test[col] / df_test[col].sum() * 100\n",
        "# Round float to 2 decimals\n",
        "df_test = df_test.round(2)\n",
        "df_test"
      ],
      "metadata": {
        "id": "NsnkQBQovLXQ",
        "outputId": "50054d50-a869-4b43-8a1e-08974b07d8e5",
        "colab": {
          "base_uri": "https://localhost:8080/",
          "height": 738
        }
      },
      "execution_count": 122,
      "outputs": [
        {
          "output_type": "execute_result",
          "data": {
            "text/plain": [
              "    Service with Significant Environmental Footprint  Service  Manufacturing  \\\n",
              "0                                               2.02      0.0           0.00   \n",
              "1                                               0.00     40.0           1.35   \n",
              "2                                              12.12      0.0          10.14   \n",
              "3                                               1.01      0.0           0.00   \n",
              "4                                               6.06     40.0           0.00   \n",
              "5                                              25.25      0.0           0.00   \n",
              "6                                               9.09      0.0           0.68   \n",
              "7                                               0.00      0.0           0.00   \n",
              "8                                               1.01      0.0          10.81   \n",
              "9                                               0.00      0.0          12.84   \n",
              "10                                              2.02      0.0           8.78   \n",
              "11                                              7.07      0.0           0.68   \n",
              "12                                              4.04      0.0           4.73   \n",
              "13                                              0.00      0.0           0.00   \n",
              "14                                              8.08      0.0           0.68   \n",
              "15                                              0.00      0.0           0.68   \n",
              "16                                              3.03      0.0           1.35   \n",
              "17                                             15.15     20.0          31.76   \n",
              "18                                              1.01      0.0           1.35   \n",
              "19                                              3.03      0.0          14.19   \n",
              "\n",
              "    Service with Minor Environmental Footprint  Agriculture/Growers  \\\n",
              "0                                        10.56                 0.00   \n",
              "1                                         6.77                 0.00   \n",
              "2                                         3.47                20.00   \n",
              "3                                         6.44                 0.00   \n",
              "4                                         9.41                 0.00   \n",
              "5                                         0.33                 0.00   \n",
              "6                                         9.41                 0.00   \n",
              "7                                         4.95                 0.00   \n",
              "8                                         0.00                13.33   \n",
              "9                                         0.83                 6.67   \n",
              "10                                        0.00                10.00   \n",
              "11                                        1.49                 0.00   \n",
              "12                                        9.08                 0.00   \n",
              "13                                        4.29                 0.00   \n",
              "14                                        2.31                 0.00   \n",
              "15                                        6.27                 3.33   \n",
              "16                                        4.95                 0.00   \n",
              "17                                       14.03                30.00   \n",
              "18                                        4.95                 0.00   \n",
              "19                                        0.50                16.67   \n",
              "\n",
              "    Wholesale/Retail  \n",
              "0               0.00  \n",
              "1               1.80  \n",
              "2              19.82  \n",
              "3               0.00  \n",
              "4               0.45  \n",
              "5               0.00  \n",
              "6               0.45  \n",
              "7               0.00  \n",
              "8               1.35  \n",
              "9              16.67  \n",
              "10              0.45  \n",
              "11              0.90  \n",
              "12              0.45  \n",
              "13              0.45  \n",
              "14              0.00  \n",
              "15              0.90  \n",
              "16              1.35  \n",
              "17             36.94  \n",
              "18              0.45  \n",
              "19             17.57  "
            ],
            "text/html": [
              "\n",
              "  <div id=\"df-318ef0f8-78e4-40b8-b2dc-1e37d77eaa0a\">\n",
              "    <div class=\"colab-df-container\">\n",
              "      <div>\n",
              "<style scoped>\n",
              "    .dataframe tbody tr th:only-of-type {\n",
              "        vertical-align: middle;\n",
              "    }\n",
              "\n",
              "    .dataframe tbody tr th {\n",
              "        vertical-align: top;\n",
              "    }\n",
              "\n",
              "    .dataframe thead th {\n",
              "        text-align: right;\n",
              "    }\n",
              "</style>\n",
              "<table border=\"1\" class=\"dataframe\">\n",
              "  <thead>\n",
              "    <tr style=\"text-align: right;\">\n",
              "      <th></th>\n",
              "      <th>Service with Significant Environmental Footprint</th>\n",
              "      <th>Service</th>\n",
              "      <th>Manufacturing</th>\n",
              "      <th>Service with Minor Environmental Footprint</th>\n",
              "      <th>Agriculture/Growers</th>\n",
              "      <th>Wholesale/Retail</th>\n",
              "    </tr>\n",
              "  </thead>\n",
              "  <tbody>\n",
              "    <tr>\n",
              "      <th>0</th>\n",
              "      <td>2.02</td>\n",
              "      <td>0.0</td>\n",
              "      <td>0.00</td>\n",
              "      <td>10.56</td>\n",
              "      <td>0.00</td>\n",
              "      <td>0.00</td>\n",
              "    </tr>\n",
              "    <tr>\n",
              "      <th>1</th>\n",
              "      <td>0.00</td>\n",
              "      <td>40.0</td>\n",
              "      <td>1.35</td>\n",
              "      <td>6.77</td>\n",
              "      <td>0.00</td>\n",
              "      <td>1.80</td>\n",
              "    </tr>\n",
              "    <tr>\n",
              "      <th>2</th>\n",
              "      <td>12.12</td>\n",
              "      <td>0.0</td>\n",
              "      <td>10.14</td>\n",
              "      <td>3.47</td>\n",
              "      <td>20.00</td>\n",
              "      <td>19.82</td>\n",
              "    </tr>\n",
              "    <tr>\n",
              "      <th>3</th>\n",
              "      <td>1.01</td>\n",
              "      <td>0.0</td>\n",
              "      <td>0.00</td>\n",
              "      <td>6.44</td>\n",
              "      <td>0.00</td>\n",
              "      <td>0.00</td>\n",
              "    </tr>\n",
              "    <tr>\n",
              "      <th>4</th>\n",
              "      <td>6.06</td>\n",
              "      <td>40.0</td>\n",
              "      <td>0.00</td>\n",
              "      <td>9.41</td>\n",
              "      <td>0.00</td>\n",
              "      <td>0.45</td>\n",
              "    </tr>\n",
              "    <tr>\n",
              "      <th>5</th>\n",
              "      <td>25.25</td>\n",
              "      <td>0.0</td>\n",
              "      <td>0.00</td>\n",
              "      <td>0.33</td>\n",
              "      <td>0.00</td>\n",
              "      <td>0.00</td>\n",
              "    </tr>\n",
              "    <tr>\n",
              "      <th>6</th>\n",
              "      <td>9.09</td>\n",
              "      <td>0.0</td>\n",
              "      <td>0.68</td>\n",
              "      <td>9.41</td>\n",
              "      <td>0.00</td>\n",
              "      <td>0.45</td>\n",
              "    </tr>\n",
              "    <tr>\n",
              "      <th>7</th>\n",
              "      <td>0.00</td>\n",
              "      <td>0.0</td>\n",
              "      <td>0.00</td>\n",
              "      <td>4.95</td>\n",
              "      <td>0.00</td>\n",
              "      <td>0.00</td>\n",
              "    </tr>\n",
              "    <tr>\n",
              "      <th>8</th>\n",
              "      <td>1.01</td>\n",
              "      <td>0.0</td>\n",
              "      <td>10.81</td>\n",
              "      <td>0.00</td>\n",
              "      <td>13.33</td>\n",
              "      <td>1.35</td>\n",
              "    </tr>\n",
              "    <tr>\n",
              "      <th>9</th>\n",
              "      <td>0.00</td>\n",
              "      <td>0.0</td>\n",
              "      <td>12.84</td>\n",
              "      <td>0.83</td>\n",
              "      <td>6.67</td>\n",
              "      <td>16.67</td>\n",
              "    </tr>\n",
              "    <tr>\n",
              "      <th>10</th>\n",
              "      <td>2.02</td>\n",
              "      <td>0.0</td>\n",
              "      <td>8.78</td>\n",
              "      <td>0.00</td>\n",
              "      <td>10.00</td>\n",
              "      <td>0.45</td>\n",
              "    </tr>\n",
              "    <tr>\n",
              "      <th>11</th>\n",
              "      <td>7.07</td>\n",
              "      <td>0.0</td>\n",
              "      <td>0.68</td>\n",
              "      <td>1.49</td>\n",
              "      <td>0.00</td>\n",
              "      <td>0.90</td>\n",
              "    </tr>\n",
              "    <tr>\n",
              "      <th>12</th>\n",
              "      <td>4.04</td>\n",
              "      <td>0.0</td>\n",
              "      <td>4.73</td>\n",
              "      <td>9.08</td>\n",
              "      <td>0.00</td>\n",
              "      <td>0.45</td>\n",
              "    </tr>\n",
              "    <tr>\n",
              "      <th>13</th>\n",
              "      <td>0.00</td>\n",
              "      <td>0.0</td>\n",
              "      <td>0.00</td>\n",
              "      <td>4.29</td>\n",
              "      <td>0.00</td>\n",
              "      <td>0.45</td>\n",
              "    </tr>\n",
              "    <tr>\n",
              "      <th>14</th>\n",
              "      <td>8.08</td>\n",
              "      <td>0.0</td>\n",
              "      <td>0.68</td>\n",
              "      <td>2.31</td>\n",
              "      <td>0.00</td>\n",
              "      <td>0.00</td>\n",
              "    </tr>\n",
              "    <tr>\n",
              "      <th>15</th>\n",
              "      <td>0.00</td>\n",
              "      <td>0.0</td>\n",
              "      <td>0.68</td>\n",
              "      <td>6.27</td>\n",
              "      <td>3.33</td>\n",
              "      <td>0.90</td>\n",
              "    </tr>\n",
              "    <tr>\n",
              "      <th>16</th>\n",
              "      <td>3.03</td>\n",
              "      <td>0.0</td>\n",
              "      <td>1.35</td>\n",
              "      <td>4.95</td>\n",
              "      <td>0.00</td>\n",
              "      <td>1.35</td>\n",
              "    </tr>\n",
              "    <tr>\n",
              "      <th>17</th>\n",
              "      <td>15.15</td>\n",
              "      <td>20.0</td>\n",
              "      <td>31.76</td>\n",
              "      <td>14.03</td>\n",
              "      <td>30.00</td>\n",
              "      <td>36.94</td>\n",
              "    </tr>\n",
              "    <tr>\n",
              "      <th>18</th>\n",
              "      <td>1.01</td>\n",
              "      <td>0.0</td>\n",
              "      <td>1.35</td>\n",
              "      <td>4.95</td>\n",
              "      <td>0.00</td>\n",
              "      <td>0.45</td>\n",
              "    </tr>\n",
              "    <tr>\n",
              "      <th>19</th>\n",
              "      <td>3.03</td>\n",
              "      <td>0.0</td>\n",
              "      <td>14.19</td>\n",
              "      <td>0.50</td>\n",
              "      <td>16.67</td>\n",
              "      <td>17.57</td>\n",
              "    </tr>\n",
              "  </tbody>\n",
              "</table>\n",
              "</div>\n",
              "      <button class=\"colab-df-convert\" onclick=\"convertToInteractive('df-318ef0f8-78e4-40b8-b2dc-1e37d77eaa0a')\"\n",
              "              title=\"Convert this dataframe to an interactive table.\"\n",
              "              style=\"display:none;\">\n",
              "        \n",
              "  <svg xmlns=\"http://www.w3.org/2000/svg\" height=\"24px\"viewBox=\"0 0 24 24\"\n",
              "       width=\"24px\">\n",
              "    <path d=\"M0 0h24v24H0V0z\" fill=\"none\"/>\n",
              "    <path d=\"M18.56 5.44l.94 2.06.94-2.06 2.06-.94-2.06-.94-.94-2.06-.94 2.06-2.06.94zm-11 1L8.5 8.5l.94-2.06 2.06-.94-2.06-.94L8.5 2.5l-.94 2.06-2.06.94zm10 10l.94 2.06.94-2.06 2.06-.94-2.06-.94-.94-2.06-.94 2.06-2.06.94z\"/><path d=\"M17.41 7.96l-1.37-1.37c-.4-.4-.92-.59-1.43-.59-.52 0-1.04.2-1.43.59L10.3 9.45l-7.72 7.72c-.78.78-.78 2.05 0 2.83L4 21.41c.39.39.9.59 1.41.59.51 0 1.02-.2 1.41-.59l7.78-7.78 2.81-2.81c.8-.78.8-2.07 0-2.86zM5.41 20L4 18.59l7.72-7.72 1.47 1.35L5.41 20z\"/>\n",
              "  </svg>\n",
              "      </button>\n",
              "      \n",
              "  <style>\n",
              "    .colab-df-container {\n",
              "      display:flex;\n",
              "      flex-wrap:wrap;\n",
              "      gap: 12px;\n",
              "    }\n",
              "\n",
              "    .colab-df-convert {\n",
              "      background-color: #E8F0FE;\n",
              "      border: none;\n",
              "      border-radius: 50%;\n",
              "      cursor: pointer;\n",
              "      display: none;\n",
              "      fill: #1967D2;\n",
              "      height: 32px;\n",
              "      padding: 0 0 0 0;\n",
              "      width: 32px;\n",
              "    }\n",
              "\n",
              "    .colab-df-convert:hover {\n",
              "      background-color: #E2EBFA;\n",
              "      box-shadow: 0px 1px 2px rgba(60, 64, 67, 0.3), 0px 1px 3px 1px rgba(60, 64, 67, 0.15);\n",
              "      fill: #174EA6;\n",
              "    }\n",
              "\n",
              "    [theme=dark] .colab-df-convert {\n",
              "      background-color: #3B4455;\n",
              "      fill: #D2E3FC;\n",
              "    }\n",
              "\n",
              "    [theme=dark] .colab-df-convert:hover {\n",
              "      background-color: #434B5C;\n",
              "      box-shadow: 0px 1px 3px 1px rgba(0, 0, 0, 0.15);\n",
              "      filter: drop-shadow(0px 1px 2px rgba(0, 0, 0, 0.3));\n",
              "      fill: #FFFFFF;\n",
              "    }\n",
              "  </style>\n",
              "\n",
              "      <script>\n",
              "        const buttonEl =\n",
              "          document.querySelector('#df-318ef0f8-78e4-40b8-b2dc-1e37d77eaa0a button.colab-df-convert');\n",
              "        buttonEl.style.display =\n",
              "          google.colab.kernel.accessAllowed ? 'block' : 'none';\n",
              "\n",
              "        async function convertToInteractive(key) {\n",
              "          const element = document.querySelector('#df-318ef0f8-78e4-40b8-b2dc-1e37d77eaa0a');\n",
              "          const dataTable =\n",
              "            await google.colab.kernel.invokeFunction('convertToInteractive',\n",
              "                                                     [key], {});\n",
              "          if (!dataTable) return;\n",
              "\n",
              "          const docLinkHtml = 'Like what you see? Visit the ' +\n",
              "            '<a target=\"_blank\" href=https://colab.research.google.com/notebooks/data_table.ipynb>data table notebook</a>'\n",
              "            + ' to learn more about interactive tables.';\n",
              "          element.innerHTML = '';\n",
              "          dataTable['output_type'] = 'display_data';\n",
              "          await google.colab.output.renderOutput(dataTable, element);\n",
              "          const docLink = document.createElement('div');\n",
              "          docLink.innerHTML = docLinkHtml;\n",
              "          element.appendChild(docLink);\n",
              "        }\n",
              "      </script>\n",
              "    </div>\n",
              "  </div>\n",
              "  "
            ]
          },
          "metadata": {},
          "execution_count": 122
        }
      ]
    },
    {
      "cell_type": "markdown",
      "source": [
        "## 3.6 Retrieve most representatives documents by cluster\n",
        "\n",
        "In this subsection, we retrieve the <font color = 'E3A440'>most representative documents for each cluster</font>.\n",
        "\n",
        "In the chunk below, we prepare data computing *cosine similarity* between the *centroid*  of each cluster and all documents it contains."
      ],
      "metadata": {
        "id": "NdtRkHbxSZ7G"
      }
    },
    {
      "cell_type": "code",
      "source": [
        "from sklearn.metrics.pairwise import cosine_similarity\n",
        "df_data_bcorp['Cosine_of_related_cluster'] = 0\n",
        "for idx, centroid in enumerate(result_kmeans.cluster_centers_):\n",
        "    idx_cluster = result_kmeans.labels_ == idx\n",
        "    similarity = cosine_similarity(result_kmeans.DTM_[idx_cluster], centroid.reshape(1, -1)).flatten()\n",
        "    df_data_bcorp.loc[idx_cluster, 'Cosine_of_related_cluster'] = similarity "
      ],
      "metadata": {
        "id": "_1RTfSmHSnqm"
      },
      "execution_count": 125,
      "outputs": []
    },
    {
      "cell_type": "markdown",
      "source": [
        "---\n",
        "Below, we print most representatives documents for a specific cluster "
      ],
      "metadata": {
        "id": "BPFFNgwh3bdu"
      }
    },
    {
      "cell_type": "code",
      "source": [
        "## choose the cluster to analyze\n",
        "n_clust = 5\n",
        "df_data_bcorp[df_data_bcorp[\"cluster_labels\"] == n_clust].sort_values(by='Cosine_of_related_cluster', ascending= False)[['company_name','Cosine_of_related_cluster',\"text_web_page\"]]"
      ],
      "metadata": {
        "id": "CEp1b5WnZu2i",
        "outputId": "5c9a6a55-c521-4b6a-cf55-df324f2b0b38",
        "colab": {
          "base_uri": "https://localhost:8080/",
          "height": 896
        }
      },
      "execution_count": 126,
      "outputs": [
        {
          "output_type": "execute_result",
          "data": {
            "text/plain": [
              "                              company_name  Cosine_of_related_cluster  \\\n",
              "776                  Positive Energy Solar                   0.956566   \n",
              "628                               miEnergy                   0.952316   \n",
              "932                      Sun Light & Power                   0.939133   \n",
              "190                      Creative Energies                   0.937660   \n",
              "931                              SunCommon                   0.930113   \n",
              "679                       Neighborhood Sun                   0.927200   \n",
              "886                     SkyFire Energy Inc                   0.924763   \n",
              "767                           Pivot Energy                   0.907159   \n",
              "704      Northeast Solar Design Associates                   0.905930   \n",
              "522                        Ipsun Power Inc                   0.905440   \n",
              "172  California Solar Electric Cooperative                   0.896184   \n",
              "930                       SunBug Solar LLC                   0.872666   \n",
              "59       Arctic Solar Ventures Corporation                   0.871329   \n",
              "795                             PV Squared                   0.865960   \n",
              "910             Southern Energy Management                   0.852538   \n",
              "655                      Morton Solar, LLC                   0.842261   \n",
              "929                        Sunbridge Solar                   0.827278   \n",
              "829                        Resonant Energy                   0.794144   \n",
              "902                           Solar States                   0.784380   \n",
              "873                             Shaw Solar                   0.779866   \n",
              "903                         Solaris Energy                   0.759008   \n",
              "668                          Namaste Solar                   0.755848   \n",
              "983                        Third Sun Solar                   0.726597   \n",
              "960         Technicians For Sustainability                   0.697265   \n",
              "936                  Sunwealth Power, Inc.                   0.661298   \n",
              "44                Amicus Solar Cooperative                   0.606958   \n",
              "211                     CleanChoice Energy                   0.600242   \n",
              "\n",
              "                                         text_web_page  \n",
              "776  Notice: Due to COVID-19, we'll be taking extra...  \n",
              "628  MiEnergy is Western Canada`s largest alternati...  \n",
              "932  Reduces carbon emissions Lowers energy costs A...  \n",
              "190  As we are all very aware, the Covid-19 virus i...  \n",
              "931  SunCommon is the leading solar installer for h...  \n",
              "679  Community solar provides all the benefits of l...  \n",
              "886  Solar energy makes financial sense. SkyFire is...  \n",
              "767  A national leader in comprehensive commercial ...  \n",
              "704  Northeast Solar is Solar Done Right. Powering ...  \n",
              "522  A Tesla Powerwall gives you the peace of mind ...  \n",
              "172  Our team of worker-owners is dedicated to offe...  \n",
              "930  SunBug is a full-service local solar energy co...  \n",
              "59   See if Your Home or Business is a Good Match f...  \n",
              "795  PV Squared is a worker-owned cooperative focus...  \n",
              "910  We help you save energy and money so you can b...  \n",
              "655  Find out from our engineers if solar is a good...  \n",
              "929  Reduce your monthly power bill and better the ...  \n",
              "829  Everyone has a right to clean, affordable ener...  \n",
              "902  Solar States now leads the Northeast United St...  \n",
              "873  Bringing Solar Power to the People Since 2006 ...  \n",
              "903  MISSION: Accelerate the widespread deployment ...  \n",
              "668  The COVID-19 virus is impacting our communitie...  \n",
              "983  This is Not Business As Usual The Global Clima...  \n",
              "960  Go Solar Today in Tucson and Start Saving Sola...  \n",
              "936  Sunwealth® is a clean energy investment firm o...  \n",
              "44   We are a special group of quality solar PV ins...  \n",
              "211  By joining a solar farm, you can support the p...  "
            ],
            "text/html": [
              "\n",
              "  <div id=\"df-0ea7b125-8966-486e-b703-07cf300185ca\">\n",
              "    <div class=\"colab-df-container\">\n",
              "      <div>\n",
              "<style scoped>\n",
              "    .dataframe tbody tr th:only-of-type {\n",
              "        vertical-align: middle;\n",
              "    }\n",
              "\n",
              "    .dataframe tbody tr th {\n",
              "        vertical-align: top;\n",
              "    }\n",
              "\n",
              "    .dataframe thead th {\n",
              "        text-align: right;\n",
              "    }\n",
              "</style>\n",
              "<table border=\"1\" class=\"dataframe\">\n",
              "  <thead>\n",
              "    <tr style=\"text-align: right;\">\n",
              "      <th></th>\n",
              "      <th>company_name</th>\n",
              "      <th>Cosine_of_related_cluster</th>\n",
              "      <th>text_web_page</th>\n",
              "    </tr>\n",
              "  </thead>\n",
              "  <tbody>\n",
              "    <tr>\n",
              "      <th>776</th>\n",
              "      <td>Positive Energy Solar</td>\n",
              "      <td>0.956566</td>\n",
              "      <td>Notice: Due to COVID-19, we'll be taking extra...</td>\n",
              "    </tr>\n",
              "    <tr>\n",
              "      <th>628</th>\n",
              "      <td>miEnergy</td>\n",
              "      <td>0.952316</td>\n",
              "      <td>MiEnergy is Western Canada`s largest alternati...</td>\n",
              "    </tr>\n",
              "    <tr>\n",
              "      <th>932</th>\n",
              "      <td>Sun Light &amp; Power</td>\n",
              "      <td>0.939133</td>\n",
              "      <td>Reduces carbon emissions Lowers energy costs A...</td>\n",
              "    </tr>\n",
              "    <tr>\n",
              "      <th>190</th>\n",
              "      <td>Creative Energies</td>\n",
              "      <td>0.937660</td>\n",
              "      <td>As we are all very aware, the Covid-19 virus i...</td>\n",
              "    </tr>\n",
              "    <tr>\n",
              "      <th>931</th>\n",
              "      <td>SunCommon</td>\n",
              "      <td>0.930113</td>\n",
              "      <td>SunCommon is the leading solar installer for h...</td>\n",
              "    </tr>\n",
              "    <tr>\n",
              "      <th>679</th>\n",
              "      <td>Neighborhood Sun</td>\n",
              "      <td>0.927200</td>\n",
              "      <td>Community solar provides all the benefits of l...</td>\n",
              "    </tr>\n",
              "    <tr>\n",
              "      <th>886</th>\n",
              "      <td>SkyFire Energy Inc</td>\n",
              "      <td>0.924763</td>\n",
              "      <td>Solar energy makes financial sense. SkyFire is...</td>\n",
              "    </tr>\n",
              "    <tr>\n",
              "      <th>767</th>\n",
              "      <td>Pivot Energy</td>\n",
              "      <td>0.907159</td>\n",
              "      <td>A national leader in comprehensive commercial ...</td>\n",
              "    </tr>\n",
              "    <tr>\n",
              "      <th>704</th>\n",
              "      <td>Northeast Solar Design Associates</td>\n",
              "      <td>0.905930</td>\n",
              "      <td>Northeast Solar is Solar Done Right. Powering ...</td>\n",
              "    </tr>\n",
              "    <tr>\n",
              "      <th>522</th>\n",
              "      <td>Ipsun Power Inc</td>\n",
              "      <td>0.905440</td>\n",
              "      <td>A Tesla Powerwall gives you the peace of mind ...</td>\n",
              "    </tr>\n",
              "    <tr>\n",
              "      <th>172</th>\n",
              "      <td>California Solar Electric Cooperative</td>\n",
              "      <td>0.896184</td>\n",
              "      <td>Our team of worker-owners is dedicated to offe...</td>\n",
              "    </tr>\n",
              "    <tr>\n",
              "      <th>930</th>\n",
              "      <td>SunBug Solar LLC</td>\n",
              "      <td>0.872666</td>\n",
              "      <td>SunBug is a full-service local solar energy co...</td>\n",
              "    </tr>\n",
              "    <tr>\n",
              "      <th>59</th>\n",
              "      <td>Arctic Solar Ventures Corporation</td>\n",
              "      <td>0.871329</td>\n",
              "      <td>See if Your Home or Business is a Good Match f...</td>\n",
              "    </tr>\n",
              "    <tr>\n",
              "      <th>795</th>\n",
              "      <td>PV Squared</td>\n",
              "      <td>0.865960</td>\n",
              "      <td>PV Squared is a worker-owned cooperative focus...</td>\n",
              "    </tr>\n",
              "    <tr>\n",
              "      <th>910</th>\n",
              "      <td>Southern Energy Management</td>\n",
              "      <td>0.852538</td>\n",
              "      <td>We help you save energy and money so you can b...</td>\n",
              "    </tr>\n",
              "    <tr>\n",
              "      <th>655</th>\n",
              "      <td>Morton Solar, LLC</td>\n",
              "      <td>0.842261</td>\n",
              "      <td>Find out from our engineers if solar is a good...</td>\n",
              "    </tr>\n",
              "    <tr>\n",
              "      <th>929</th>\n",
              "      <td>Sunbridge Solar</td>\n",
              "      <td>0.827278</td>\n",
              "      <td>Reduce your monthly power bill and better the ...</td>\n",
              "    </tr>\n",
              "    <tr>\n",
              "      <th>829</th>\n",
              "      <td>Resonant Energy</td>\n",
              "      <td>0.794144</td>\n",
              "      <td>Everyone has a right to clean, affordable ener...</td>\n",
              "    </tr>\n",
              "    <tr>\n",
              "      <th>902</th>\n",
              "      <td>Solar States</td>\n",
              "      <td>0.784380</td>\n",
              "      <td>Solar States now leads the Northeast United St...</td>\n",
              "    </tr>\n",
              "    <tr>\n",
              "      <th>873</th>\n",
              "      <td>Shaw Solar</td>\n",
              "      <td>0.779866</td>\n",
              "      <td>Bringing Solar Power to the People Since 2006 ...</td>\n",
              "    </tr>\n",
              "    <tr>\n",
              "      <th>903</th>\n",
              "      <td>Solaris Energy</td>\n",
              "      <td>0.759008</td>\n",
              "      <td>MISSION: Accelerate the widespread deployment ...</td>\n",
              "    </tr>\n",
              "    <tr>\n",
              "      <th>668</th>\n",
              "      <td>Namaste Solar</td>\n",
              "      <td>0.755848</td>\n",
              "      <td>The COVID-19 virus is impacting our communitie...</td>\n",
              "    </tr>\n",
              "    <tr>\n",
              "      <th>983</th>\n",
              "      <td>Third Sun Solar</td>\n",
              "      <td>0.726597</td>\n",
              "      <td>This is Not Business As Usual The Global Clima...</td>\n",
              "    </tr>\n",
              "    <tr>\n",
              "      <th>960</th>\n",
              "      <td>Technicians For Sustainability</td>\n",
              "      <td>0.697265</td>\n",
              "      <td>Go Solar Today in Tucson and Start Saving Sola...</td>\n",
              "    </tr>\n",
              "    <tr>\n",
              "      <th>936</th>\n",
              "      <td>Sunwealth Power, Inc.</td>\n",
              "      <td>0.661298</td>\n",
              "      <td>Sunwealth® is a clean energy investment firm o...</td>\n",
              "    </tr>\n",
              "    <tr>\n",
              "      <th>44</th>\n",
              "      <td>Amicus Solar Cooperative</td>\n",
              "      <td>0.606958</td>\n",
              "      <td>We are a special group of quality solar PV ins...</td>\n",
              "    </tr>\n",
              "    <tr>\n",
              "      <th>211</th>\n",
              "      <td>CleanChoice Energy</td>\n",
              "      <td>0.600242</td>\n",
              "      <td>By joining a solar farm, you can support the p...</td>\n",
              "    </tr>\n",
              "  </tbody>\n",
              "</table>\n",
              "</div>\n",
              "      <button class=\"colab-df-convert\" onclick=\"convertToInteractive('df-0ea7b125-8966-486e-b703-07cf300185ca')\"\n",
              "              title=\"Convert this dataframe to an interactive table.\"\n",
              "              style=\"display:none;\">\n",
              "        \n",
              "  <svg xmlns=\"http://www.w3.org/2000/svg\" height=\"24px\"viewBox=\"0 0 24 24\"\n",
              "       width=\"24px\">\n",
              "    <path d=\"M0 0h24v24H0V0z\" fill=\"none\"/>\n",
              "    <path d=\"M18.56 5.44l.94 2.06.94-2.06 2.06-.94-2.06-.94-.94-2.06-.94 2.06-2.06.94zm-11 1L8.5 8.5l.94-2.06 2.06-.94-2.06-.94L8.5 2.5l-.94 2.06-2.06.94zm10 10l.94 2.06.94-2.06 2.06-.94-2.06-.94-.94-2.06-.94 2.06-2.06.94z\"/><path d=\"M17.41 7.96l-1.37-1.37c-.4-.4-.92-.59-1.43-.59-.52 0-1.04.2-1.43.59L10.3 9.45l-7.72 7.72c-.78.78-.78 2.05 0 2.83L4 21.41c.39.39.9.59 1.41.59.51 0 1.02-.2 1.41-.59l7.78-7.78 2.81-2.81c.8-.78.8-2.07 0-2.86zM5.41 20L4 18.59l7.72-7.72 1.47 1.35L5.41 20z\"/>\n",
              "  </svg>\n",
              "      </button>\n",
              "      \n",
              "  <style>\n",
              "    .colab-df-container {\n",
              "      display:flex;\n",
              "      flex-wrap:wrap;\n",
              "      gap: 12px;\n",
              "    }\n",
              "\n",
              "    .colab-df-convert {\n",
              "      background-color: #E8F0FE;\n",
              "      border: none;\n",
              "      border-radius: 50%;\n",
              "      cursor: pointer;\n",
              "      display: none;\n",
              "      fill: #1967D2;\n",
              "      height: 32px;\n",
              "      padding: 0 0 0 0;\n",
              "      width: 32px;\n",
              "    }\n",
              "\n",
              "    .colab-df-convert:hover {\n",
              "      background-color: #E2EBFA;\n",
              "      box-shadow: 0px 1px 2px rgba(60, 64, 67, 0.3), 0px 1px 3px 1px rgba(60, 64, 67, 0.15);\n",
              "      fill: #174EA6;\n",
              "    }\n",
              "\n",
              "    [theme=dark] .colab-df-convert {\n",
              "      background-color: #3B4455;\n",
              "      fill: #D2E3FC;\n",
              "    }\n",
              "\n",
              "    [theme=dark] .colab-df-convert:hover {\n",
              "      background-color: #434B5C;\n",
              "      box-shadow: 0px 1px 3px 1px rgba(0, 0, 0, 0.15);\n",
              "      filter: drop-shadow(0px 1px 2px rgba(0, 0, 0, 0.3));\n",
              "      fill: #FFFFFF;\n",
              "    }\n",
              "  </style>\n",
              "\n",
              "      <script>\n",
              "        const buttonEl =\n",
              "          document.querySelector('#df-0ea7b125-8966-486e-b703-07cf300185ca button.colab-df-convert');\n",
              "        buttonEl.style.display =\n",
              "          google.colab.kernel.accessAllowed ? 'block' : 'none';\n",
              "\n",
              "        async function convertToInteractive(key) {\n",
              "          const element = document.querySelector('#df-0ea7b125-8966-486e-b703-07cf300185ca');\n",
              "          const dataTable =\n",
              "            await google.colab.kernel.invokeFunction('convertToInteractive',\n",
              "                                                     [key], {});\n",
              "          if (!dataTable) return;\n",
              "\n",
              "          const docLinkHtml = 'Like what you see? Visit the ' +\n",
              "            '<a target=\"_blank\" href=https://colab.research.google.com/notebooks/data_table.ipynb>data table notebook</a>'\n",
              "            + ' to learn more about interactive tables.';\n",
              "          element.innerHTML = '';\n",
              "          dataTable['output_type'] = 'display_data';\n",
              "          await google.colab.output.renderOutput(dataTable, element);\n",
              "          const docLink = document.createElement('div');\n",
              "          docLink.innerHTML = docLinkHtml;\n",
              "          element.appendChild(docLink);\n",
              "        }\n",
              "      </script>\n",
              "    </div>\n",
              "  </div>\n",
              "  "
            ]
          },
          "metadata": {},
          "execution_count": 126
        }
      ]
    },
    {
      "cell_type": "markdown",
      "source": [
        "---\n",
        "The following function allows printing a limited number of segments extracted from all those documents which are closer to a target cluster. In other terms, it allows to return some **segments** of the most relevant documents for a target cluster. \n",
        "\n",
        "You need to correctly fill all the arguments of the following function. If you're a beginner with Python, ask help to monitors."
      ],
      "metadata": {
        "id": "EFoVPB4tx_94"
      }
    },
    {
      "cell_type": "code",
      "source": [
        "print_KWIC_clusters(data = df_data_bcorp  , # data used for the analysis \n",
        "                    DTM = tfidf_DTM, # tfidf Matrix used for clustering\n",
        "                    cls_kmeans = result_kmeans, # Clustering results\n",
        "                    vocab = vectorized.vocabulary_, # Vocabulary of the vectorization\n",
        "                    k_to_analyze = 5, # Cluster to analyze\n",
        "                    n_words = 3, # Number of words to be used for the Keyword In Context extraction. These will be words with the higher tfidf values for the target cluster\n",
        "                    n_segms_per_docuemnt = 5, # Number of segment to print for each document\n",
        "                    n_documents = 3, # Number of documents closer to the centroid to use for KWIC extraction\n",
        "                    left_windows = 50, # Left window of characters\n",
        "                    right_windows = 50) # Rigth window of characters"
      ],
      "metadata": {
        "id": "VeS7475AuBS2"
      },
      "execution_count": null,
      "outputs": []
    },
    {
      "cell_type": "markdown",
      "source": [
        "<a id=\"exercie\"></a>\n",
        "# Section 4: Exercise\n",
        "\n",
        "In this section participants challenge themselves to reproduce the steps made in sections 1, 2 and 3. The exercise is completed in group mode. Each group **will present the final result of their work** in no more than 5 minutes at the end of the workshop. Below, we describe the steps of the exercise.\n",
        "\n",
        "In the <font color = 'E3A440'>first phase (10 minutes maximum)</font>, each group has to choose a sub-corpus of the whole corpus using metadata, such as `sector`, `industry`, `country`, `state` or `city`. You can choose a combination of them, for example, a sub-corpus containing companies of the agriculture sector of Canada. For analysis of textual data, you can choose between two different textual data field : \n",
        "1. `text_web_page`, which contains data collected by WaybackMachine and used for the first part of this workshop \n",
        "2. `description`, which contain a short description of companies, provided by them to BCorp organization.\n",
        "\n",
        "In the <font color = 'E3A440'>second phase (40 minutes)</font>, you will pass through all the analytical steps, from section 4.2 to section 4.8. In those sections, **_we provide you all the necessary chunks of code_** in order to succeed the exercise. In the most of these chunks of code, you only need to fill some empty parts, which are indicated with the three points `...`. Occasionally, you could modify other parts of the code (for intermediate-level participants only).\n",
        "\n",
        "In the <font color = 'E3A440'>third phase (10 minutes)</font>, you have to complete the interpretation of the results and prepare one or two points to show to the class. \n",
        "\n",
        "Below, we show the two textual fields you can choose for the exercise."
      ],
      "metadata": {
        "id": "eXZZgCj2OWB9"
      }
    },
    {
      "cell_type": "code",
      "source": [
        "df_data_bcorp[\"description\", \"text_web_page\"]"
      ],
      "metadata": {
        "id": "8HL46HTdOWB-"
      },
      "execution_count": null,
      "outputs": []
    },
    {
      "cell_type": "markdown",
      "source": [
        "## 4.1 Select your sub-corpus\n",
        "\n",
        "Look at metadata and, after discussion with members of your group, <font color = 'E3A440'>select the sub-corpus you want to explore</font>. Be sure to have enough companies in your sub-corpus (around 100 at least). \n",
        "\n",
        "Don't be afraid to ask for help to your monitor for this part!! 😀\n",
        "\n",
        "The following chunk give you an example of subsection. ⚡Pay attention the following subsection does not contain enough documents to work.\n",
        "\n",
        "Below, we provide an example of subsection of rows, regarding to the sector. We assign the result of the subsection to a new dataset named `df_data_bcorp_selection`."
      ],
      "metadata": {
        "id": "qIiO9ZT2OeXO"
      }
    },
    {
      "cell_type": "code",
      "source": [
        "df_data_bcorp_selection = df_data_bcorp[df_data_bcorp[\"sector\"]=='service']"
      ],
      "metadata": {
        "id": "0iLd4oahOdgG"
      },
      "execution_count": null,
      "outputs": []
    },
    {
      "cell_type": "markdown",
      "source": [
        "## 4.2 Morphological Analysis\n",
        "For the morphological analysis, you can choose between two textual data fields: \n",
        "\n",
        "1. `text_web_page`\n",
        "2. `description`\n",
        "\n",
        "Fill the empty part `...` with the chosen textual column of the subset created above (`df_data_bcorp_selection`)."
      ],
      "metadata": {
        "id": "6Qw6TV8cD6Ni"
      }
    },
    {
      "cell_type": "code",
      "source": [
        "df_data_bcorp_selection['text_preprocessed'] = list(nlp.pipe(df_data_bcorp_selection[...], # Fill the empty part\n",
        "                                                             disable = [\"tok2vec\",'parser','ner']))"
      ],
      "metadata": {
        "id": "3XmDQxHaD6Nm"
      },
      "execution_count": null,
      "outputs": []
    },
    {
      "cell_type": "markdown",
      "source": [
        "## 4.3 Filter lexical feature\n",
        "In this section, we load the stopword list for English. You can add words of your choice to the list. This is not necessary to succeed the exercise, but it can help if you want to remove non-meaningful words which appear later in your analysis."
      ],
      "metadata": {
        "id": "7p7L7uHDSqdT"
      }
    },
    {
      "cell_type": "code",
      "source": [
        "# download default list of stopword\n",
        "nltk.download('stopwords')\n",
        "# add custom word or words to the stopword list\n",
        "stopwords_list = set(stopwords.words('english') + ['would'])"
      ],
      "metadata": {
        "id": "z6DltLfFSp7c"
      },
      "execution_count": null,
      "outputs": []
    },
    {
      "cell_type": "markdown",
      "source": [
        "---\n",
        "Fill the empty part `...` with the list of POS tag you want to include in your feature selection"
      ],
      "metadata": {
        "id": "bci0ibz3TN52"
      }
    },
    {
      "cell_type": "code",
      "source": [
        "# initialize empty list\n",
        "text_cleaned = []\n",
        "spacy_lst_object = []\n",
        "# iterate over each preprocessed document\n",
        "for idx, row in df_data_bcorp_selection.iterrows(): \n",
        "    # keep only the lemma for each token that has been tagged as one of these POS tags [\"ADV\", \"ADJ\", \"NOUN\", \"VERB\"]\n",
        "    text = [w.lemma_.lower() for w in row['text_preprocessed'] if w.pos_ in [...] # Fill the empty part here\n",
        "            # AND its lemma IS NOT contained in the stopwords_list AND its lemma has more then 1 character\n",
        "            and w.lemma_.lower() not in stopwords_list and len(w.lemma_.lower())> 1]\n",
        "    text_cleaned.append(text)\n",
        "#\n",
        "df_data_bcorp_selection[\"text_cleaned\"] = text_cleaned"
      ],
      "metadata": {
        "id": "CicbNrbHTM9E"
      },
      "execution_count": null,
      "outputs": []
    },
    {
      "cell_type": "markdown",
      "source": [
        "## 4.4 Vectorization of lexical features\n",
        "For this step, you have to choose the values for `min_df` and `max_df` arguments. Fill the empty part `...`. At the end of the next chunk of code, we generate the frequency matrix and the Tf-IDF matrix. They are named as follows: \n",
        "1. `freq_term_DTM_selection`\n",
        "2. `tfidf_DTM_selection`\n",
        "\n",
        "The dimensions of the `freq_term_DTM_selection` is printed in order to give you an idea of the number of terms you are keeping in your matrix.\n",
        "\n",
        "Fill the empty parts `...`."
      ],
      "metadata": {
        "id": "BYP-Iiz1T2KL"
      }
    },
    {
      "cell_type": "code",
      "source": [
        "def identity_tokenizer(text):\n",
        "    return text\n",
        "\n",
        "# Transforming the word in frequencies\n",
        "vectorized = CountVectorizer(lowercase = False, # Convert all characters to lowercase before tokenizing\n",
        "                             min_df = ..., # Ignore terms that have a document frequency strictly lower than the given threshold \n",
        "                             max_df = ..., # Ignore terms that have a document frequency strictly higher than the given threshold (corpus-specific stop words)\n",
        "                             stop_words = stopwords_list, # Remove the list of words provided\n",
        "                             ngram_range = (1, 1), # Get the lower and upper boundary of the range of n-values for different word n-grams or char n-grams to be extracted\n",
        "                             tokenizer=identity_tokenizer) # Override the string tokenization step while preserving the preprocessing and n-grams generation steps\n",
        "#\n",
        "freq_term_DTM_selection = vectorized.fit_transform(df_data_bcorp_selection[\"text_cleaned\"])\n",
        "tfidf = TfidfTransformer(norm='l1')\n",
        "tfidf_DTM_selection = tfidf.fit_transform(freq_term_DTM_selection)\n",
        "#\n",
        "freq_term_DTM_selection"
      ],
      "metadata": {
        "id": "gePRWwGZT1kc"
      },
      "execution_count": null,
      "outputs": []
    },
    {
      "cell_type": "markdown",
      "source": [
        "## 4.5 Descriptive statistics"
      ],
      "metadata": {
        "id": "0-XJ5piIV3l4"
      }
    },
    {
      "cell_type": "markdown",
      "source": [
        "Get the wordcloud of most frequent words your sub-corpus. Fill the empty parts `...` with the frequency matrix you generated in the previous chunk."
      ],
      "metadata": {
        "id": "2lROewv0_sXL"
      }
    },
    {
      "cell_type": "code",
      "source": [
        "vocab = vectorized.vocabulary_\n",
        "data_WC = prepare_data_for_WC(..., # Fill with the frequency matrix\n",
        "                              vocab) \n",
        "# Create and generate a word cloud image:\n",
        "wordcloud = WordCloud().generate_from_frequencies(data_WC)\n",
        "# Display the generated image:\n",
        "plt.imshow(wordcloud, interpolation='bilinear')\n",
        "plt.axis(\"off\")\n",
        "plt.show()"
      ],
      "metadata": {
        "id": "ckfyj7D5Vufi"
      },
      "execution_count": null,
      "outputs": []
    },
    {
      "cell_type": "markdown",
      "source": [
        "## 4.6 Document clustering\n",
        "\n",
        "Here, we execute the clustering algorithm. Fill the empty parts `...`. We generate the variable `kmeans_result_selection` containing the result of the clustering.\n",
        "\n",
        "Suggestion: choose a number of clusters to generate (`n_cluster`), look at the wordclouds, come back here again to generate a new *kmeans* with another number of clusters, and look again at the result. Get the best partition looking at the wordcloud generated at each execution of the *kmeans*."
      ],
      "metadata": {
        "id": "K5bOvCxhQuVF"
      }
    },
    {
      "cell_type": "code",
      "source": [
        "kmeans_result_selection = Clustering_kmeans(DTM = ..., # Fill with the tfidf matrix\n",
        "                               reduce_lsa = True,\n",
        "                               n_comp_lsa= 300,\n",
        "                               n_clusters = ..., # choose the number of clusters you want to generate\n",
        "                               random_state = 8426,\n",
        "                               max_iter = 1000,\n",
        "                               n_init = 100,\n",
        "                               tol = 0.0001,\n",
        "                               init = \"k-means++\")"
      ],
      "metadata": {
        "id": "oGEWQP7AQt9d"
      },
      "execution_count": null,
      "outputs": []
    },
    {
      "cell_type": "markdown",
      "source": [
        "## 4.7 Wordcloud by cluster\n",
        "\n",
        "We analyze the most important words for each cluster generate above. We use the Tf-IDF matrix for this operation.\n",
        "Fill the empty parts `...`"
      ],
      "metadata": {
        "id": "NPiNA_rlQ1fe"
      }
    },
    {
      "cell_type": "code",
      "source": [
        "wordcloud_par_cluster(WordCloud(), # \n",
        "                      ..., # Fill with the tfidf matrix of your sub-corpus\n",
        "                      ..., # Fill with the results of the clustering\n",
        "                      vectorized.vocabulary_, # \n",
        "                      first_n_words = ...,\n",
        "                      figsize = (12, 10),\n",
        "                      fontsize = 32,\n",
        "                      plot_wordcloud = False, #\n",
        "                      lst_clust = [], #\n",
        "                      title_in_plot = \"Clust_\") #"
      ],
      "metadata": {
        "id": "zulRsZp_Q1fe"
      },
      "execution_count": null,
      "outputs": []
    },
    {
      "cell_type": "markdown",
      "source": [
        "## 4.8 Read most relevant document by cluster\n",
        "\n",
        "Get the most representative segments of each cluster. \n",
        "Fill the empty parts `...`.\n"
      ],
      "metadata": {
        "id": "acDWHwdARwq2"
      }
    },
    {
      "cell_type": "code",
      "source": [
        "print_KWIC_clusters(data = ...  , # data used for analysis \n",
        "                    DTM = ..., # tfidf Matrix used for clustering\n",
        "                    cls_kmeans = ..., # Clustering results\n",
        "                    vocab = vectorized.vocabulary_, # Vocabulary of the vectorization\n",
        "                    k_to_analyze = ..., # Cluster to analyze\n",
        "                    n_words = 3, # Number of words to be used for the Keyword In Context extraction. These will be words with the higher tfidf values for the target cluster\n",
        "                    n_segms_per_docuemnt = ..., # Number of segemtn to print for each document\n",
        "                    n_documents = 3, # Number of documents closer to centroid to use for KWIC extraction\n",
        "                    left_windows = 50, # Left window of character\n",
        "                    right_windows = 50) # Rigth window of character"
      ],
      "metadata": {
        "id": "rRja-PvxR90W"
      },
      "execution_count": null,
      "outputs": []
    },
    {
      "cell_type": "markdown",
      "source": [
        "## 4.9 Complete the exercise\n",
        "\n",
        "Prepare your presentation for plenary session. You have 5 minutes to present one or two elements of your group's work. "
      ],
      "metadata": {
        "id": "hfOf7_iLR-MW"
      }
    }
  ],
  "metadata": {
    "kernelspec": {
      "display_name": "Python 3",
      "language": "python",
      "name": "python3"
    },
    "language_info": {
      "codemirror_mode": {
        "name": "ipython",
        "version": 3
      },
      "file_extension": ".py",
      "mimetype": "text/x-python",
      "name": "python",
      "nbconvert_exporter": "python",
      "pygments_lexer": "ipython3",
      "version": "3.7.3"
    },
    "colab": {
      "name": "Workshop_4POINT0_Test.ipynb",
      "provenance": [],
      "toc_visible": true
    }
  },
  "nbformat": 4,
  "nbformat_minor": 0
}